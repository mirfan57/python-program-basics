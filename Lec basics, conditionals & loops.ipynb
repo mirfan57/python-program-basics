{
 "cells": [
  {
   "cell_type": "code",
   "execution_count": 5,
   "id": "b74f41a3",
   "metadata": {},
   "outputs": [
    {
     "name": "stdout",
     "output_type": "stream",
     "text": [
      "This statement is valid under elif condition\n"
     ]
    }
   ],
   "source": [
    "a=10\n",
    "b=34\n",
    "\n",
    "if a==10 and b>34:\n",
    "    print(\"This is a valid statement\")\n",
    "elif a==10 and b<=34:\n",
    "    print(\"This statement is valid under elif condition\")\n",
    "else:\n",
    "    print(\"Condition is not valid\")"
   ]
  },
  {
   "cell_type": "code",
   "execution_count": 2,
   "id": "2150e1d5",
   "metadata": {},
   "outputs": [
    {
     "data": {
      "text/plain": [
       "True"
      ]
     },
     "execution_count": 2,
     "metadata": {},
     "output_type": "execute_result"
    }
   ],
   "source": [
    "a == 10 and b > 32"
   ]
  },
  {
   "cell_type": "code",
   "execution_count": 3,
   "id": "e4296df3",
   "metadata": {},
   "outputs": [
    {
     "data": {
      "text/plain": [
       "False"
      ]
     },
     "execution_count": 3,
     "metadata": {},
     "output_type": "execute_result"
    }
   ],
   "source": [
    "a == 10 and b > 34"
   ]
  },
  {
   "cell_type": "code",
   "execution_count": 9,
   "id": "c1b68ecc",
   "metadata": {},
   "outputs": [
    {
     "name": "stdout",
     "output_type": "stream",
     "text": [
      "Statement is not valid\n"
     ]
    }
   ],
   "source": [
    "a = 20\n",
    "b = 30\n",
    "\n",
    "if a < 20 or b > 30:\n",
    "    print(\"This is a valid stat\")\n",
    "elif a < 20 or b < 30:\n",
    "    print(\"This stat is valid under elif\")\n",
    "else:\n",
    "    print(\"Statement is not valid\")"
   ]
  },
  {
   "cell_type": "code",
   "execution_count": 19,
   "id": "39111a97",
   "metadata": {},
   "outputs": [
    {
     "name": "stdout",
     "output_type": "stream",
     "text": [
      "This is my first name: mohammad\n",
      "This is my last name: irfan\n"
     ]
    }
   ],
   "source": [
    "first_name = input(\"This is my first name: \")\n",
    "last_name = input(\"This is my last name: \")"
   ]
  },
  {
   "cell_type": "code",
   "execution_count": 20,
   "id": "8657796d",
   "metadata": {},
   "outputs": [
    {
     "name": "stdout",
     "output_type": "stream",
     "text": [
      "This is correct\n"
     ]
    }
   ],
   "source": [
    "if first_name == \"mohammad\" and last_name == \"irfan\":\n",
    "    print(\"This is correct\")\n",
    "elif first_name == \"irfan\" and last_name == \"mohammad\":\n",
    "    print(\"This is not wrong\")\n",
    "else:\n",
    "    print(\"This is wrong\")"
   ]
  },
  {
   "cell_type": "code",
   "execution_count": 21,
   "id": "6170be71",
   "metadata": {},
   "outputs": [],
   "source": [
    "# While statement"
   ]
  },
  {
   "cell_type": "code",
   "execution_count": 22,
   "id": "6472c3d3",
   "metadata": {},
   "outputs": [
    {
     "name": "stdout",
     "output_type": "stream",
     "text": [
      "this is my speed\n",
      "this is my speed\n",
      "this is my speed\n",
      "this is my speed\n",
      "this is my speed\n",
      "this is my speed\n",
      "this is my speed\n",
      "this is my speed\n",
      "this is my speed\n"
     ]
    }
   ],
   "source": [
    "initial_speed = 0\n",
    "final_speed = 100\n",
    "count = 1\n",
    "\n",
    "while initial_speed < final_speed:\n",
    "    print(\"this is my speed\")\n",
    "    count = count + 1\n",
    "    if count == 10:\n",
    "        break"
   ]
  },
  {
   "cell_type": "code",
   "execution_count": 23,
   "id": "63ed9e3e",
   "metadata": {},
   "outputs": [
    {
     "name": "stdout",
     "output_type": "stream",
     "text": [
      "1\n",
      "2\n",
      "3\n",
      "4\n",
      "5\n",
      "6\n",
      "7\n"
     ]
    }
   ],
   "source": [
    "i = 1\n",
    "j = 8\n",
    "\n",
    "while i < j:\n",
    "    print(i)\n",
    "    i = i+ 1"
   ]
  },
  {
   "cell_type": "code",
   "execution_count": 24,
   "id": "c4df58bb",
   "metadata": {},
   "outputs": [
    {
     "name": "stdout",
     "output_type": "stream",
     "text": [
      "1\n",
      "2\n",
      "3\n",
      "4\n",
      "break\n"
     ]
    }
   ],
   "source": [
    "notes = 5\n",
    "i = 1\n",
    "\n",
    "while i < notes:\n",
    "    print(i)\n",
    "    i +=1\n",
    "else:\n",
    "    print(\"break\")"
   ]
  },
  {
   "cell_type": "code",
   "execution_count": 30,
   "id": "f5cc3b02",
   "metadata": {},
   "outputs": [
    {
     "name": "stdout",
     "output_type": "stream",
     "text": [
      "8\n",
      "8\n",
      "8\n",
      "8\n",
      "8\n",
      "8\n",
      "10\n",
      "12\n",
      "14\n",
      "fg\n"
     ]
    }
   ],
   "source": [
    "time = 8\n",
    "i = 3\n",
    "j = 14\n",
    "\n",
    "while time>i:\n",
    "    print(time)\n",
    "    i+=1\n",
    "else:\n",
    "    while time<=j:\n",
    "        print(time)\n",
    "        time+=2\n",
    "    else:\n",
    "        print(\"fg\")"
   ]
  },
  {
   "cell_type": "code",
   "execution_count": 31,
   "id": "20ba9eaa",
   "metadata": {},
   "outputs": [],
   "source": [
    "s = \"my name is irfan\""
   ]
  },
  {
   "cell_type": "code",
   "execution_count": 33,
   "id": "b203695b",
   "metadata": {},
   "outputs": [
    {
     "data": {
      "text/plain": [
       "'name is'"
      ]
     },
     "execution_count": 33,
     "metadata": {},
     "output_type": "execute_result"
    }
   ],
   "source": [
    "s[3:10:1]"
   ]
  },
  {
   "cell_type": "code",
   "execution_count": 35,
   "id": "650ee2c7",
   "metadata": {},
   "outputs": [],
   "source": [
    "# 3rd index is included while 10th index is exluded and step-size is 1"
   ]
  },
  {
   "cell_type": "code",
   "execution_count": 36,
   "id": "6ea1acb7",
   "metadata": {},
   "outputs": [],
   "source": [
    "# Reversal of string: To get output in reverse order use negative step-size"
   ]
  },
  {
   "cell_type": "code",
   "execution_count": 34,
   "id": "8d7893e5",
   "metadata": {},
   "outputs": [
    {
     "data": {
      "text/plain": [
       "' si ema'"
      ]
     },
     "execution_count": 34,
     "metadata": {},
     "output_type": "execute_result"
    }
   ],
   "source": [
    "s[10:3:-1]"
   ]
  },
  {
   "cell_type": "code",
   "execution_count": 37,
   "id": "eb5fbb7b",
   "metadata": {},
   "outputs": [
    {
     "data": {
      "text/plain": [
       "'nafri si eman ym'"
      ]
     },
     "execution_count": 37,
     "metadata": {},
     "output_type": "execute_result"
    }
   ],
   "source": [
    "s[::-1]"
   ]
  },
  {
   "cell_type": "code",
   "execution_count": 38,
   "id": "c018b13d",
   "metadata": {},
   "outputs": [
    {
     "data": {
      "text/plain": [
       "'a'"
      ]
     },
     "execution_count": 38,
     "metadata": {},
     "output_type": "execute_result"
    }
   ],
   "source": [
    "s[-2]"
   ]
  },
  {
   "cell_type": "code",
   "execution_count": 39,
   "id": "b357f344",
   "metadata": {},
   "outputs": [],
   "source": [
    "# In backward dir, indices are labelled as -1,-2,-3,.."
   ]
  },
  {
   "cell_type": "code",
   "execution_count": 40,
   "id": "d9b1d5d2",
   "metadata": {},
   "outputs": [
    {
     "data": {
      "text/plain": [
       "'name is ir'"
      ]
     },
     "execution_count": 40,
     "metadata": {},
     "output_type": "execute_result"
    }
   ],
   "source": [
    "s[3:-3]"
   ]
  },
  {
   "cell_type": "code",
   "execution_count": 41,
   "id": "4fdf7d70",
   "metadata": {},
   "outputs": [
    {
     "data": {
      "text/plain": [
       "'my name is irfan'"
      ]
     },
     "execution_count": 41,
     "metadata": {},
     "output_type": "execute_result"
    }
   ],
   "source": [
    "s"
   ]
  },
  {
   "cell_type": "code",
   "execution_count": null,
   "id": "64999ea7",
   "metadata": {},
   "outputs": [],
   "source": [
    "# We have to iterate over our string s\n",
    "# k is a local variable which we have created it can be anything"
   ]
  },
  {
   "cell_type": "code",
   "execution_count": 53,
   "id": "96072598",
   "metadata": {},
   "outputs": [
    {
     "name": "stdout",
     "output_type": "stream",
     "text": [
      "m\n",
      "y\n",
      " \n",
      "n\n",
      "a\n",
      "m\n",
      "e\n",
      " \n",
      "i\n",
      "this is the initials\n",
      "s\n",
      " \n",
      "i\n",
      "this is the initials\n",
      "r\n",
      "f\n",
      "a\n",
      "n\n",
      "this is last char n\n"
     ]
    }
   ],
   "source": [
    "for k in s:\n",
    "    print(k)\n",
    "    if k == 'i':\n",
    "        print(\"this is the initials\")\n",
    "else:\n",
    "    if k == 'n':\n",
    "        print(\"this is last char n\")"
   ]
  },
  {
   "cell_type": "code",
   "execution_count": 47,
   "id": "9aaabb71",
   "metadata": {},
   "outputs": [],
   "source": [
    "# After our for loop has exhausted or completed itself then only it comes in else statement"
   ]
  },
  {
   "cell_type": "code",
   "execution_count": 50,
   "id": "fbd962ce",
   "metadata": {},
   "outputs": [
    {
     "name": "stdout",
     "output_type": "stream",
     "text": [
      "m\n",
      "y\n",
      " \n",
      "n\n",
      "a\n",
      "m\n",
      "e\n",
      " \n",
      "i\n",
      "s\n",
      " \n",
      "i\n",
      "r\n",
      "a\n",
      "n\n",
      "this is last char n\n"
     ]
    }
   ],
   "source": [
    "for k in s:\n",
    "    if k == 'f':\n",
    "        continue\n",
    "    print(k)\n",
    "else:\n",
    "    if k == 'n':\n",
    "        print(\"this is last char n\")"
   ]
  },
  {
   "cell_type": "code",
   "execution_count": 54,
   "id": "71328766",
   "metadata": {},
   "outputs": [],
   "source": [
    "# continue statement will not execute the commands below and will redirect you to for loop start point again "
   ]
  },
  {
   "cell_type": "code",
   "execution_count": 55,
   "id": "6c8b12f8",
   "metadata": {},
   "outputs": [],
   "source": [
    "i = 'nomadic island'\n",
    "j = ''\n",
    "\n",
    "for k in range(len(i)):\n",
    "    if i[k] == 'i':\n",
    "        continue\n",
    "    else:\n",
    "        j = j + i[k]"
   ]
  },
  {
   "cell_type": "code",
   "execution_count": 56,
   "id": "06705352",
   "metadata": {},
   "outputs": [
    {
     "data": {
      "text/plain": [
       "'nomadc sland'"
      ]
     },
     "execution_count": 56,
     "metadata": {},
     "output_type": "execute_result"
    }
   ],
   "source": [
    "j"
   ]
  },
  {
   "cell_type": "code",
   "execution_count": 9,
   "id": "1ef789d1",
   "metadata": {},
   "outputs": [
    {
     "name": "stdout",
     "output_type": "stream",
     "text": [
      "+ \r\n",
      "+ + \r\n",
      "+ + + \r\n",
      "+ + + + \r\n",
      "+ + + + + \r\n",
      "+ + + + + + \r\n",
      "+ + + + + + + \r\n"
     ]
    }
   ],
   "source": [
    "n = 7\n",
    "\n",
    "for i in range(0,n):\n",
    "    for j in range(0,i+1):\n",
    "        print(\"+ \",end='')\n",
    "    print(\"\\r\")"
   ]
  },
  {
   "cell_type": "code",
   "execution_count": 1,
   "id": "c2d52ca7",
   "metadata": {},
   "outputs": [
    {
     "name": "stdout",
     "output_type": "stream",
     "text": [
      "* * * * * \n",
      "* * * * * \n",
      "* * * * * \n",
      "* * * * * \n",
      "* * * * * \n"
     ]
    }
   ],
   "source": [
    "n=5\n",
    "for i in range(n):\n",
    "    for j in range(n):\n",
    "        print(\"*\",end=\" \")\n",
    "    print()"
   ]
  },
  {
   "cell_type": "code",
   "execution_count": 11,
   "id": "1b5d3404",
   "metadata": {},
   "outputs": [],
   "source": [
    "# Outer loop(variable i wala) determines the rows & inner loop(var j wala) determines the columns"
   ]
  },
  {
   "cell_type": "code",
   "execution_count": 12,
   "id": "9ae0ec2a",
   "metadata": {},
   "outputs": [],
   "source": [
    "# empty print statement at the end is linked to rows or outer loop"
   ]
  },
  {
   "cell_type": "code",
   "execution_count": null,
   "id": "daf2a1fa",
   "metadata": {},
   "outputs": [],
   "source": [
    "# INCREASING STAR"
   ]
  },
  {
   "cell_type": "code",
   "execution_count": 4,
   "id": "53e4b76a",
   "metadata": {},
   "outputs": [
    {
     "name": "stdout",
     "output_type": "stream",
     "text": [
      "* \n",
      "* * \n",
      "* * * \n",
      "* * * * \n",
      "* * * * * \n"
     ]
    }
   ],
   "source": [
    "n=5\n",
    "for i in range(n):\n",
    "    for j in range(i+1):\n",
    "        print('*',end=' ')\n",
    "    print()"
   ]
  },
  {
   "cell_type": "code",
   "execution_count": null,
   "id": "68894f13",
   "metadata": {},
   "outputs": [],
   "source": [
    "# DECREASING STAR"
   ]
  },
  {
   "cell_type": "code",
   "execution_count": 8,
   "id": "d47a2344",
   "metadata": {},
   "outputs": [
    {
     "name": "stdout",
     "output_type": "stream",
     "text": [
      "* * * * * \n",
      "* * * * \n",
      "* * * \n",
      "* * \n",
      "* \n"
     ]
    }
   ],
   "source": [
    "n=5\n",
    "for i in range(n):\n",
    "    for j in range(i,n):\n",
    "        print('*',end=' ')\n",
    "    print()"
   ]
  },
  {
   "cell_type": "code",
   "execution_count": null,
   "id": "d6ad75af",
   "metadata": {},
   "outputs": [],
   "source": [
    "# Combination of DECREASING SPACE & INCREASING STAR (combo of upper two)"
   ]
  },
  {
   "cell_type": "code",
   "execution_count": 9,
   "id": "b7859432",
   "metadata": {},
   "outputs": [
    {
     "name": "stdout",
     "output_type": "stream",
     "text": [
      "          * \n",
      "        * * \n",
      "      * * * \n",
      "    * * * * \n",
      "  * * * * * \n"
     ]
    }
   ],
   "source": [
    "n=5\n",
    "for i in range(n):\n",
    "    for j in range(i,n):\n",
    "        print(' ', end=' ')\n",
    "    for j in range(i+1):\n",
    "        print('*', end=' ')\n",
    "    print()"
   ]
  },
  {
   "cell_type": "code",
   "execution_count": 13,
   "id": "eb42dfac",
   "metadata": {},
   "outputs": [],
   "source": [
    "# Combination of INCREASING SPACE & DECREASING STAR"
   ]
  },
  {
   "cell_type": "code",
   "execution_count": 6,
   "id": "af3ec0f9",
   "metadata": {},
   "outputs": [
    {
     "name": "stdout",
     "output_type": "stream",
     "text": [
      "  * * * * * \n",
      "    * * * * \n",
      "      * * * \n",
      "        * * \n",
      "          * \n"
     ]
    }
   ],
   "source": [
    "n=5\n",
    "for i in range(n):\n",
    "    for j in range(i+1):\n",
    "        print(' ',end=' ')\n",
    "    for j in range(i,n):\n",
    "        print('*',end=' ')\n",
    "    print()"
   ]
  },
  {
   "cell_type": "code",
   "execution_count": 16,
   "id": "1c92bc20",
   "metadata": {},
   "outputs": [],
   "source": [
    "# HILL PATTERN"
   ]
  },
  {
   "cell_type": "code",
   "execution_count": 18,
   "id": "745ca460",
   "metadata": {},
   "outputs": [
    {
     "name": "stdout",
     "output_type": "stream",
     "text": [
      "          * \n",
      "        * * * \n",
      "      * * * * * \n",
      "    * * * * * * * \n",
      "  * * * * * * * * * \n"
     ]
    }
   ],
   "source": [
    "n=5\n",
    "for i in range(n):\n",
    "    for j in range(i,n):\n",
    "        print(' ',end=' ')\n",
    "    for j in range(i):\n",
    "        print('*',end=' ')\n",
    "    for j in range(i+1):\n",
    "        print('*',end=' ')\n",
    "    print()"
   ]
  },
  {
   "cell_type": "code",
   "execution_count": 22,
   "id": "fceb677a",
   "metadata": {},
   "outputs": [],
   "source": [
    "# REVERSE HILL PATTERN"
   ]
  },
  {
   "cell_type": "code",
   "execution_count": 21,
   "id": "72842db6",
   "metadata": {},
   "outputs": [
    {
     "name": "stdout",
     "output_type": "stream",
     "text": [
      "  * * * * * * * * * \n",
      "    * * * * * * * \n",
      "      * * * * * \n",
      "        * * * \n",
      "          * \n"
     ]
    }
   ],
   "source": [
    "n=5\n",
    "for i in range(n):\n",
    "    for j in range(i+1):\n",
    "        print(' ',end=' ')\n",
    "    for j in range(i,n-1):\n",
    "        print('*',end=' ')\n",
    "    for j in range(i,n):\n",
    "        print('*',end=' ')\n",
    "    print()"
   ]
  },
  {
   "cell_type": "code",
   "execution_count": 1,
   "id": "3c8c5372",
   "metadata": {},
   "outputs": [
    {
     "name": "stdout",
     "output_type": "stream",
     "text": [
      "* \n",
      "* * \n",
      "* * * \n",
      "* * * * \n",
      "* * * * * \n",
      "* * * * * * \n"
     ]
    }
   ],
   "source": [
    "n=6\n",
    "for i in range(n):\n",
    "    for j in range(i+1):\n",
    "        print('*',end=' ')\n",
    "    print()"
   ]
  },
  {
   "cell_type": "code",
   "execution_count": 4,
   "id": "c2925265",
   "metadata": {},
   "outputs": [
    {
     "name": "stdout",
     "output_type": "stream",
     "text": [
      "  * * * * * * * \n",
      "    * * * * * \n",
      "      * * * \n",
      "        * \n"
     ]
    }
   ],
   "source": [
    "n=4\n",
    "for i in range(n):\n",
    "    for j in range(i+1):\n",
    "        print(' ',end=' ')\n",
    "    for j in range(i+1,n):\n",
    "        print('*',end=' ')\n",
    "    for j in range(i,n):\n",
    "        print('*',end=' ')\n",
    "    print()"
   ]
  },
  {
   "cell_type": "code",
   "execution_count": 2,
   "id": "e2bc4770",
   "metadata": {},
   "outputs": [
    {
     "name": "stdout",
     "output_type": "stream",
     "text": [
      "Enter the no. of rows: 5\n",
      "       * \n",
      "     * * * \n",
      "   * * * * * \n",
      " * * * * * * * \n",
      "* * * * * * * * * \n"
     ]
    }
   ],
   "source": [
    "n=int(input(\"Enter the no. of rows: \"))\n",
    "for i in range(n):\n",
    "    for j in range(n-2*i+2):\n",
    "        print(end=' ')\n",
    "    for j in range(2*i+1):\n",
    "        print('*',end=' ')\n",
    "    print()"
   ]
  },
  {
   "cell_type": "code",
   "execution_count": 34,
   "id": "239980f3",
   "metadata": {},
   "outputs": [
    {
     "name": "stdout",
     "output_type": "stream",
     "text": [
      "Enter the no. of rows: 6\n",
      " * * * * * * \n",
      "  * * * * * \n",
      "   * * * * \n",
      "    * * * \n",
      "     * * \n",
      "      * \n"
     ]
    }
   ],
   "source": [
    "n=int(input('Enter the no. of rows: '))\n",
    "for i in range(n):\n",
    "    for j in range(i+1):\n",
    "        print(end=\" \")\n",
    "    for j in range(i,n):\n",
    "        print('*',end=\" \")\n",
    "    print()"
   ]
  },
  {
   "cell_type": "code",
   "execution_count": 58,
   "id": "d897f918",
   "metadata": {},
   "outputs": [
    {
     "name": "stdout",
     "output_type": "stream",
     "text": [
      "Enter the no. of rows: 4\n",
      "* * * * * * * \n",
      "  * * * * * \n",
      "    * * * \n",
      "      * \n"
     ]
    }
   ],
   "source": [
    "n=int(input('Enter the no. of rows: '))\n",
    "for i in range(n,0,-1):\n",
    "    for j in range(n-i):\n",
    "        print(' ',end=' ')\n",
    "    for j in range(2*i-1):\n",
    "        print('*',end=' ')\n",
    "    print()"
   ]
  },
  {
   "cell_type": "code",
   "execution_count": 60,
   "id": "c8ff5e45",
   "metadata": {},
   "outputs": [
    {
     "name": "stdout",
     "output_type": "stream",
     "text": [
      "Enter the no. of rows: 5\n",
      "          * \n",
      "        * * * \n",
      "      * * * * * \n",
      "    * * * * * * * \n",
      "  * * * * * * * * * \n"
     ]
    }
   ],
   "source": [
    "n=int(input('Enter the no. of rows: '))\n",
    "for i in range(n):\n",
    "    for j in range(i,n):\n",
    "        print(' ',end=' ')\n",
    "    for j in range(2*i+1):\n",
    "        print('*',end=' ')\n",
    "    print()"
   ]
  },
  {
   "cell_type": "code",
   "execution_count": 5,
   "id": "29a94d22",
   "metadata": {},
   "outputs": [
    {
     "name": "stdout",
     "output_type": "stream",
     "text": [
      "Enter the no. of rows: 4\n",
      "      * \n",
      "    * * * \n",
      "  * * * * * \n",
      "* * * * * * * \n"
     ]
    }
   ],
   "source": [
    "n=int(input('Enter the no. of rows: '))\n",
    "row = 0\n",
    "\n",
    "while row<n:\n",
    "    space = n-row-1\n",
    "    while space>0:\n",
    "        print(' ',end=' ')\n",
    "        space=space-1\n",
    "    star=2*row+1\n",
    "    while star>0:\n",
    "        print('*',end=' ')\n",
    "        star=star-1\n",
    "    row=row+1\n",
    "    print()"
   ]
  },
  {
   "cell_type": "code",
   "execution_count": 9,
   "id": "f33c40fc",
   "metadata": {},
   "outputs": [],
   "source": [
    "l=[\"mohai\",45356,\"golconda\", 45+6j,45.77,[45,6,\"hjd\",3.5]]"
   ]
  },
  {
   "cell_type": "code",
   "execution_count": 10,
   "id": "257e0106",
   "metadata": {},
   "outputs": [
    {
     "name": "stdout",
     "output_type": "stream",
     "text": [
      "<class 'int'>\n",
      "<class 'int'>\n",
      "<class 'str'>\n",
      "<class 'float'>\n"
     ]
    }
   ],
   "source": [
    "for i in l:\n",
    "    if type(i)==list:\n",
    "        for j in i:\n",
    "            print(type(j))"
   ]
  },
  {
   "cell_type": "code",
   "execution_count": 14,
   "id": "d7f47f01",
   "metadata": {},
   "outputs": [
    {
     "name": "stdout",
     "output_type": "stream",
     "text": [
      "51\n"
     ]
    }
   ],
   "source": [
    "for i in l:\n",
    "    if type(i)==list:\n",
    "        n=0\n",
    "        for j in i:\n",
    "            if type(j)==int:\n",
    "                n=n+j\n",
    "        print(n)"
   ]
  },
  {
   "cell_type": "code",
   "execution_count": 15,
   "id": "4a221435",
   "metadata": {},
   "outputs": [
    {
     "data": {
      "text/plain": [
       "['mohai', 45356, 'golconda', (45+6j), 45.77]"
      ]
     },
     "execution_count": 15,
     "metadata": {},
     "output_type": "execute_result"
    }
   ],
   "source": [
    "l[0:5]"
   ]
  },
  {
   "cell_type": "code",
   "execution_count": 16,
   "id": "ef26b1ae",
   "metadata": {},
   "outputs": [
    {
     "data": {
      "text/plain": [
       "[0, 1, 2, 3, 4, 5, 6]"
      ]
     },
     "execution_count": 16,
     "metadata": {},
     "output_type": "execute_result"
    }
   ],
   "source": [
    "list(range(7))"
   ]
  },
  {
   "cell_type": "code",
   "execution_count": 19,
   "id": "5eb49dcd",
   "metadata": {},
   "outputs": [],
   "source": [
    "l1=list([3,24,5])"
   ]
  },
  {
   "cell_type": "code",
   "execution_count": 20,
   "id": "b8a66566",
   "metadata": {},
   "outputs": [
    {
     "data": {
      "text/plain": [
       "[3, 24, 5]"
      ]
     },
     "execution_count": 20,
     "metadata": {},
     "output_type": "execute_result"
    }
   ],
   "source": [
    "l1"
   ]
  },
  {
   "cell_type": "code",
   "execution_count": null,
   "id": "67f9987f",
   "metadata": {},
   "outputs": [],
   "source": []
  }
 ],
 "metadata": {
  "kernelspec": {
   "display_name": "Python 3",
   "language": "python",
   "name": "python3"
  },
  "language_info": {
   "codemirror_mode": {
    "name": "ipython",
    "version": 3
   },
   "file_extension": ".py",
   "mimetype": "text/x-python",
   "name": "python",
   "nbconvert_exporter": "python",
   "pygments_lexer": "ipython3",
   "version": "3.8.8"
  }
 },
 "nbformat": 4,
 "nbformat_minor": 5
}
