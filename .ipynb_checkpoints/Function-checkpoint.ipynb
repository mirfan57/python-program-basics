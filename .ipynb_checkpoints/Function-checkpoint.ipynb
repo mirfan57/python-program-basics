{
 "cells": [
  {
   "cell_type": "markdown",
   "id": "dbcbf160",
   "metadata": {},
   "source": [
    "## Function\n",
    "\n",
    "- Required argument\n",
    "- Keyword argument\n",
    "- Default argument\n",
    "- Variable arguments"
   ]
  },
  {
   "cell_type": "code",
   "execution_count": 1,
   "id": "2e81be82",
   "metadata": {},
   "outputs": [
    {
     "data": {
      "text/plain": [
       "9"
      ]
     },
     "execution_count": 1,
     "metadata": {},
     "output_type": "execute_result"
    }
   ],
   "source": [
    "a=3\n",
    "b=6\n",
    "a+b"
   ]
  },
  {
   "cell_type": "markdown",
   "id": "906c93b8",
   "metadata": {},
   "source": [
    "#### From a function's perspective:\n",
    "\n",
    "###### A parameter is the variable listed inside the parentheses in the function definition.\n",
    "\n",
    "###### An argument is the value that is sent to the function when it is called."
   ]
  },
  {
   "cell_type": "code",
   "execution_count": 2,
   "id": "c827fbe1",
   "metadata": {},
   "outputs": [],
   "source": [
    "def test(x,y):\n",
    "    print(x+y)"
   ]
  },
  {
   "cell_type": "code",
   "execution_count": 3,
   "id": "fbb3ee4b",
   "metadata": {},
   "outputs": [
    {
     "name": "stdout",
     "output_type": "stream",
     "text": [
      "9\n"
     ]
    }
   ],
   "source": [
    "test(3,6)"
   ]
  },
  {
   "cell_type": "code",
   "execution_count": 9,
   "id": "cc4444d8",
   "metadata": {},
   "outputs": [
    {
     "name": "stdout",
     "output_type": "stream",
     "text": [
      "120.7\n"
     ]
    }
   ],
   "source": [
    "a=test(45,75.7)"
   ]
  },
  {
   "cell_type": "code",
   "execution_count": 10,
   "id": "b9aa87d2",
   "metadata": {},
   "outputs": [],
   "source": [
    "a"
   ]
  },
  {
   "cell_type": "markdown",
   "id": "62fb7fe4",
   "metadata": {},
   "source": [
    "`a` doesn't print anything when we call it seperately after assigning it previously as the `print` statement gives a `NoneType` datatype"
   ]
  },
  {
   "cell_type": "code",
   "execution_count": 5,
   "id": "430407dd",
   "metadata": {},
   "outputs": [
    {
     "name": "stdout",
     "output_type": "stream",
     "text": [
      "10\n"
     ]
    },
    {
     "data": {
      "text/plain": [
       "NoneType"
      ]
     },
     "execution_count": 5,
     "metadata": {},
     "output_type": "execute_result"
    }
   ],
   "source": [
    "type(test(4,6))"
   ]
  },
  {
   "cell_type": "code",
   "execution_count": 6,
   "id": "8469a0f4",
   "metadata": {},
   "outputs": [],
   "source": [
    "def test1(m,n):\n",
    "    return m*n"
   ]
  },
  {
   "cell_type": "code",
   "execution_count": 7,
   "id": "e66bf1cc",
   "metadata": {},
   "outputs": [
    {
     "data": {
      "text/plain": [
       "18"
      ]
     },
     "execution_count": 7,
     "metadata": {},
     "output_type": "execute_result"
    }
   ],
   "source": [
    "test1(3,6)"
   ]
  },
  {
   "cell_type": "code",
   "execution_count": 8,
   "id": "5d2939a6",
   "metadata": {},
   "outputs": [
    {
     "data": {
      "text/plain": [
       "int"
      ]
     },
     "execution_count": 8,
     "metadata": {},
     "output_type": "execute_result"
    }
   ],
   "source": [
    "type(test1(3,7))"
   ]
  },
  {
   "cell_type": "markdown",
   "id": "7e1e4e6a",
   "metadata": {},
   "source": [
    "`return` tries to give us the exact datatype of the operation we want it to execute and return"
   ]
  },
  {
   "cell_type": "code",
   "execution_count": 11,
   "id": "66562dec",
   "metadata": {},
   "outputs": [],
   "source": [
    "a=test1(75,4)"
   ]
  },
  {
   "cell_type": "code",
   "execution_count": 12,
   "id": "ca888b54",
   "metadata": {},
   "outputs": [
    {
     "data": {
      "text/plain": [
       "300"
      ]
     },
     "execution_count": 12,
     "metadata": {},
     "output_type": "execute_result"
    }
   ],
   "source": [
    "a"
   ]
  },
  {
   "cell_type": "code",
   "execution_count": 13,
   "id": "d6038186",
   "metadata": {},
   "outputs": [
    {
     "data": {
      "text/plain": [
       "655"
      ]
     },
     "execution_count": 13,
     "metadata": {},
     "output_type": "execute_result"
    }
   ],
   "source": [
    "a+355"
   ]
  },
  {
   "cell_type": "code",
   "execution_count": 14,
   "id": "3f511769",
   "metadata": {},
   "outputs": [],
   "source": [
    "def test2(a,b,c):\n",
    "    return a+b*c, a-3+b, c*b-a"
   ]
  },
  {
   "cell_type": "code",
   "execution_count": 18,
   "id": "8e616660",
   "metadata": {},
   "outputs": [
    {
     "data": {
      "text/plain": [
       "(38, 5, 32)"
      ]
     },
     "execution_count": 18,
     "metadata": {},
     "output_type": "execute_result"
    }
   ],
   "source": [
    "test2(3,5,7)"
   ]
  },
  {
   "cell_type": "code",
   "execution_count": 17,
   "id": "3926344e",
   "metadata": {},
   "outputs": [
    {
     "data": {
      "text/plain": [
       "tuple"
      ]
     },
     "execution_count": 17,
     "metadata": {},
     "output_type": "execute_result"
    }
   ],
   "source": [
    "type(test2(3,5,3))"
   ]
  },
  {
   "cell_type": "code",
   "execution_count": 19,
   "id": "d9536a49",
   "metadata": {},
   "outputs": [],
   "source": [
    "f,g,h=test2(3,5,7)"
   ]
  },
  {
   "cell_type": "code",
   "execution_count": 20,
   "id": "8ed77dd7",
   "metadata": {},
   "outputs": [
    {
     "data": {
      "text/plain": [
       "38"
      ]
     },
     "execution_count": 20,
     "metadata": {},
     "output_type": "execute_result"
    }
   ],
   "source": [
    "f"
   ]
  },
  {
   "cell_type": "code",
   "execution_count": 21,
   "id": "522a17f7",
   "metadata": {},
   "outputs": [
    {
     "data": {
      "text/plain": [
       "5"
      ]
     },
     "execution_count": 21,
     "metadata": {},
     "output_type": "execute_result"
    }
   ],
   "source": [
    "g"
   ]
  },
  {
   "cell_type": "code",
   "execution_count": 22,
   "id": "1f093b48",
   "metadata": {},
   "outputs": [
    {
     "data": {
      "text/plain": [
       "32"
      ]
     },
     "execution_count": 22,
     "metadata": {},
     "output_type": "execute_result"
    }
   ],
   "source": [
    "h"
   ]
  },
  {
   "cell_type": "markdown",
   "id": "70925cf3",
   "metadata": {},
   "source": [
    "For example, if you don't want middle data i.e. a-3+b then you can reduce variable g and replace it by a placeholder(_). I am not holding the return of the function anywhere."
   ]
  },
  {
   "cell_type": "code",
   "execution_count": 23,
   "id": "bd691087",
   "metadata": {},
   "outputs": [],
   "source": [
    "f,_,h=test2(3,5,7)"
   ]
  },
  {
   "cell_type": "code",
   "execution_count": 24,
   "id": "a7801e03",
   "metadata": {},
   "outputs": [
    {
     "data": {
      "text/plain": [
       "38"
      ]
     },
     "execution_count": 24,
     "metadata": {},
     "output_type": "execute_result"
    }
   ],
   "source": [
    "f"
   ]
  },
  {
   "cell_type": "code",
   "execution_count": 25,
   "id": "0c264e37",
   "metadata": {},
   "outputs": [
    {
     "data": {
      "text/plain": [
       "5"
      ]
     },
     "execution_count": 25,
     "metadata": {},
     "output_type": "execute_result"
    }
   ],
   "source": [
    "_"
   ]
  },
  {
   "cell_type": "code",
   "execution_count": 26,
   "id": "2f8a1c18",
   "metadata": {},
   "outputs": [
    {
     "data": {
      "text/plain": [
       "32"
      ]
     },
     "execution_count": 26,
     "metadata": {},
     "output_type": "execute_result"
    }
   ],
   "source": [
    "h"
   ]
  },
  {
   "cell_type": "code",
   "execution_count": 27,
   "id": "6f3633fd",
   "metadata": {},
   "outputs": [],
   "source": [
    "def test():\n",
    "    print('This is my class')"
   ]
  },
  {
   "cell_type": "code",
   "execution_count": 28,
   "id": "d1df55ff",
   "metadata": {},
   "outputs": [
    {
     "name": "stdout",
     "output_type": "stream",
     "text": [
      "This is my class\n"
     ]
    }
   ],
   "source": [
    "c=test()"
   ]
  },
  {
   "cell_type": "code",
   "execution_count": 29,
   "id": "d48b9f0d",
   "metadata": {},
   "outputs": [
    {
     "ename": "TypeError",
     "evalue": "unsupported operand type(s) for +: 'NoneType' and 'str'",
     "output_type": "error",
     "traceback": [
      "\u001b[1;31m---------------------------------------------------------------------------\u001b[0m",
      "\u001b[1;31mTypeError\u001b[0m                                 Traceback (most recent call last)",
      "\u001b[1;32m<ipython-input-29-6a6d2c523b76>\u001b[0m in \u001b[0;36m<module>\u001b[1;34m\u001b[0m\n\u001b[1;32m----> 1\u001b[1;33m \u001b[0mc\u001b[0m\u001b[1;33m+\u001b[0m\u001b[1;34m'work'\u001b[0m\u001b[1;33m\u001b[0m\u001b[1;33m\u001b[0m\u001b[0m\n\u001b[0m",
      "\u001b[1;31mTypeError\u001b[0m: unsupported operand type(s) for +: 'NoneType' and 'str'"
     ]
    }
   ],
   "source": [
    "c+'work'"
   ]
  },
  {
   "cell_type": "code",
   "execution_count": 30,
   "id": "ab5fbd1d",
   "metadata": {},
   "outputs": [],
   "source": [
    "def test4():\n",
    "    return \"This is my class\""
   ]
  },
  {
   "cell_type": "code",
   "execution_count": 31,
   "id": "efeabd8a",
   "metadata": {},
   "outputs": [],
   "source": [
    "d=test4()"
   ]
  },
  {
   "cell_type": "code",
   "execution_count": 32,
   "id": "e81dd03b",
   "metadata": {},
   "outputs": [
    {
     "data": {
      "text/plain": [
       "'This is my classwork'"
      ]
     },
     "execution_count": 32,
     "metadata": {},
     "output_type": "execute_result"
    }
   ],
   "source": [
    "d+'work'"
   ]
  },
  {
   "cell_type": "code",
   "execution_count": 33,
   "id": "61ed92ea",
   "metadata": {},
   "outputs": [],
   "source": [
    "def test5(n):\n",
    "    return n*3"
   ]
  },
  {
   "cell_type": "code",
   "execution_count": 34,
   "id": "d3091339",
   "metadata": {},
   "outputs": [
    {
     "data": {
      "text/plain": [
       "[3, 5, 7, 3, 5, 7, 3, 5, 7]"
      ]
     },
     "execution_count": 34,
     "metadata": {},
     "output_type": "execute_result"
    }
   ],
   "source": [
    "test5([3,5,7])"
   ]
  },
  {
   "cell_type": "code",
   "execution_count": 35,
   "id": "785d8379",
   "metadata": {},
   "outputs": [],
   "source": [
    "def test6(n):\n",
    "    return n, n*2"
   ]
  },
  {
   "cell_type": "code",
   "execution_count": 38,
   "id": "d7e4dd34",
   "metadata": {},
   "outputs": [
    {
     "data": {
      "text/plain": [
       "([3, 4, 2], [3, 4, 2, 3, 4, 2])"
      ]
     },
     "execution_count": 38,
     "metadata": {},
     "output_type": "execute_result"
    }
   ],
   "source": [
    "a = test6([3,4,2])\n",
    "a"
   ]
  },
  {
   "cell_type": "code",
   "execution_count": 39,
   "id": "bfb42bc4",
   "metadata": {},
   "outputs": [
    {
     "data": {
      "text/plain": [
       "[3, 4, 2]"
      ]
     },
     "execution_count": 39,
     "metadata": {},
     "output_type": "execute_result"
    }
   ],
   "source": [
    "a[0]"
   ]
  },
  {
   "cell_type": "code",
   "execution_count": 40,
   "id": "b4bedf0b",
   "metadata": {},
   "outputs": [
    {
     "data": {
      "text/plain": [
       "[3, 4, 2, 3, 4, 2]"
      ]
     },
     "execution_count": 40,
     "metadata": {},
     "output_type": "execute_result"
    }
   ],
   "source": [
    "a[1]"
   ]
  },
  {
   "cell_type": "code",
   "execution_count": 42,
   "id": "8b208f7c",
   "metadata": {},
   "outputs": [],
   "source": [
    "def test7(n,m=3):\n",
    "    return n-m"
   ]
  },
  {
   "cell_type": "code",
   "execution_count": 43,
   "id": "0adee5d6",
   "metadata": {},
   "outputs": [
    {
     "data": {
      "text/plain": [
       "0"
      ]
     },
     "execution_count": 43,
     "metadata": {},
     "output_type": "execute_result"
    }
   ],
   "source": [
    "test7(3)"
   ]
  },
  {
   "cell_type": "code",
   "execution_count": 45,
   "id": "1256d627",
   "metadata": {},
   "outputs": [],
   "source": [
    "def boolx(x=True,y=False):\n",
    "    return x*y"
   ]
  },
  {
   "cell_type": "code",
   "execution_count": 46,
   "id": "3a196e6c",
   "metadata": {},
   "outputs": [
    {
     "data": {
      "text/plain": [
       "0"
      ]
     },
     "execution_count": 46,
     "metadata": {},
     "output_type": "execute_result"
    }
   ],
   "source": [
    "boolx(False)"
   ]
  },
  {
   "cell_type": "code",
   "execution_count": 47,
   "id": "006c0b60",
   "metadata": {},
   "outputs": [
    {
     "data": {
      "text/plain": [
       "4"
      ]
     },
     "execution_count": 47,
     "metadata": {},
     "output_type": "execute_result"
    }
   ],
   "source": [
    "boolx(True,4)"
   ]
  },
  {
   "cell_type": "code",
   "execution_count": 48,
   "id": "387983e4",
   "metadata": {},
   "outputs": [
    {
     "data": {
      "text/plain": [
       "0"
      ]
     },
     "execution_count": 48,
     "metadata": {},
     "output_type": "execute_result"
    }
   ],
   "source": [
    "boolx(3,False)"
   ]
  },
  {
   "cell_type": "markdown",
   "id": "cf7e4dcb",
   "metadata": {},
   "source": [
    "I am able to overwrite the existing values which someone has given at time of fucntion creation."
   ]
  },
  {
   "cell_type": "code",
   "execution_count": 49,
   "id": "057018a0",
   "metadata": {},
   "outputs": [],
   "source": [
    "def travel(bike=True,car=False):\n",
    "    plan_travel = bike and car\n",
    "    return car, bike, plan_travel"
   ]
  },
  {
   "cell_type": "code",
   "execution_count": 50,
   "id": "776d5ca1",
   "metadata": {},
   "outputs": [
    {
     "data": {
      "text/plain": [
       "(False, True, False)"
      ]
     },
     "execution_count": 50,
     "metadata": {},
     "output_type": "execute_result"
    }
   ],
   "source": [
    "travel()"
   ]
  },
  {
   "cell_type": "code",
   "execution_count": 51,
   "id": "f4062d76",
   "metadata": {},
   "outputs": [
    {
     "data": {
      "text/plain": [
       "(False, False, False)"
      ]
     },
     "execution_count": 51,
     "metadata": {},
     "output_type": "execute_result"
    }
   ],
   "source": [
    "travel(False)"
   ]
  },
  {
   "cell_type": "markdown",
   "id": "24aa1ad8",
   "metadata": {},
   "source": [
    "By default it assigns the value `False` to first variable in argument i.e. bike. To assign a diff value to car we need to specify and assign it as below."
   ]
  },
  {
   "cell_type": "code",
   "execution_count": 52,
   "id": "443af53a",
   "metadata": {},
   "outputs": [
    {
     "data": {
      "text/plain": [
       "(True, True, True)"
      ]
     },
     "execution_count": 52,
     "metadata": {},
     "output_type": "execute_result"
    }
   ],
   "source": [
    "travel(car=True)"
   ]
  },
  {
   "cell_type": "code",
   "execution_count": 4,
   "id": "5e6685b0",
   "metadata": {},
   "outputs": [],
   "source": [
    "def test8(*args):\n",
    "    return args"
   ]
  },
  {
   "cell_type": "markdown",
   "id": "49bfd0f2",
   "metadata": {},
   "source": [
    "using `*args`, I can provide any number of arguments as I want and accordingly it will return value based upon the operation."
   ]
  },
  {
   "cell_type": "code",
   "execution_count": 5,
   "id": "20a5a18c",
   "metadata": {},
   "outputs": [
    {
     "data": {
      "text/plain": [
       "('ineuron', 'full', 34.4, 'stack', [3, 'dev'], (4, 2))"
      ]
     },
     "execution_count": 5,
     "metadata": {},
     "output_type": "execute_result"
    }
   ],
   "source": [
    "test8('ineuron','full',34.4,'stack',[3,'dev'],(4,2))"
   ]
  },
  {
   "cell_type": "markdown",
   "id": "84f54816",
   "metadata": {},
   "source": [
    "#### Write a function which can take multiple lists and finally return a single list i.e. performs concatenation operation."
   ]
  },
  {
   "cell_type": "code",
   "execution_count": 6,
   "id": "ecbe49be",
   "metadata": {},
   "outputs": [],
   "source": [
    "\n",
    "def myfun(*args ):\n",
    "    l=[]\n",
    "    for i in args:\n",
    "        l=l+i\n",
    "    return l"
   ]
  },
  {
   "cell_type": "code",
   "execution_count": 7,
   "id": "0c66e0d7",
   "metadata": {},
   "outputs": [
    {
     "data": {
      "text/plain": [
       "[2, 3, 4, 5, 5, 6, 6, 7]"
      ]
     },
     "execution_count": 7,
     "metadata": {},
     "output_type": "execute_result"
    }
   ],
   "source": [
    "myfun([2,3],[4,5],[5,6],[6,7])"
   ]
  },
  {
   "cell_type": "code",
   "execution_count": 8,
   "id": "c9703b33",
   "metadata": {},
   "outputs": [
    {
     "data": {
      "text/plain": [
       "[34, 4, 5, 3, 5, 6, 3, 6.4, 3, 3.7, 4, 45, 3, 67, 4, 6, 3]"
      ]
     },
     "execution_count": 8,
     "metadata": {},
     "output_type": "execute_result"
    }
   ],
   "source": [
    "myfun([34,4,5],[3,5],[6,3],[6.4,3],[3.7,4],[45,3],[67,4],[6,3])"
   ]
  },
  {
   "cell_type": "code",
   "execution_count": 11,
   "id": "9891d7f8",
   "metadata": {},
   "outputs": [],
   "source": [
    "def myfun1(*args):\n",
    "    l=[]\n",
    "    return [l.extend(i) for i in args]"
   ]
  },
  {
   "cell_type": "code",
   "execution_count": 12,
   "id": "f5a237dd",
   "metadata": {},
   "outputs": [
    {
     "data": {
      "text/plain": [
       "[None, None, None, None]"
      ]
     },
     "execution_count": 12,
     "metadata": {},
     "output_type": "execute_result"
    }
   ],
   "source": [
    "myfun1([2,3],[4,5],[5,6],[6,7])"
   ]
  },
  {
   "cell_type": "code",
   "execution_count": 29,
   "id": "68f85164",
   "metadata": {},
   "outputs": [],
   "source": [
    "def fu(*args):\n",
    "    l=[]\n",
    "    for i in args:\n",
    "        l.extend(i)\n",
    "    return l"
   ]
  },
  {
   "cell_type": "code",
   "execution_count": 30,
   "id": "57dde49b",
   "metadata": {},
   "outputs": [
    {
     "data": {
      "text/plain": [
       "[3, 4, 6, 4, 7, 2]"
      ]
     },
     "execution_count": 30,
     "metadata": {},
     "output_type": "execute_result"
    }
   ],
   "source": [
    "fu([3,4],[6,4],[7,2])"
   ]
  },
  {
   "cell_type": "markdown",
   "id": "94d593ba",
   "metadata": {},
   "source": [
    "using `**kwargs` (keyword args), I can provide any number of arguments to a function but in a key & value pair."
   ]
  },
  {
   "cell_type": "code",
   "execution_count": 63,
   "id": "71b564e2",
   "metadata": {},
   "outputs": [],
   "source": [
    "def test8(**kwargs):\n",
    "    return kwargs"
   ]
  },
  {
   "cell_type": "code",
   "execution_count": 64,
   "id": "de5b5f30",
   "metadata": {},
   "outputs": [
    {
     "data": {
      "text/plain": [
       "{'b': 3, 'a': 4, 'c': 5}"
      ]
     },
     "execution_count": 64,
     "metadata": {},
     "output_type": "execute_result"
    }
   ],
   "source": [
    "test8(b=3, a=4, c=5)"
   ]
  },
  {
   "cell_type": "code",
   "execution_count": 37,
   "id": "ad12a1c6",
   "metadata": {},
   "outputs": [
    {
     "data": {
      "text/plain": [
       "{'a': 'sufh', 'b': False, 'c': [4, 5.6], 'd': (34, 5)}"
      ]
     },
     "execution_count": 37,
     "metadata": {},
     "output_type": "execute_result"
    }
   ],
   "source": [
    "test8(a='sufh', b=False, c=[4,5.6],d=(34,5))"
   ]
  },
  {
   "cell_type": "markdown",
   "id": "251a9636",
   "metadata": {},
   "source": [
    "So we can conclude that `*args` return `tuples` and `**kwargs` returns `dictionary`. "
   ]
  },
  {
   "cell_type": "markdown",
   "id": "47cf7326",
   "metadata": {},
   "source": [
    "### Class Task\n",
    "#### 1. Create a function which takes any number of mixed data and create a list of seperate data based on datatype & return multiple result.\n",
    "#### 2. Create a functtion which will be able to use *args and **kwargs and will be able to do all the list value concatenation and return a list."
   ]
  },
  {
   "cell_type": "code",
   "execution_count": 22,
   "id": "c27b625d",
   "metadata": {},
   "outputs": [],
   "source": [
    "# Solution 1.\n",
    "def fun(*args):\n",
    "    l1=[]\n",
    "    l2=[]\n",
    "    l3=[]\n",
    "    l4=[]\n",
    "    l5=[]\n",
    "    l6=[]\n",
    "    for i in args:\n",
    "        if type(i) == int:\n",
    "            l1.append(i)\n",
    "        if type(i) == str:\n",
    "            l2.append(i)\n",
    "        if type(i) == bool:\n",
    "            l3.append(i)\n",
    "        if type(i) == float:\n",
    "            l4.append(i)\n",
    "        if type(i) == list:\n",
    "            l5.append(i)\n",
    "        if type(i) == tuple:\n",
    "            l6.append(i)\n",
    "    print('integer-->',l1,'string-->',l2,'boolean-->',l3,'float-->',l4,'list',l5,'tuple',l6)\n",
    "    return l1, l2, l3, l4, l5, l6"
   ]
  },
  {
   "cell_type": "code",
   "execution_count": 23,
   "id": "8fd174fa",
   "metadata": {},
   "outputs": [
    {
     "name": "stdout",
     "output_type": "stream",
     "text": [
      "integer--> [99, 34] string--> ['raa', 'neuron'] boolean--> [True, False, False] float--> [35.7, 5.33] list [[4, 6], [75, 2]] tuple [(3, 4, 6.1), (5, 3)]\n"
     ]
    },
    {
     "data": {
      "text/plain": [
       "([99, 34],\n",
       " ['raa', 'neuron'],\n",
       " [True, False, False],\n",
       " [35.7, 5.33],\n",
       " [[4, 6], [75, 2]],\n",
       " [(3, 4, 6.1), (5, 3)])"
      ]
     },
     "execution_count": 23,
     "metadata": {},
     "output_type": "execute_result"
    }
   ],
   "source": [
    "fun('raa',[4,6],True,35.7,99,False,(3,4,6.1),[75,2],'neuron',(5,3),34,5.33,False)"
   ]
  },
  {
   "cell_type": "code",
   "execution_count": 16,
   "id": "8c276950",
   "metadata": {},
   "outputs": [],
   "source": [
    "def f1(*args):\n",
    "    d={}\n",
    "    for i in args:\n",
    "        k=type(i)\n",
    "        if k not in d:\n",
    "            d[k]=[]\n",
    "        d[k].append(i)\n",
    "    return d"
   ]
  },
  {
   "cell_type": "code",
   "execution_count": 17,
   "id": "d0bf9f26",
   "metadata": {},
   "outputs": [
    {
     "data": {
      "text/plain": [
       "{int: [3, 34],\n",
       " float: [4.6, 32.6],\n",
       " tuple: [(34, 5), (34, 7.5)],\n",
       " str: ['new'],\n",
       " bool: [False, True],\n",
       " list: [[4, 3]],\n",
       " complex: [(4+5j)]}"
      ]
     },
     "execution_count": 17,
     "metadata": {},
     "output_type": "execute_result"
    }
   ],
   "source": [
    "f1(3,4.6,(34,5),'new',32.6,False,[4,3],4+5j,34,True,(34,7.5))"
   ]
  },
  {
   "cell_type": "code",
   "execution_count": 2,
   "id": "9d9e6fe4",
   "metadata": {},
   "outputs": [
    {
     "data": {
      "text/plain": [
       "\"Second time when we encounter an integer say 34, since we already have the 'int' key we need not create it, instead we \\njust append 34 to the existing list for the 'int' key which makes that list now [3,34] and so on.\""
      ]
     },
     "execution_count": 2,
     "metadata": {},
     "output_type": "execute_result"
    }
   ],
   "source": [
    "def f2(*args):\n",
    "    d={}\n",
    "    for i in args:                          # iterates through the arguments. First arg is integer 3.\n",
    "        if type(i) not in d:                # checks type(3) which is int and it is not present in d.\n",
    "            d[type(i)]=[]                   # So, add the key(int) in the dictionary and assign an empty list.\n",
    "        d[type(i)].append(i)                # we then append 3 to that list.\n",
    "    return d                                # List for 'int' key just contains the integer 3.\n",
    "\n",
    "'''Second time when we encounter an integer say 34, since we already have the 'int' key we need not create it, instead we \n",
    "just append 34 to the existing list for the 'int' key which makes that list now [3,34] and so on.'''"
   ]
  },
  {
   "cell_type": "code",
   "execution_count": 24,
   "id": "b2974f86",
   "metadata": {},
   "outputs": [
    {
     "data": {
      "text/plain": [
       "{int: [3, 34],\n",
       " float: [4.6, 32.6],\n",
       " tuple: [(34, 5), (34, 7.5)],\n",
       " str: ['new', 'blu'],\n",
       " bool: [False, True],\n",
       " list: [[4, 3]],\n",
       " complex: [(4+5j)]}"
      ]
     },
     "execution_count": 24,
     "metadata": {},
     "output_type": "execute_result"
    }
   ],
   "source": [
    "f2(3,4.6,(34,5),'new',32.6,False,[4,3],4+5j,34,'blu',True,(34,7.5))"
   ]
  },
  {
   "cell_type": "code",
   "execution_count": 5,
   "id": "2ef9a926",
   "metadata": {},
   "outputs": [],
   "source": [
    "# Solution 1. DYNAMIC CODE (we can give any data-type and it returns the value)\n",
    "def fun0(*args):\n",
    "    d={}\n",
    "    for i in args:\n",
    "        if type(i) in d:\n",
    "            d[type(i)].append(i)\n",
    "        else:\n",
    "            d[type(i)] = [i]\n",
    "    return d"
   ]
  },
  {
   "cell_type": "code",
   "execution_count": 6,
   "id": "5c3caa7f",
   "metadata": {},
   "outputs": [
    {
     "data": {
      "text/plain": [
       "{int: [3, 34],\n",
       " float: [4.6, 32.6],\n",
       " tuple: [(34, 5)],\n",
       " str: ['new'],\n",
       " bool: [False, True],\n",
       " list: [[4, 3]],\n",
       " complex: [(4+5j)]}"
      ]
     },
     "execution_count": 6,
     "metadata": {},
     "output_type": "execute_result"
    }
   ],
   "source": [
    "fun0(3,4.6,(34,5),'new',32.6,False,[4,3],4+5j,34,True)"
   ]
  },
  {
   "cell_type": "code",
   "execution_count": 31,
   "id": "1d16fb56",
   "metadata": {},
   "outputs": [],
   "source": [
    "# Solution 2.\n",
    "def fun1(*args,**kwargs):\n",
    "    l=[]\n",
    "    for i in args:\n",
    "        if type(i) == list:\n",
    "            l.append(i)\n",
    "    for i in kwargs.values():\n",
    "        if type(i) == list:\n",
    "            l.append(i)\n",
    "    return l          "
   ]
  },
  {
   "cell_type": "code",
   "execution_count": 32,
   "id": "2ab436d7",
   "metadata": {},
   "outputs": [
    {
     "data": {
      "text/plain": [
       "[[2, 3], [3, 45, 4]]"
      ]
     },
     "execution_count": 32,
     "metadata": {},
     "output_type": "execute_result"
    }
   ],
   "source": [
    "fun1([2,3],5,'fill',a='34',c='new',d=[3,45,4])"
   ]
  },
  {
   "cell_type": "code",
   "execution_count": 34,
   "id": "b5cac788",
   "metadata": {},
   "outputs": [],
   "source": [
    "# Solution 2.\n",
    "def fun2(*args,**kwargs):\n",
    "    l=[i for i in args if type(i) == list]\n",
    "    k=[i for i in kwargs.values() if type(i) == list]\n",
    "    return l, k"
   ]
  },
  {
   "cell_type": "code",
   "execution_count": 35,
   "id": "0ef90db3",
   "metadata": {},
   "outputs": [
    {
     "data": {
      "text/plain": [
       "([[35, 'nre', 8]], [[33, 'fre']])"
      ]
     },
     "execution_count": 35,
     "metadata": {},
     "output_type": "execute_result"
    }
   ],
   "source": [
    "fun2(4,3.4,[35,'nre',8],a='sam',b=[33,'fre'],c=5.3)"
   ]
  },
  {
   "cell_type": "code",
   "execution_count": 45,
   "id": "ce69a5ef",
   "metadata": {},
   "outputs": [
    {
     "data": {
      "text/plain": [
       "'new'"
      ]
     },
     "execution_count": 45,
     "metadata": {},
     "output_type": "execute_result"
    }
   ],
   "source": [
    "d={'a':'new','c':45}\n",
    "d['a']"
   ]
  },
  {
   "cell_type": "code",
   "execution_count": 8,
   "id": "6c0769c7",
   "metadata": {},
   "outputs": [
    {
     "data": {
      "text/plain": [
       "list"
      ]
     },
     "execution_count": 8,
     "metadata": {},
     "output_type": "execute_result"
    }
   ],
   "source": [
    "d=['i']\n",
    "type(d)"
   ]
  },
  {
   "cell_type": "code",
   "execution_count": 13,
   "id": "215e714c",
   "metadata": {},
   "outputs": [],
   "source": [
    "def fun33(x,y):\n",
    "    for i in range(3):\n",
    "        x*i+y"
   ]
  },
  {
   "cell_type": "code",
   "execution_count": 14,
   "id": "18ea6831",
   "metadata": {},
   "outputs": [],
   "source": [
    "fun33(4,3)"
   ]
  },
  {
   "cell_type": "markdown",
   "id": "463627e6",
   "metadata": {},
   "source": [
    "### Anonymous Function (function without any name) using `lambda` keyword"
   ]
  },
  {
   "cell_type": "code",
   "execution_count": 13,
   "id": "1b7707fc",
   "metadata": {},
   "outputs": [],
   "source": [
    "a=20\n",
    "b=30\n",
    "\n",
    "def test1(x,y):\n",
    "    return x+y"
   ]
  },
  {
   "cell_type": "code",
   "execution_count": 14,
   "id": "7ce1980e",
   "metadata": {},
   "outputs": [
    {
     "data": {
      "text/plain": [
       "50"
      ]
     },
     "execution_count": 14,
     "metadata": {},
     "output_type": "execute_result"
    }
   ],
   "source": [
    "test1(a,b)"
   ]
  },
  {
   "cell_type": "code",
   "execution_count": 15,
   "id": "aefdd8af",
   "metadata": {},
   "outputs": [],
   "source": [
    "m = lambda x,y : x+y   # lambda is not function name, it is a predefined keyword inside python that's why is green"
   ]
  },
  {
   "cell_type": "code",
   "execution_count": 16,
   "id": "718e77c3",
   "metadata": {},
   "outputs": [
    {
     "data": {
      "text/plain": [
       "50"
      ]
     },
     "execution_count": 16,
     "metadata": {},
     "output_type": "execute_result"
    }
   ],
   "source": [
    "m(a,b)"
   ]
  },
  {
   "cell_type": "code",
   "execution_count": 17,
   "id": "dfde8128",
   "metadata": {},
   "outputs": [
    {
     "data": {
      "text/plain": [
       "'fullstack'"
      ]
     },
     "execution_count": 17,
     "metadata": {},
     "output_type": "execute_result"
    }
   ],
   "source": [
    "m(\"full\",\"stack\")"
   ]
  },
  {
   "cell_type": "code",
   "execution_count": 18,
   "id": "fb1fb471",
   "metadata": {},
   "outputs": [],
   "source": [
    "a = 4\n",
    "\n",
    "def test2(x,y):\n",
    "    a = x/y\n",
    "    print(a)"
   ]
  },
  {
   "cell_type": "code",
   "execution_count": 19,
   "id": "c319642f",
   "metadata": {},
   "outputs": [
    {
     "name": "stdout",
     "output_type": "stream",
     "text": [
      "6.0\n"
     ]
    }
   ],
   "source": [
    "test2(12,2)"
   ]
  },
  {
   "cell_type": "markdown",
   "id": "21bbb53a",
   "metadata": {},
   "source": [
    "#### Even though I have defined `a` beforehand, it prints the value of local variable `a = x/y` defined within the function & this local variable is accessible only inside this function clause called the local scope and the assignment before the function definition i.e. `a = 4` is the global scope and can be accessed anywhere throughout the code."
   ]
  },
  {
   "cell_type": "markdown",
   "id": "516919f8",
   "metadata": {},
   "source": [
    "### Creating function Docstring"
   ]
  },
  {
   "cell_type": "code",
   "execution_count": 20,
   "id": "2c95edbc",
   "metadata": {},
   "outputs": [],
   "source": [
    "def test3(a,b):\n",
    "    '''\n",
    "    This is my function docstring and here is where the information regarding the function is stored for future reference.\n",
    "    a = This is the first argument\n",
    "    b = Will try to do a task\n",
    "    '''\n",
    "    print(\"My name is xcv\")"
   ]
  },
  {
   "cell_type": "code",
   "execution_count": 21,
   "id": "ea59f358",
   "metadata": {},
   "outputs": [
    {
     "name": "stdout",
     "output_type": "stream",
     "text": [
      "My name is xcv\n"
     ]
    }
   ],
   "source": [
    "test3(2,3)"
   ]
  },
  {
   "cell_type": "code",
   "execution_count": 22,
   "id": "b1c46857",
   "metadata": {},
   "outputs": [
    {
     "name": "stdout",
     "output_type": "stream",
     "text": [
      "Help on function test3 in module __main__:\n",
      "\n",
      "test3(a, b)\n",
      "    This is my function docstring and here is where the information regarding the function is stored for future reference.\n",
      "    a = This is the first argument\n",
      "    b = Will try to do a task\n",
      "\n"
     ]
    }
   ],
   "source": [
    "help(test3)"
   ]
  },
  {
   "cell_type": "markdown",
   "id": "f96d9867",
   "metadata": {},
   "source": [
    "#### String is an iterable. But it is not an iterator as it doesn't remember it previous location and by default will not jump to next location. So, `iter` function will convert my string into an iterator & it will convert only those objects to iterator which are iterable."
   ]
  },
  {
   "cell_type": "code",
   "execution_count": 1,
   "id": "c643bbe9",
   "metadata": {},
   "outputs": [
    {
     "ename": "TypeError",
     "evalue": "'str' object is not an iterator",
     "output_type": "error",
     "traceback": [
      "\u001b[1;31m---------------------------------------------------------------------------\u001b[0m",
      "\u001b[1;31mTypeError\u001b[0m                                 Traceback (most recent call last)",
      "\u001b[1;32m<ipython-input-1-d2c174539533>\u001b[0m in \u001b[0;36m<module>\u001b[1;34m\u001b[0m\n\u001b[0;32m      1\u001b[0m \u001b[0ms\u001b[0m \u001b[1;33m=\u001b[0m \u001b[1;34m'neuron'\u001b[0m\u001b[1;33m\u001b[0m\u001b[1;33m\u001b[0m\u001b[0m\n\u001b[1;32m----> 2\u001b[1;33m \u001b[0mnext\u001b[0m\u001b[1;33m(\u001b[0m\u001b[0ms\u001b[0m\u001b[1;33m)\u001b[0m\u001b[1;33m\u001b[0m\u001b[1;33m\u001b[0m\u001b[0m\n\u001b[0m",
      "\u001b[1;31mTypeError\u001b[0m: 'str' object is not an iterator"
     ]
    }
   ],
   "source": [
    "s = 'neuron'\n",
    "next(s)"
   ]
  },
  {
   "cell_type": "code",
   "execution_count": 3,
   "id": "4aa6614b",
   "metadata": {},
   "outputs": [
    {
     "data": {
      "text/plain": [
       "'n'"
      ]
     },
     "execution_count": 3,
     "metadata": {},
     "output_type": "execute_result"
    }
   ],
   "source": [
    "m = iter(s)\n",
    "next(m)"
   ]
  },
  {
   "cell_type": "code",
   "execution_count": 6,
   "id": "83ee3390",
   "metadata": {},
   "outputs": [
    {
     "data": {
      "text/plain": [
       "'e'"
      ]
     },
     "execution_count": 6,
     "metadata": {},
     "output_type": "execute_result"
    }
   ],
   "source": [
    "next(m)"
   ]
  },
  {
   "cell_type": "code",
   "execution_count": 7,
   "id": "f9f1d2aa",
   "metadata": {},
   "outputs": [
    {
     "data": {
      "text/plain": [
       "'u'"
      ]
     },
     "execution_count": 7,
     "metadata": {},
     "output_type": "execute_result"
    }
   ],
   "source": [
    "next(m)"
   ]
  },
  {
   "cell_type": "markdown",
   "id": "8c0630a0",
   "metadata": {},
   "source": [
    "#### Since, `int` object is not a iterable, so even after using `iter` function we cannot convert it to iterator."
   ]
  },
  {
   "cell_type": "code",
   "execution_count": 4,
   "id": "4bbc400c",
   "metadata": {},
   "outputs": [
    {
     "ename": "TypeError",
     "evalue": "'int' object is not an iterator",
     "output_type": "error",
     "traceback": [
      "\u001b[1;31m---------------------------------------------------------------------------\u001b[0m",
      "\u001b[1;31mTypeError\u001b[0m                                 Traceback (most recent call last)",
      "\u001b[1;32m<ipython-input-4-c5f3b926755f>\u001b[0m in \u001b[0;36m<module>\u001b[1;34m\u001b[0m\n\u001b[0;32m      1\u001b[0m \u001b[0mt\u001b[0m \u001b[1;33m=\u001b[0m \u001b[1;36m34\u001b[0m\u001b[1;33m\u001b[0m\u001b[1;33m\u001b[0m\u001b[0m\n\u001b[1;32m----> 2\u001b[1;33m \u001b[0mnext\u001b[0m\u001b[1;33m(\u001b[0m\u001b[0mt\u001b[0m\u001b[1;33m)\u001b[0m\u001b[1;33m\u001b[0m\u001b[1;33m\u001b[0m\u001b[0m\n\u001b[0m",
      "\u001b[1;31mTypeError\u001b[0m: 'int' object is not an iterator"
     ]
    }
   ],
   "source": [
    "t = 34\n",
    "next(t)"
   ]
  },
  {
   "cell_type": "code",
   "execution_count": 5,
   "id": "c9f765ac",
   "metadata": {},
   "outputs": [
    {
     "ename": "TypeError",
     "evalue": "'int' object is not iterable",
     "output_type": "error",
     "traceback": [
      "\u001b[1;31m---------------------------------------------------------------------------\u001b[0m",
      "\u001b[1;31mTypeError\u001b[0m                                 Traceback (most recent call last)",
      "\u001b[1;32m<ipython-input-5-bff7dcc1c292>\u001b[0m in \u001b[0;36m<module>\u001b[1;34m\u001b[0m\n\u001b[1;32m----> 1\u001b[1;33m \u001b[0mk\u001b[0m \u001b[1;33m=\u001b[0m \u001b[0miter\u001b[0m\u001b[1;33m(\u001b[0m\u001b[0mt\u001b[0m\u001b[1;33m)\u001b[0m\u001b[1;33m\u001b[0m\u001b[1;33m\u001b[0m\u001b[0m\n\u001b[0m\u001b[0;32m      2\u001b[0m \u001b[0mnext\u001b[0m\u001b[1;33m(\u001b[0m\u001b[0mk\u001b[0m\u001b[1;33m)\u001b[0m\u001b[1;33m\u001b[0m\u001b[1;33m\u001b[0m\u001b[0m\n",
      "\u001b[1;31mTypeError\u001b[0m: 'int' object is not iterable"
     ]
    }
   ],
   "source": [
    "k = iter(t)\n",
    "next(k)"
   ]
  },
  {
   "cell_type": "markdown",
   "id": "efcddeff",
   "metadata": {},
   "source": [
    "#### Iterable is a kind of object which can be accessed with the help of indexes while `iterator` means an object which can remember last location and gives you next location in next step."
   ]
  },
  {
   "cell_type": "code",
   "execution_count": 8,
   "id": "9ea689c1",
   "metadata": {},
   "outputs": [
    {
     "data": {
      "text/plain": [
       "'s'"
      ]
     },
     "execution_count": 8,
     "metadata": {},
     "output_type": "execute_result"
    }
   ],
   "source": [
    "s = 'sudh'\n",
    "k = iter(s)\n",
    "next(k)"
   ]
  },
  {
   "cell_type": "code",
   "execution_count": 9,
   "id": "8a192cb3",
   "metadata": {},
   "outputs": [
    {
     "data": {
      "text/plain": [
       "'u'"
      ]
     },
     "execution_count": 9,
     "metadata": {},
     "output_type": "execute_result"
    }
   ],
   "source": [
    "next(k)"
   ]
  },
  {
   "cell_type": "code",
   "execution_count": 10,
   "id": "5fe17c1d",
   "metadata": {},
   "outputs": [
    {
     "data": {
      "text/plain": [
       "'d'"
      ]
     },
     "execution_count": 10,
     "metadata": {},
     "output_type": "execute_result"
    }
   ],
   "source": [
    "next(k)"
   ]
  },
  {
   "cell_type": "code",
   "execution_count": 11,
   "id": "5d51579b",
   "metadata": {},
   "outputs": [
    {
     "data": {
      "text/plain": [
       "'h'"
      ]
     },
     "execution_count": 11,
     "metadata": {},
     "output_type": "execute_result"
    }
   ],
   "source": [
    "next(k)"
   ]
  },
  {
   "cell_type": "code",
   "execution_count": 12,
   "id": "49436a69",
   "metadata": {},
   "outputs": [
    {
     "name": "stdout",
     "output_type": "stream",
     "text": [
      "s\n",
      "u\n",
      "d\n",
      "h\n"
     ]
    }
   ],
   "source": [
    "for i in 'sudh':\n",
    "    print(i)"
   ]
  },
  {
   "cell_type": "markdown",
   "id": "4fcf0798",
   "metadata": {},
   "source": [
    "#### We can say that `for loop` is converting our string into an iterator first and then internally performing the `next` operations to call it successively. In for loop it knows where it has to stop."
   ]
  },
  {
   "cell_type": "code",
   "execution_count": 13,
   "id": "97261851",
   "metadata": {},
   "outputs": [
    {
     "ename": "TypeError",
     "evalue": "'list' object is not an iterator",
     "output_type": "error",
     "traceback": [
      "\u001b[1;31m---------------------------------------------------------------------------\u001b[0m",
      "\u001b[1;31mTypeError\u001b[0m                                 Traceback (most recent call last)",
      "\u001b[1;32m<ipython-input-13-8bf301f5c086>\u001b[0m in \u001b[0;36m<module>\u001b[1;34m\u001b[0m\n\u001b[0;32m      1\u001b[0m \u001b[0ml\u001b[0m \u001b[1;33m=\u001b[0m \u001b[1;33m[\u001b[0m\u001b[1;36m3\u001b[0m\u001b[1;33m,\u001b[0m\u001b[1;36m4\u001b[0m\u001b[1;33m,\u001b[0m\u001b[1;36m56\u001b[0m\u001b[1;33m,\u001b[0m\u001b[1;36m35\u001b[0m\u001b[1;33m,\u001b[0m\u001b[1;36m24\u001b[0m\u001b[1;33m]\u001b[0m\u001b[1;33m\u001b[0m\u001b[1;33m\u001b[0m\u001b[0m\n\u001b[1;32m----> 2\u001b[1;33m \u001b[0mnext\u001b[0m\u001b[1;33m(\u001b[0m\u001b[0ml\u001b[0m\u001b[1;33m)\u001b[0m\u001b[1;33m\u001b[0m\u001b[1;33m\u001b[0m\u001b[0m\n\u001b[0m",
      "\u001b[1;31mTypeError\u001b[0m: 'list' object is not an iterator"
     ]
    }
   ],
   "source": [
    "l = [3,4,56,35,24]\n",
    "next(l)"
   ]
  },
  {
   "cell_type": "code",
   "execution_count": 14,
   "id": "d559585b",
   "metadata": {},
   "outputs": [
    {
     "data": {
      "text/plain": [
       "3"
      ]
     },
     "execution_count": 14,
     "metadata": {},
     "output_type": "execute_result"
    }
   ],
   "source": [
    "f = iter(l)\n",
    "next(f)"
   ]
  },
  {
   "cell_type": "code",
   "execution_count": 15,
   "id": "56aa2a36",
   "metadata": {},
   "outputs": [
    {
     "data": {
      "text/plain": [
       "4"
      ]
     },
     "execution_count": 15,
     "metadata": {},
     "output_type": "execute_result"
    }
   ],
   "source": [
    "next(f)"
   ]
  },
  {
   "cell_type": "markdown",
   "id": "b0e61b38",
   "metadata": {},
   "source": [
    "#### List, tuple, strings all are iterable objects by default but not iterator objects. So, when you call these things inside a for loop, system converts these iterable objects into iterator objects, and then apply next function on it to extract information one  by one. It also calls the len function so that it knows where to stop calling the next function."
   ]
  },
  {
   "cell_type": "markdown",
   "id": "df8a348d",
   "metadata": {},
   "source": [
    "#### So, list is also not an iterator but is an iterable object."
   ]
  },
  {
   "cell_type": "markdown",
   "id": "1aeeedbc",
   "metadata": {},
   "source": [
    "### map():\n",
    "#### \"A map function executes certain instructions or functionality provided to it on every item of an iterable.\"\n",
    "\n",
    "The iterable could be a list, tuple, set, etc. It is worth noting that the output in the case of the map is also an iterable i.e., a list. It is a built-in function, so no import statement required.\n",
    "\n",
    "##### It is a generator function.\n",
    "\n",
    "SYNTAX:\n",
    "map(function, iterable) \n",
    "\n",
    "A map function takes two parameters:\n",
    "\n",
    "- First one is the function through which we want to pass the items/values of the iterable\n",
    "- The second one is the iterable itself"
   ]
  },
  {
   "cell_type": "code",
   "execution_count": 98,
   "id": "b2240572",
   "metadata": {},
   "outputs": [
    {
     "name": "stdout",
     "output_type": "stream",
     "text": [
      "[1, 8, 64, 216, 512]\n"
     ]
    }
   ],
   "source": [
    "item = [1,2,4,6,8]\n",
    "a = list(map((lambda x: x**3),item))\n",
    "print(a)"
   ]
  },
  {
   "cell_type": "code",
   "execution_count": 1,
   "id": "461ec9a4",
   "metadata": {},
   "outputs": [
    {
     "name": "stdout",
     "output_type": "stream",
     "text": [
      "[4, 16, 25, 36, 64, 81]\n"
     ]
    }
   ],
   "source": [
    "l = [2,4,5,6,8,9]\n",
    "print(list(map((lambda i:i*i),l)))\n"
   ]
  },
  {
   "cell_type": "code",
   "execution_count": 3,
   "id": "f9e9f604",
   "metadata": {},
   "outputs": [
    {
     "data": {
      "text/plain": [
       "[4, 16, 25, 36, 64, 81]"
      ]
     },
     "execution_count": 3,
     "metadata": {},
     "output_type": "execute_result"
    }
   ],
   "source": [
    "def sq(n):\n",
    "    return n*n\n",
    "\n",
    "list(map(sq,l))"
   ]
  },
  {
   "cell_type": "code",
   "execution_count": 4,
   "id": "b0abc12d",
   "metadata": {},
   "outputs": [
    {
     "data": {
      "text/plain": [
       "['2', '4', '5', '6', '8', '9']"
      ]
     },
     "execution_count": 4,
     "metadata": {},
     "output_type": "execute_result"
    }
   ],
   "source": [
    "# Convert every element inside the list l into string\n",
    "list(map(lambda x: str(x), l))"
   ]
  },
  {
   "cell_type": "code",
   "execution_count": 5,
   "id": "041ad259",
   "metadata": {},
   "outputs": [
    {
     "data": {
      "text/plain": [
       "['2', '4', '5', '6', '8', '9']"
      ]
     },
     "execution_count": 5,
     "metadata": {},
     "output_type": "execute_result"
    }
   ],
   "source": [
    "list(map(str, l))   # str is an in-build function which is already available. We can directly call that."
   ]
  },
  {
   "cell_type": "markdown",
   "id": "533fee91",
   "metadata": {},
   "source": [
    "### filter():-\n",
    "\"A filter function in Python tests a specific user-defined condition for a function and returns an iterable for the elements and values that satisfy the condition or, in other words, return true.\"\n",
    "\n",
    "It is also a built-in function, so no need for an import statement. All the actions we perform using the filter can also be performed by using a for loop for iteration and if-else statements to check the conditions. We can also use a Boolean that could take note of true or false, but that would make the process very lengthy and complex. So, to simplify the code, we can use the filter function.\n",
    "\n",
    "SYNTAX"
   ]
  },
  {
   "cell_type": "code",
   "execution_count": null,
   "id": "6cd3cdcc",
   "metadata": {
    "scrolled": false
   },
   "outputs": [],
   "source": [
    "filter(function, iterable)"
   ]
  },
  {
   "cell_type": "markdown",
   "id": "0d212d71",
   "metadata": {},
   "source": [
    "It also takes two parameters:\n",
    "\n",
    "- First one is the function for which the condition should satisfy\n",
    "- The second one is the iterable"
   ]
  },
  {
   "cell_type": "code",
   "execution_count": 91,
   "id": "8f232a50",
   "metadata": {},
   "outputs": [
    {
     "name": "stdout",
     "output_type": "stream",
     "text": [
      "[2, 5, 3]\n"
     ]
    }
   ],
   "source": [
    "a = [1,2,3,4,5,6]\n",
    "b = [2,5,0,7,3]\n",
    "c= list(filter(lambda x: x in a, b))\n",
    "print(c) # prints out [2, 5, 3]"
   ]
  },
  {
   "cell_type": "code",
   "execution_count": 95,
   "id": "9c2fe140",
   "metadata": {},
   "outputs": [
    {
     "name": "stdout",
     "output_type": "stream",
     "text": [
      "[9, 45, 77, 21]\n"
     ]
    }
   ],
   "source": [
    "list1 = [2,3,4,5,9,45,77,21]\n",
    "\n",
    "def is_greater(num):\n",
    "    return num > 8\n",
    "\n",
    "gr_thn_8 = list(filter(is_greater, list1))\n",
    "print(gr_thn_8)"
   ]
  },
  {
   "cell_type": "markdown",
   "id": "d53e12de",
   "metadata": {},
   "source": [
    "### reduce():\n",
    "#### \"Reduce functions apply a function to every item of an iterable and gives back a single value as a resultant\".\n",
    "\n",
    "Unlike the previous two functions (Filter and Map), we have to import the reduce function from functools module using the statement:\n",
    "\n",
    "##### from functools import reduce\n",
    "\n",
    "We can also import the whole functools module by simply writing\n",
    "\n",
    "##### Import functools\n",
    "\n",
    "But in the case of bigger projects, it is not good practice to import a whole module because of time restraint.\n",
    "\n",
    "SYNTAX:"
   ]
  },
  {
   "cell_type": "code",
   "execution_count": 96,
   "id": "f7ad084b",
   "metadata": {},
   "outputs": [
    {
     "name": "stdout",
     "output_type": "stream",
     "text": [
      "6720\n"
     ]
    }
   ],
   "source": [
    "from functools import reduce\n",
    "\n",
    "list1 = [4,5,6,7,8]\n",
    "num = reduce(lambda x,y: x*y, list1)\n",
    "print(num)"
   ]
  },
  {
   "cell_type": "markdown",
   "id": "07e37337",
   "metadata": {},
   "source": [
    "### Generator"
   ]
  },
  {
   "cell_type": "markdown",
   "id": "84ae8db5",
   "metadata": {},
   "source": [
    "It is not supposed to remmeber what I have done in last steps, it is just supposed to remember my previous step. It simply means that display the runtime result values."
   ]
  },
  {
   "cell_type": "code",
   "execution_count": 28,
   "id": "d2a21be0",
   "metadata": {},
   "outputs": [],
   "source": [
    "def test(n):\n",
    "    l=[]\n",
    "    for i in range(n):\n",
    "        l.append(i**3)\n",
    "    return l"
   ]
  },
  {
   "cell_type": "code",
   "execution_count": 31,
   "id": "c8bac13c",
   "metadata": {},
   "outputs": [
    {
     "data": {
      "text/plain": [
       "[0, 1, 8, 27]"
      ]
     },
     "execution_count": 31,
     "metadata": {},
     "output_type": "execute_result"
    }
   ],
   "source": [
    "test(4)"
   ]
  },
  {
   "cell_type": "markdown",
   "id": "98f059b3",
   "metadata": {},
   "source": [
    "If we give `n = 400000` while calling the test function then it appends data one by one at same memory location of blank list l which we initially created and hence will take a lot of time to display the results even in 64 GB RAM and 4.2 GHz speed."
   ]
  },
  {
   "cell_type": "markdown",
   "id": "d6553878",
   "metadata": {},
   "source": [
    "So by specifying the `yield` keyword we convert normal function to a `generator` function. which is of advantage as it is able to give the output then & there in runtime. It is less memory intensive operation."
   ]
  },
  {
   "cell_type": "markdown",
   "id": "43b6b257",
   "metadata": {},
   "source": [
    "Instead of `yield` we can use `print` but print returns datatype which is `nonetype` and further computation is not possible."
   ]
  },
  {
   "cell_type": "code",
   "execution_count": 32,
   "id": "eb7cb0a0",
   "metadata": {},
   "outputs": [],
   "source": [
    "def gen(n):\n",
    "    for i in range(n):\n",
    "        yield i**3"
   ]
  },
  {
   "cell_type": "code",
   "execution_count": 33,
   "id": "7ab3eaef",
   "metadata": {},
   "outputs": [
    {
     "data": {
      "text/plain": [
       "<generator object gen at 0x00000198EAB00660>"
      ]
     },
     "execution_count": 33,
     "metadata": {},
     "output_type": "execute_result"
    }
   ],
   "source": [
    "gen(20)"
   ]
  },
  {
   "cell_type": "markdown",
   "id": "8cba6474",
   "metadata": {},
   "source": [
    "This gives an object and to see the elements within this `gen` function, we need to use the for loop."
   ]
  },
  {
   "cell_type": "code",
   "execution_count": 34,
   "id": "e22739df",
   "metadata": {},
   "outputs": [
    {
     "name": "stdout",
     "output_type": "stream",
     "text": [
      "0\n",
      "1\n",
      "8\n",
      "27\n",
      "64\n",
      "125\n",
      "216\n",
      "343\n",
      "512\n",
      "729\n",
      "1000\n",
      "1331\n",
      "1728\n",
      "2197\n",
      "2744\n",
      "3375\n",
      "4096\n",
      "4913\n",
      "5832\n",
      "6859\n",
      "8000\n",
      "9261\n",
      "10648\n",
      "12167\n",
      "13824\n",
      "15625\n",
      "17576\n",
      "19683\n",
      "21952\n",
      "24389\n",
      "27000\n",
      "29791\n",
      "32768\n",
      "35937\n",
      "39304\n",
      "42875\n",
      "46656\n",
      "50653\n",
      "54872\n",
      "59319\n",
      "64000\n",
      "68921\n",
      "74088\n",
      "79507\n",
      "85184\n",
      "91125\n",
      "97336\n",
      "103823\n",
      "110592\n",
      "117649\n",
      "125000\n",
      "132651\n",
      "140608\n",
      "148877\n",
      "157464\n",
      "166375\n",
      "175616\n",
      "185193\n",
      "195112\n",
      "205379\n",
      "216000\n",
      "226981\n",
      "238328\n",
      "250047\n",
      "262144\n",
      "274625\n",
      "287496\n",
      "300763\n",
      "314432\n",
      "328509\n",
      "343000\n",
      "357911\n",
      "373248\n",
      "389017\n",
      "405224\n",
      "421875\n",
      "438976\n",
      "456533\n",
      "474552\n",
      "493039\n",
      "512000\n",
      "531441\n",
      "551368\n",
      "571787\n",
      "592704\n",
      "614125\n",
      "636056\n",
      "658503\n",
      "681472\n",
      "704969\n",
      "729000\n",
      "753571\n",
      "778688\n",
      "804357\n",
      "830584\n",
      "857375\n",
      "884736\n",
      "912673\n",
      "941192\n",
      "970299\n",
      "1000000\n",
      "1030301\n",
      "1061208\n",
      "1092727\n",
      "1124864\n",
      "1157625\n",
      "1191016\n",
      "1225043\n",
      "1259712\n",
      "1295029\n",
      "1331000\n",
      "1367631\n",
      "1404928\n",
      "1442897\n",
      "1481544\n",
      "1520875\n",
      "1560896\n",
      "1601613\n",
      "1643032\n",
      "1685159\n",
      "1728000\n",
      "1771561\n",
      "1815848\n",
      "1860867\n",
      "1906624\n",
      "1953125\n",
      "2000376\n",
      "2048383\n",
      "2097152\n",
      "2146689\n",
      "2197000\n",
      "2248091\n",
      "2299968\n",
      "2352637\n",
      "2406104\n",
      "2460375\n",
      "2515456\n",
      "2571353\n",
      "2628072\n",
      "2685619\n",
      "2744000\n",
      "2803221\n",
      "2863288\n",
      "2924207\n",
      "2985984\n",
      "3048625\n",
      "3112136\n",
      "3176523\n",
      "3241792\n",
      "3307949\n",
      "3375000\n",
      "3442951\n",
      "3511808\n",
      "3581577\n",
      "3652264\n",
      "3723875\n",
      "3796416\n",
      "3869893\n",
      "3944312\n",
      "4019679\n",
      "4096000\n",
      "4173281\n",
      "4251528\n",
      "4330747\n",
      "4410944\n",
      "4492125\n",
      "4574296\n",
      "4657463\n",
      "4741632\n",
      "4826809\n",
      "4913000\n",
      "5000211\n",
      "5088448\n",
      "5177717\n",
      "5268024\n",
      "5359375\n",
      "5451776\n",
      "5545233\n",
      "5639752\n",
      "5735339\n",
      "5832000\n",
      "5929741\n",
      "6028568\n",
      "6128487\n",
      "6229504\n",
      "6331625\n",
      "6434856\n",
      "6539203\n",
      "6644672\n",
      "6751269\n",
      "6859000\n",
      "6967871\n",
      "7077888\n",
      "7189057\n",
      "7301384\n",
      "7414875\n",
      "7529536\n",
      "7645373\n",
      "7762392\n",
      "7880599\n"
     ]
    }
   ],
   "source": [
    "for i in gen(200):\n",
    "    print(i)"
   ]
  },
  {
   "cell_type": "markdown",
   "id": "eb599183",
   "metadata": {},
   "source": [
    "### Fibonacci Series"
   ]
  },
  {
   "cell_type": "code",
   "execution_count": 44,
   "id": "281e1a9c",
   "metadata": {},
   "outputs": [],
   "source": [
    "def fib(n):\n",
    "    a = 1\n",
    "    b = 1\n",
    "    l = []\n",
    "    for i in range(n):\n",
    "        l.append(a)\n",
    "        a, b = b, a+b\n",
    "    return l"
   ]
  },
  {
   "cell_type": "code",
   "execution_count": 45,
   "id": "3c68e5db",
   "metadata": {},
   "outputs": [
    {
     "data": {
      "text/plain": [
       "[1, 1, 2, 3, 5, 8, 13, 21]"
      ]
     },
     "execution_count": 45,
     "metadata": {},
     "output_type": "execute_result"
    }
   ],
   "source": [
    "fib(8)"
   ]
  },
  {
   "cell_type": "code",
   "execution_count": 46,
   "id": "028f784d",
   "metadata": {},
   "outputs": [],
   "source": [
    "def genfib(n):\n",
    "    a = 1\n",
    "    b = 1\n",
    "    for i in range(n):\n",
    "        yield a\n",
    "        a, b = b, a+b"
   ]
  },
  {
   "cell_type": "code",
   "execution_count": 47,
   "id": "798da040",
   "metadata": {},
   "outputs": [
    {
     "data": {
      "text/plain": [
       "<generator object genfib at 0x00000198EADFB510>"
      ]
     },
     "execution_count": 47,
     "metadata": {},
     "output_type": "execute_result"
    }
   ],
   "source": [
    "genfib(13)"
   ]
  },
  {
   "cell_type": "code",
   "execution_count": 48,
   "id": "99b4f9a9",
   "metadata": {},
   "outputs": [
    {
     "name": "stdout",
     "output_type": "stream",
     "text": [
      "1\n",
      "1\n",
      "2\n",
      "3\n",
      "5\n",
      "8\n",
      "13\n",
      "21\n",
      "34\n",
      "55\n",
      "89\n",
      "144\n",
      "233\n"
     ]
    }
   ],
   "source": [
    "for i in genfib(13):\n",
    "    print(i)"
   ]
  },
  {
   "cell_type": "code",
   "execution_count": null,
   "id": "ddec77ed",
   "metadata": {},
   "outputs": [],
   "source": [
    "Todays task : 5th June 2022\n",
    "    q1 : Try to print a prime number in between 1 to 1000\n",
    "    q2 : Try to write a function which  is equivalent  to print function in python\n",
    "    q3 : Try to write a function which is a replica of list append , extend and pop function \n",
    "    q4 : Try to write a lambda function which can return a concatination of all the string that we will pass\n",
    "    q5 : Try to write a lambda function which can return list of square of all the data between 1-100 \n",
    "    q6 : Try to write a 10 Different different example of lambda function with a choice of your taks \n",
    "    q7 : Try to wwrite a funtion whihc can perform a read operation from .txt file \n",
    "        \n",
    "        shivan@ineuron.ai\n",
    "        sudhashu@ineuron.ai"
   ]
  },
  {
   "cell_type": "code",
   "execution_count": 4,
   "id": "468dc8c9",
   "metadata": {},
   "outputs": [
    {
     "name": "stdout",
     "output_type": "stream",
     "text": [
      "2\n",
      "3\n",
      "5\n",
      "7\n",
      "11\n",
      "13\n",
      "17\n",
      "19\n",
      "23\n",
      "29\n",
      "31\n",
      "37\n",
      "41\n",
      "43\n",
      "47\n",
      "53\n",
      "59\n",
      "61\n",
      "67\n",
      "71\n",
      "73\n",
      "79\n",
      "83\n",
      "89\n",
      "97\n",
      "101\n",
      "103\n",
      "107\n",
      "109\n",
      "113\n",
      "127\n",
      "131\n",
      "137\n",
      "139\n",
      "149\n",
      "151\n",
      "157\n",
      "163\n",
      "167\n",
      "173\n",
      "179\n",
      "181\n",
      "191\n",
      "193\n",
      "197\n",
      "199\n",
      "211\n",
      "223\n",
      "227\n",
      "229\n",
      "233\n",
      "239\n",
      "241\n",
      "251\n",
      "257\n",
      "263\n",
      "269\n",
      "271\n",
      "277\n",
      "281\n",
      "283\n",
      "293\n",
      "307\n",
      "311\n",
      "313\n",
      "317\n",
      "331\n",
      "337\n",
      "347\n",
      "349\n",
      "353\n",
      "359\n",
      "367\n",
      "373\n",
      "379\n",
      "383\n",
      "389\n",
      "397\n",
      "401\n",
      "409\n",
      "419\n",
      "421\n",
      "431\n",
      "433\n",
      "439\n",
      "443\n",
      "449\n",
      "457\n",
      "461\n",
      "463\n",
      "467\n",
      "479\n",
      "487\n",
      "491\n",
      "499\n",
      "503\n",
      "509\n",
      "521\n",
      "523\n",
      "541\n",
      "547\n",
      "557\n",
      "563\n",
      "569\n",
      "571\n",
      "577\n",
      "587\n",
      "593\n",
      "599\n",
      "601\n",
      "607\n",
      "613\n",
      "617\n",
      "619\n",
      "631\n",
      "641\n",
      "643\n",
      "647\n",
      "653\n",
      "659\n",
      "661\n",
      "673\n",
      "677\n",
      "683\n",
      "691\n",
      "701\n",
      "709\n",
      "719\n",
      "727\n",
      "733\n",
      "739\n",
      "743\n",
      "751\n",
      "757\n",
      "761\n",
      "769\n",
      "773\n",
      "787\n",
      "797\n",
      "809\n",
      "811\n",
      "821\n",
      "823\n",
      "827\n",
      "829\n",
      "839\n",
      "853\n",
      "857\n",
      "859\n",
      "863\n",
      "877\n",
      "881\n",
      "883\n",
      "887\n",
      "907\n",
      "911\n",
      "919\n",
      "929\n",
      "937\n",
      "941\n",
      "947\n",
      "953\n",
      "967\n",
      "971\n",
      "977\n",
      "983\n",
      "991\n",
      "997\n"
     ]
    }
   ],
   "source": [
    "for i in range(1,1001):\n",
    "    count = 0\n",
    "    for j in range(1,i+1):\n",
    "        if i%j == 0:\n",
    "            count += 1\n",
    "    if count == 2:\n",
    "        print(i)"
   ]
  },
  {
   "cell_type": "code",
   "execution_count": 37,
   "id": "c5dfeb99",
   "metadata": {},
   "outputs": [],
   "source": [
    "def pri_fun(*word):\n",
    "    l=[]\n",
    "    for i in word:\n",
    "        l.append(i)\n",
    "    data = ' '.join(l)\n",
    "    return data"
   ]
  },
  {
   "cell_type": "code",
   "execution_count": 38,
   "id": "70b464c3",
   "metadata": {},
   "outputs": [
    {
     "data": {
      "text/plain": [
       "'Welcome Python'"
      ]
     },
     "execution_count": 38,
     "metadata": {},
     "output_type": "execute_result"
    }
   ],
   "source": [
    "str1 = 'Welcome'\n",
    "str2 = 'Python'\n",
    "pri_fun(str1,str2)"
   ]
  },
  {
   "cell_type": "code",
   "execution_count": 39,
   "id": "15424b35",
   "metadata": {},
   "outputs": [
    {
     "name": "stdout",
     "output_type": "stream",
     "text": [
      "Welcome Python\n"
     ]
    }
   ],
   "source": [
    "str1 = 'Welcome'\n",
    "str2 = 'Python'\n",
    "print(str1,str2)"
   ]
  },
  {
   "cell_type": "code",
   "execution_count": 52,
   "id": "7b55d9ff",
   "metadata": {},
   "outputs": [
    {
     "name": "stdout",
     "output_type": "stream",
     "text": [
      "[4, 5, 6, 9]\n",
      "[4, 5, 6, 9, 7, 8]\n",
      "[4, 5, 9, 7, 8]\n"
     ]
    }
   ],
   "source": [
    "l=[4,5,6]\n",
    "l.append(9)\n",
    "print(l)\n",
    "l.extend([7,8])\n",
    "print(l)\n",
    "l.pop(2)\n",
    "print(l)"
   ]
  },
  {
   "cell_type": "code",
   "execution_count": 59,
   "id": "1a994e72",
   "metadata": {},
   "outputs": [
    {
     "data": {
      "text/plain": [
       "[4, 5, 6, 9]"
      ]
     },
     "execution_count": 59,
     "metadata": {},
     "output_type": "execute_result"
    }
   ],
   "source": [
    "def app(p):\n",
    "    '''Replica of append function'''\n",
    "    l = [4,5,6]\n",
    "    l1=[p]\n",
    "    l = l+l1\n",
    "    return l \n",
    "app(9)"
   ]
  },
  {
   "cell_type": "code",
   "execution_count": 57,
   "id": "92ef0db8",
   "metadata": {},
   "outputs": [
    {
     "data": {
      "text/plain": [
       "[4, 5, 6, 7, 8]"
      ]
     },
     "execution_count": 57,
     "metadata": {},
     "output_type": "execute_result"
    }
   ],
   "source": [
    "def ext(p):\n",
    "    '''Replica of extend function'''\n",
    "    l=[4,5,6]\n",
    "    for i in p:\n",
    "        l1=[i]\n",
    "        l=l+l1\n",
    "    return l\n",
    "ext([7,8])"
   ]
  },
  {
   "cell_type": "code",
   "execution_count": 58,
   "id": "067e8734",
   "metadata": {},
   "outputs": [
    {
     "data": {
      "text/plain": [
       "[4, 5]"
      ]
     },
     "execution_count": 58,
     "metadata": {},
     "output_type": "execute_result"
    }
   ],
   "source": [
    "def fpop(p):\n",
    "    '''Replica of pop function'''\n",
    "    l=[4,5,6]\n",
    "    del l[p]\n",
    "    return l\n",
    "fpop(2)"
   ]
  },
  {
   "cell_type": "code",
   "execution_count": 85,
   "id": "2207ea3c",
   "metadata": {},
   "outputs": [],
   "source": [
    "concat = lambda *args : [f'{words}' for words in args]"
   ]
  },
  {
   "cell_type": "code",
   "execution_count": 86,
   "id": "f2078920",
   "metadata": {},
   "outputs": [
    {
     "data": {
      "text/plain": [
       "['neuron', ' data', ' small', ' big', ' dal', ' fdf', ' fsfs', ' yrr']"
      ]
     },
     "execution_count": 86,
     "metadata": {},
     "output_type": "execute_result"
    }
   ],
   "source": [
    "concat('neuron', ' data',' small', ' big',' dal',' fdf',' fsfs',' yrr')"
   ]
  },
  {
   "cell_type": "code",
   "execution_count": 88,
   "id": "5f5b9965",
   "metadata": {},
   "outputs": [
    {
     "name": "stdout",
     "output_type": "stream",
     "text": [
      "neuron data small big dal fdf fsfs yrr\n"
     ]
    }
   ],
   "source": [
    "from functools import reduce\n",
    "data = ['neuron', ' data',' small', ' big',' dal',' fdf',' fsfs',' yrr']\n",
    "#stark = ['robb', 'sansa', 'arya', 'eddard', 'jon']\n",
    "result = reduce(lambda x,y: x+y, data)\n",
    "#result = reduce(lambda item1,item2: item1+item2, stark)\n",
    "# Print the result\n",
    "print(result)"
   ]
  },
  {
   "cell_type": "markdown",
   "id": "9f4609a7",
   "metadata": {},
   "source": [
    "#### Concatenation of Strings"
   ]
  },
  {
   "cell_type": "code",
   "execution_count": 76,
   "id": "e1d31486",
   "metadata": {},
   "outputs": [
    {
     "data": {
      "text/plain": [
       "'neuron data small big dal fdf fsfs yrr'"
      ]
     },
     "execution_count": 76,
     "metadata": {},
     "output_type": "execute_result"
    }
   ],
   "source": [
    "def fun(*args):\n",
    "    for i in args:\n",
    "        for j in args:\n",
    "            if i != j:\n",
    "                i = i+j\n",
    "        return i\n",
    "fun('neuron', ' data',' small', ' big',' dal',' fdf',' fsfs',' yrr')"
   ]
  },
  {
   "cell_type": "code",
   "execution_count": 77,
   "id": "292936bd",
   "metadata": {},
   "outputs": [],
   "source": [
    "def fun1(*args):\n",
    "    new = \"\"\n",
    "    for words in args:\n",
    "        new += words\n",
    "    return new"
   ]
  },
  {
   "cell_type": "code",
   "execution_count": 78,
   "id": "5435c1a6",
   "metadata": {},
   "outputs": [
    {
     "data": {
      "text/plain": [
       "'neuron data small big dal fdf fsfs yrr'"
      ]
     },
     "execution_count": 78,
     "metadata": {},
     "output_type": "execute_result"
    }
   ],
   "source": [
    "fun1('neuron', ' data',' small', ' big',' dal',' fdf',' fsfs',' yrr')"
   ]
  },
  {
   "cell_type": "code",
   "execution_count": 99,
   "id": "33119e78",
   "metadata": {},
   "outputs": [
    {
     "name": "stdout",
     "output_type": "stream",
     "text": [
      "[1, 4, 9, 16, 25, 36, 49, 64, 81, 100, 121, 144, 169, 196, 225, 256, 289, 324, 361, 400, 441, 484, 529, 576, 625, 676, 729, 784, 841, 900, 961, 1024, 1089, 1156, 1225, 1296, 1369, 1444, 1521, 1600, 1681, 1764, 1849, 1936, 2025, 2116, 2209, 2304, 2401, 2500, 2601, 2704, 2809, 2916, 3025, 3136, 3249, 3364, 3481, 3600, 3721, 3844, 3969, 4096, 4225, 4356, 4489, 4624, 4761, 4900, 5041, 5184, 5329, 5476, 5625, 5776, 5929, 6084, 6241, 6400, 6561, 6724, 6889, 7056, 7225, 7396, 7569, 7744, 7921, 8100, 8281, 8464, 8649, 8836, 9025, 9216, 9409, 9604, 9801, 10000]\n"
     ]
    }
   ],
   "source": [
    "#Try to write a lambda function which can return list of square of all the data between 1-100 \n",
    "\n",
    "l1=[]\n",
    "for i in range(1,101):\n",
    "    l1.append(i)\n",
    "\n",
    "sq = list(map(lambda x: x**2, l1))\n",
    "print(sq)"
   ]
  },
  {
   "cell_type": "code",
   "execution_count": 102,
   "id": "86c718e9",
   "metadata": {},
   "outputs": [
    {
     "data": {
      "text/plain": [
       "100"
      ]
     },
     "execution_count": 102,
     "metadata": {},
     "output_type": "execute_result"
    }
   ],
   "source": [
    "#Try to write a 10 different example of lambda function with a choice of your tasks\n",
    "\n",
    "#Ex1: Print square of number\n",
    "\n",
    "square = lambda x : x **2\n",
    "square(10)"
   ]
  },
  {
   "cell_type": "code",
   "execution_count": 105,
   "id": "affa4b00",
   "metadata": {},
   "outputs": [
    {
     "data": {
      "text/plain": [
       "4"
      ]
     },
     "execution_count": 105,
     "metadata": {},
     "output_type": "execute_result"
    }
   ],
   "source": [
    "# Ex2: Print remainder \n",
    "\n",
    "mod = lambda x : x % 5\n",
    "mod(9)"
   ]
  },
  {
   "cell_type": "code",
   "execution_count": 106,
   "id": "3a324d3f",
   "metadata": {},
   "outputs": [
    {
     "data": {
      "text/plain": [
       "12"
      ]
     },
     "execution_count": 106,
     "metadata": {},
     "output_type": "execute_result"
    }
   ],
   "source": [
    "# Ex3: Print addition of two numbers\n",
    "\n",
    "add = lambda x,y: x+y\n",
    "add(5,7)"
   ]
  },
  {
   "cell_type": "code",
   "execution_count": 107,
   "id": "da366870",
   "metadata": {},
   "outputs": [
    {
     "data": {
      "text/plain": [
       "9"
      ]
     },
     "execution_count": 107,
     "metadata": {},
     "output_type": "execute_result"
    }
   ],
   "source": [
    "#Ex4: Maximum of two numbers\n",
    "\n",
    "max = lambda x,y: x if x>y else y\n",
    "max(6,9)"
   ]
  },
  {
   "cell_type": "code",
   "execution_count": 118,
   "id": "6ae181b3",
   "metadata": {},
   "outputs": [
    {
     "data": {
      "text/plain": [
       "'even'"
      ]
     },
     "execution_count": 118,
     "metadata": {},
     "output_type": "execute_result"
    }
   ],
   "source": [
    "#Ex5: Odd or Even\n",
    "\n",
    "odd_even = lambda x: (x%2 and 'odd' or 'even')\n",
    "odd_even(42)"
   ]
  },
  {
   "cell_type": "code",
   "execution_count": 138,
   "id": "a258d767",
   "metadata": {},
   "outputs": [
    {
     "name": "stdout",
     "output_type": "stream",
     "text": [
      "['Data', 'Science', 'Course']\n"
     ]
    }
   ],
   "source": [
    "# Ex6: Capitalize the first letter of given words\n",
    "\n",
    "list11 = ['data', 'science', 'course']\n",
    "\n",
    "cap = list(map(lambda f: f.capitalize(), list11))\n",
    "print(cap)"
   ]
  },
  {
   "cell_type": "code",
   "execution_count": 119,
   "id": "682c6c1a",
   "metadata": {},
   "outputs": [
    {
     "name": "stdout",
     "output_type": "stream",
     "text": [
      "[64, 125, 216]\n"
     ]
    }
   ],
   "source": [
    "#Ex7: Cube of list of numbers\n",
    "\n",
    "list1=[4,5,6]\n",
    "\n",
    "sqr = list(map(lambda x : x**3, list1)) \n",
    "print(sqr)"
   ]
  },
  {
   "cell_type": "code",
   "execution_count": 123,
   "id": "f42d1ddc",
   "metadata": {},
   "outputs": [
    {
     "name": "stdout",
     "output_type": "stream",
     "text": [
      "[4, 78, 204]\n"
     ]
    }
   ],
   "source": [
    "#Ex 8: Extract even numbers from the list\n",
    "\n",
    "list2 = [4,65,78,43,99,204]\n",
    "\n",
    "even = list(filter(lambda x: x % 2 == 0, list2))\n",
    "print(even)"
   ]
  },
  {
   "cell_type": "code",
   "execution_count": 139,
   "id": "131d32c0",
   "metadata": {},
   "outputs": [
    {
     "name": "stdout",
     "output_type": "stream",
     "text": [
      "[1, 3, 5, 7, 9, 11, 13, 15, 17, 19]\n"
     ]
    }
   ],
   "source": [
    "# Ex9: Extract odd numbers from 1-20\n",
    "\n",
    "odd = list(filter(lambda x : x % 2 != 0, range(21)))\n",
    "print(odd)"
   ]
  },
  {
   "cell_type": "code",
   "execution_count": 126,
   "id": "f941becb",
   "metadata": {},
   "outputs": [
    {
     "name": "stdout",
     "output_type": "stream",
     "text": [
      "60\n"
     ]
    }
   ],
   "source": [
    "#Ex 10: Multiplication of given list of numbers\n",
    "list3 = [3,5,4,1]\n",
    "\n",
    "num = reduce(lambda item1,item2 : item1 * item2, list3)\n",
    "print(num)"
   ]
  },
  {
   "cell_type": "code",
   "execution_count": 8,
   "id": "7842e3e6",
   "metadata": {},
   "outputs": [
    {
     "data": {
      "text/plain": [
       "'C:\\\\Users\\\\Mohammad Irfan\\\\File'"
      ]
     },
     "execution_count": 8,
     "metadata": {},
     "output_type": "execute_result"
    }
   ],
   "source": [
    "#q7 Try to write a funtion which can perform a read operation from .txt file \n",
    "\n",
    "import os\n",
    "#os.chdir(\"./File\")\n",
    "os.getcwd()"
   ]
  },
  {
   "cell_type": "code",
   "execution_count": 10,
   "id": "284bf178",
   "metadata": {},
   "outputs": [],
   "source": [
    "def read_txt(filename):\n",
    "    with open(filename) as f:\n",
    "        for line in f:\n",
    "            print(line)"
   ]
  },
  {
   "cell_type": "code",
   "execution_count": 11,
   "id": "74e2ae73",
   "metadata": {},
   "outputs": [
    {
     "name": "stdout",
     "output_type": "stream",
     "text": [
      "This is my first python file.\n",
      "\n",
      "I want to perform some file handling operations.\n",
      "\n",
      "Let's see what happens.\n",
      "\n",
      "Here we begin.\n",
      "\n"
     ]
    }
   ],
   "source": [
    "read_txt(\"test.txt\")"
   ]
  },
  {
   "cell_type": "code",
   "execution_count": 13,
   "id": "340fb16b",
   "metadata": {},
   "outputs": [
    {
     "name": "stdout",
     "output_type": "stream",
     "text": [
      "Enter the year: 2013\n",
      "Output -  Not a leap year\n"
     ]
    }
   ],
   "source": [
    "year = int(input(\"Enter the year: \"))\n",
    "\n",
    "if year % 4 == 0:\n",
    "    out = \"Leap year\"\n",
    "else:\n",
    "    out = \"Not a leap year\"\n",
    "print(\"Output - \",out)"
   ]
  },
  {
   "cell_type": "code",
   "execution_count": 15,
   "id": "6ddfa557",
   "metadata": {},
   "outputs": [
    {
     "name": "stdout",
     "output_type": "stream",
     "text": [
      "Input - 2017\n",
      "Output -  Not a leap year\n"
     ]
    }
   ],
   "source": [
    "year = int(input(\"Input - \"))\n",
    "if year % 4 == 0:\n",
    "    Output = \"Leap year\"\n",
    "else:\n",
    "    Output = \"Not a leap year\"\n",
    "\n",
    "print(\"Output - \",Output)"
   ]
  },
  {
   "cell_type": "code",
   "execution_count": 16,
   "id": "ead90880",
   "metadata": {},
   "outputs": [
    {
     "ename": "SyntaxError",
     "evalue": "cannot assign to True (<ipython-input-16-884df10221f3>, line 1)",
     "output_type": "error",
     "traceback": [
      "\u001b[1;36m  File \u001b[1;32m\"<ipython-input-16-884df10221f3>\"\u001b[1;36m, line \u001b[1;32m1\u001b[0m\n\u001b[1;33m    True = False\u001b[0m\n\u001b[1;37m    ^\u001b[0m\n\u001b[1;31mSyntaxError\u001b[0m\u001b[1;31m:\u001b[0m cannot assign to True\n"
     ]
    }
   ],
   "source": [
    "True = False\n",
    "while True:\n",
    "    print(True)\n",
    "    break"
   ]
  },
  {
   "cell_type": "code",
   "execution_count": 21,
   "id": "06055784",
   "metadata": {},
   "outputs": [
    {
     "ename": "TypeError",
     "evalue": "unhashable type: 'dict'",
     "output_type": "error",
     "traceback": [
      "\u001b[1;31m---------------------------------------------------------------------------\u001b[0m",
      "\u001b[1;31mTypeError\u001b[0m                                 Traceback (most recent call last)",
      "\u001b[1;32m<ipython-input-21-5299d0c4edb2>\u001b[0m in \u001b[0;36m<module>\u001b[1;34m\u001b[0m\n\u001b[1;32m----> 1\u001b[1;33m \u001b[0md5\u001b[0m \u001b[1;33m=\u001b[0m \u001b[1;33m{\u001b[0m\u001b[0m_\u001b[0m\u001b[1;33m:\u001b[0m\u001b[1;34m\"sufh\"\u001b[0m\u001b[1;33m}\u001b[0m\u001b[1;33m\u001b[0m\u001b[1;33m\u001b[0m\u001b[0m\n\u001b[0m",
      "\u001b[1;31mTypeError\u001b[0m: unhashable type: 'dict'"
     ]
    }
   ],
   "source": [
    "d5 = {_:\"sufh\"}"
   ]
  },
  {
   "cell_type": "code",
   "execution_count": 2,
   "id": "2b243533",
   "metadata": {},
   "outputs": [
    {
     "data": {
      "text/plain": [
       "'sufh'"
      ]
     },
     "execution_count": 2,
     "metadata": {},
     "output_type": "execute_result"
    }
   ],
   "source": [
    "d3[_]"
   ]
  },
  {
   "cell_type": "code",
   "execution_count": 4,
   "id": "4c11db85",
   "metadata": {},
   "outputs": [],
   "source": [
    "d4={'_':\"hjds\"}"
   ]
  },
  {
   "cell_type": "code",
   "execution_count": 6,
   "id": "e30225e2",
   "metadata": {},
   "outputs": [
    {
     "data": {
      "text/plain": [
       "'hjds'"
      ]
     },
     "execution_count": 6,
     "metadata": {},
     "output_type": "execute_result"
    }
   ],
   "source": [
    "d4['_']"
   ]
  },
  {
   "cell_type": "code",
   "execution_count": 7,
   "id": "1cfbc748",
   "metadata": {},
   "outputs": [
    {
     "data": {
      "text/plain": [
       "{'_': 'hjds'}"
      ]
     },
     "execution_count": 7,
     "metadata": {},
     "output_type": "execute_result"
    }
   ],
   "source": [
    "d4"
   ]
  },
  {
   "cell_type": "code",
   "execution_count": 8,
   "id": "147d6830",
   "metadata": {},
   "outputs": [
    {
     "data": {
      "text/plain": [
       "{'': 'sufh'}"
      ]
     },
     "execution_count": 8,
     "metadata": {},
     "output_type": "execute_result"
    }
   ],
   "source": [
    "d3"
   ]
  },
  {
   "cell_type": "code",
   "execution_count": 10,
   "id": "8b271a1d",
   "metadata": {},
   "outputs": [
    {
     "data": {
      "text/plain": [
       "{'': 'sufh'}"
      ]
     },
     "execution_count": 10,
     "metadata": {},
     "output_type": "execute_result"
    }
   ],
   "source": [
    "d3"
   ]
  },
  {
   "cell_type": "code",
   "execution_count": 16,
   "id": "0962ce61",
   "metadata": {},
   "outputs": [
    {
     "data": {
      "text/plain": [
       "'sufh'"
      ]
     },
     "execution_count": 16,
     "metadata": {},
     "output_type": "execute_result"
    }
   ],
   "source": [
    "d3[_]"
   ]
  },
  {
   "cell_type": "code",
   "execution_count": 17,
   "id": "a01bd53c",
   "metadata": {},
   "outputs": [
    {
     "data": {
      "text/plain": [
       "{'sufh': 'sufh'}"
      ]
     },
     "execution_count": 17,
     "metadata": {},
     "output_type": "execute_result"
    }
   ],
   "source": [
    "d3"
   ]
  },
  {
   "cell_type": "code",
   "execution_count": null,
   "id": "546e7a52",
   "metadata": {
    "scrolled": true
   },
   "outputs": [],
   "source": [
    "er = dict({_:\"45\"})"
   ]
  },
  {
   "cell_type": "code",
   "execution_count": 28,
   "id": "792b231d",
   "metadata": {},
   "outputs": [],
   "source": [
    "gk7 = {'_':\"gff\"}"
   ]
  },
  {
   "cell_type": "code",
   "execution_count": 29,
   "id": "9188e9c4",
   "metadata": {},
   "outputs": [
    {
     "data": {
      "text/plain": [
       "{'_': 'gff'}"
      ]
     },
     "execution_count": 29,
     "metadata": {},
     "output_type": "execute_result"
    }
   ],
   "source": [
    "gk7"
   ]
  },
  {
   "cell_type": "code",
   "execution_count": 30,
   "id": "c40de110",
   "metadata": {},
   "outputs": [
    {
     "data": {
      "text/plain": [
       "{'_': 'gff'}"
      ]
     },
     "execution_count": 30,
     "metadata": {},
     "output_type": "execute_result"
    }
   ],
   "source": [
    "gk7"
   ]
  },
  {
   "cell_type": "code",
   "execution_count": null,
   "id": "6462479a",
   "metadata": {},
   "outputs": [],
   "source": []
  }
 ],
 "metadata": {
  "kernelspec": {
   "display_name": "Python 3",
   "language": "python",
   "name": "python3"
  },
  "language_info": {
   "codemirror_mode": {
    "name": "ipython",
    "version": 3
   },
   "file_extension": ".py",
   "mimetype": "text/x-python",
   "name": "python",
   "nbconvert_exporter": "python",
   "pygments_lexer": "ipython3",
   "version": "3.8.8"
  }
 },
 "nbformat": 4,
 "nbformat_minor": 5
}
