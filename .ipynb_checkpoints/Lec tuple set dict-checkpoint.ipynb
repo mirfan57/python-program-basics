{
 "cells": [
  {
   "cell_type": "markdown",
   "id": "526d1332",
   "metadata": {},
   "source": [
    "## TUPLE"
   ]
  },
  {
   "cell_type": "markdown",
   "id": "b1598097",
   "metadata": {},
   "source": [
    "List is a mutable entity."
   ]
  },
  {
   "cell_type": "code",
   "execution_count": 1,
   "id": "0e8874cc",
   "metadata": {},
   "outputs": [],
   "source": [
    "l=[1,True,4,'new',45.5]"
   ]
  },
  {
   "cell_type": "code",
   "execution_count": 2,
   "id": "d7b23985",
   "metadata": {},
   "outputs": [
    {
     "data": {
      "text/plain": [
       "[1, True, 60, 'new', 45.5]"
      ]
     },
     "execution_count": 2,
     "metadata": {},
     "output_type": "execute_result"
    }
   ],
   "source": [
    "l[2]=60\n",
    "l"
   ]
  },
  {
   "cell_type": "code",
   "execution_count": 3,
   "id": "7dd25263",
   "metadata": {},
   "outputs": [],
   "source": [
    "t=(1,True,4,'new',45.5)"
   ]
  },
  {
   "cell_type": "code",
   "execution_count": 5,
   "id": "d68945bf",
   "metadata": {},
   "outputs": [
    {
     "data": {
      "text/plain": [
       "4"
      ]
     },
     "execution_count": 5,
     "metadata": {},
     "output_type": "execute_result"
    }
   ],
   "source": [
    "t[2]"
   ]
  },
  {
   "cell_type": "markdown",
   "id": "f209a756",
   "metadata": {},
   "source": [
    "Tuple elements are immutable. 'tuple' object does not support item assignment. tuples can be appended."
   ]
  },
  {
   "cell_type": "code",
   "execution_count": 6,
   "id": "2b24362c",
   "metadata": {},
   "outputs": [
    {
     "data": {
      "text/plain": [
       "(1, True, 4, 'new', 45.5, 3, False, 8.5)"
      ]
     },
     "execution_count": 6,
     "metadata": {},
     "output_type": "execute_result"
    }
   ],
   "source": [
    "t1=(3,False,8.5)\n",
    "t+t1"
   ]
  },
  {
   "cell_type": "code",
   "execution_count": 7,
   "id": "83b78f2e",
   "metadata": {},
   "outputs": [
    {
     "data": {
      "text/plain": [
       "(1, True, 4, 'new', 45.5, 1, True, 4, 'new', 45.5, 1, True, 4, 'new', 45.5)"
      ]
     },
     "execution_count": 7,
     "metadata": {},
     "output_type": "execute_result"
    }
   ],
   "source": [
    "t*3"
   ]
  },
  {
   "cell_type": "markdown",
   "id": "a26799be",
   "metadata": {},
   "source": [
    "Insert a single element at a particular position in tuple. Since it doesnot have insert operation like list so first convert the tuple into a list and then insert element then again reconvert into tuple. "
   ]
  },
  {
   "cell_type": "code",
   "execution_count": 8,
   "id": "fc2b490e",
   "metadata": {},
   "outputs": [
    {
     "data": {
      "text/plain": [
       "(1, True, 4, 'new', 45.5)"
      ]
     },
     "execution_count": 8,
     "metadata": {},
     "output_type": "execute_result"
    }
   ],
   "source": [
    "t"
   ]
  },
  {
   "cell_type": "code",
   "execution_count": 9,
   "id": "b5e75c99",
   "metadata": {},
   "outputs": [],
   "source": [
    "l2=list(t)"
   ]
  },
  {
   "cell_type": "code",
   "execution_count": 10,
   "id": "87a29e67",
   "metadata": {},
   "outputs": [
    {
     "data": {
      "text/plain": [
       "[1, True, 54, 4, 'new', 45.5]"
      ]
     },
     "execution_count": 10,
     "metadata": {},
     "output_type": "execute_result"
    }
   ],
   "source": [
    "l2.insert(2,54)\n",
    "l2"
   ]
  },
  {
   "cell_type": "code",
   "execution_count": 11,
   "id": "723b4442",
   "metadata": {},
   "outputs": [
    {
     "data": {
      "text/plain": [
       "(1, True, 54, 4, 'new', 45.5)"
      ]
     },
     "execution_count": 11,
     "metadata": {},
     "output_type": "execute_result"
    }
   ],
   "source": [
    "tuple(l2)"
   ]
  },
  {
   "cell_type": "markdown",
   "id": "8bd3c63e",
   "metadata": {},
   "source": [
    "As I convert a tuple into list, immutability concept is not violated as my complete memory location has changed and the insert operation is performed on list in the new location."
   ]
  },
  {
   "cell_type": "code",
   "execution_count": 16,
   "id": "0ace82a4",
   "metadata": {},
   "outputs": [
    {
     "data": {
      "text/plain": [
       "[34, 8.9, 'stack', 6.7, 4]"
      ]
     },
     "execution_count": 16,
     "metadata": {},
     "output_type": "execute_result"
    }
   ],
   "source": [
    "t=((3,6.7,33),(99,'full',3,True),5.77,44,False,[34,8.9,'stack',6.7,4])\n",
    "t[5]"
   ]
  },
  {
   "cell_type": "code",
   "execution_count": 18,
   "id": "875d01f8",
   "metadata": {},
   "outputs": [
    {
     "data": {
      "text/plain": [
       "8.9"
      ]
     },
     "execution_count": 18,
     "metadata": {},
     "output_type": "execute_result"
    }
   ],
   "source": [
    "t[5][1]"
   ]
  },
  {
   "cell_type": "code",
   "execution_count": 17,
   "id": "ad042f4b",
   "metadata": {},
   "outputs": [
    {
     "data": {
      "text/plain": [
       "[8.9, 'stack', 6.7, 4]"
      ]
     },
     "execution_count": 17,
     "metadata": {},
     "output_type": "execute_result"
    }
   ],
   "source": [
    "t[5][1:5]"
   ]
  },
  {
   "cell_type": "code",
   "execution_count": 19,
   "id": "c38c3d54",
   "metadata": {},
   "outputs": [
    {
     "data": {
      "text/plain": [
       "('full', 3)"
      ]
     },
     "execution_count": 19,
     "metadata": {},
     "output_type": "execute_result"
    }
   ],
   "source": [
    "t[1][1:3]"
   ]
  },
  {
   "cell_type": "code",
   "execution_count": 20,
   "id": "69875091",
   "metadata": {},
   "outputs": [
    {
     "data": {
      "text/plain": [
       "((3, 6.7, 33),\n",
       " (99, 'full', 3, True),\n",
       " 5.77,\n",
       " 44,\n",
       " False,\n",
       " [34, 8.9, 'stack', 6.7, 4])"
      ]
     },
     "execution_count": 20,
     "metadata": {},
     "output_type": "execute_result"
    }
   ],
   "source": [
    "t"
   ]
  },
  {
   "cell_type": "code",
   "execution_count": 21,
   "id": "5f20424e",
   "metadata": {},
   "outputs": [
    {
     "data": {
      "text/plain": [
       "(3, False, 8.5)"
      ]
     },
     "execution_count": 21,
     "metadata": {},
     "output_type": "execute_result"
    }
   ],
   "source": [
    "t1"
   ]
  },
  {
   "cell_type": "code",
   "execution_count": 22,
   "id": "686a3929",
   "metadata": {},
   "outputs": [
    {
     "name": "stdout",
     "output_type": "stream",
     "text": [
      "lenght is not same\n"
     ]
    }
   ],
   "source": [
    "if len(t)==len(t1):\n",
    "    print('lenght is same')\n",
    "else:\n",
    "    print('lenght is not same')"
   ]
  },
  {
   "cell_type": "code",
   "execution_count": 25,
   "id": "9c219559",
   "metadata": {},
   "outputs": [
    {
     "name": "stdout",
     "output_type": "stream",
     "text": [
      "give a input you want to check: step\n",
      "yes input is present inside tuple\n"
     ]
    }
   ],
   "source": [
    "t=(3,6.3,'stack',45.3,False,4,'dev','step')\n",
    "i=input('give a input you want to check: ')\n",
    "\n",
    "if i in t:\n",
    "    print('yes input is present inside tuple')\n",
    "else:\n",
    "    print('no input is not present')"
   ]
  },
  {
   "cell_type": "markdown",
   "id": "7d934dc5",
   "metadata": {},
   "source": [
    "## SET"
   ]
  },
  {
   "cell_type": "markdown",
   "id": "a029e798",
   "metadata": {},
   "source": [
    "#### Set is a collection which will always hold distinct element inside it."
   ]
  },
  {
   "cell_type": "code",
   "execution_count": 26,
   "id": "b1038de5",
   "metadata": {},
   "outputs": [
    {
     "data": {
      "text/plain": [
       "set"
      ]
     },
     "execution_count": 26,
     "metadata": {},
     "output_type": "execute_result"
    }
   ],
   "source": [
    "x=set()\n",
    "type(x)"
   ]
  },
  {
   "cell_type": "code",
   "execution_count": 37,
   "id": "3b2f14a2",
   "metadata": {},
   "outputs": [],
   "source": [
    "l=[34,56,34,'Sun',67,67,56,98,'son','son',98,45,33535,535,35355,353356646]"
   ]
  },
  {
   "cell_type": "markdown",
   "id": "84b27b52",
   "metadata": {},
   "source": [
    "I want to obtain the unique values and remove all repeating elements. Using set we can easily achieve this thing. Though it looks like set() function gives us sorted or ordered data (this is an illusion) as the definition says that it builds an unordered collection of unique elements."
   ]
  },
  {
   "cell_type": "code",
   "execution_count": 38,
   "id": "05f20198",
   "metadata": {},
   "outputs": [
    {
     "data": {
      "text/plain": [
       "{33535, 34, 353356646, 35355, 45, 535, 56, 67, 98, 'Sun', 'son'}"
      ]
     },
     "execution_count": 38,
     "metadata": {},
     "output_type": "execute_result"
    }
   ],
   "source": [
    "s=set(l)\n",
    "s"
   ]
  },
  {
   "cell_type": "markdown",
   "id": "a4434283",
   "metadata": {},
   "source": [
    "Immutable entities (string, tuple) can be kept inside set while mutable entities (list) cannot."
   ]
  },
  {
   "cell_type": "code",
   "execution_count": 33,
   "id": "31ab9c11",
   "metadata": {},
   "outputs": [
    {
     "name": "stdout",
     "output_type": "stream",
     "text": [
      "34\n",
      "67\n",
      "98\n",
      "Sun\n",
      "45\n",
      "56\n",
      "son\n"
     ]
    }
   ],
   "source": [
    "for i in s:\n",
    "    print(i)"
   ]
  },
  {
   "cell_type": "code",
   "execution_count": 35,
   "id": "90cf8790",
   "metadata": {},
   "outputs": [
    {
     "data": {
      "text/plain": [
       "True"
      ]
     },
     "execution_count": 35,
     "metadata": {},
     "output_type": "execute_result"
    }
   ],
   "source": [
    "'son' in s"
   ]
  },
  {
   "cell_type": "code",
   "execution_count": 36,
   "id": "e37cd82b",
   "metadata": {},
   "outputs": [
    {
     "ename": "TypeError",
     "evalue": "'set' object is not subscriptable",
     "output_type": "error",
     "traceback": [
      "\u001b[1;31m---------------------------------------------------------------------------\u001b[0m",
      "\u001b[1;31mTypeError\u001b[0m                                 Traceback (most recent call last)",
      "\u001b[1;32m<ipython-input-36-c9c96910e542>\u001b[0m in \u001b[0;36m<module>\u001b[1;34m\u001b[0m\n\u001b[1;32m----> 1\u001b[1;33m \u001b[0ms\u001b[0m\u001b[1;33m[\u001b[0m\u001b[1;36m0\u001b[0m\u001b[1;33m]\u001b[0m\u001b[1;33m\u001b[0m\u001b[1;33m\u001b[0m\u001b[0m\n\u001b[0m",
      "\u001b[1;31mTypeError\u001b[0m: 'set' object is not subscriptable"
     ]
    }
   ],
   "source": [
    "s[0]"
   ]
  },
  {
   "cell_type": "markdown",
   "id": "6a67d795",
   "metadata": {},
   "source": [
    "'set' object is not subscriptable. We cannot perform indexing operation on sets."
   ]
  },
  {
   "cell_type": "markdown",
   "id": "4b8a2ef3",
   "metadata": {},
   "source": [
    "Set will never accomodate a nested list as it expects a flattened list."
   ]
  },
  {
   "cell_type": "code",
   "execution_count": 40,
   "id": "dc20d5dc",
   "metadata": {},
   "outputs": [
    {
     "data": {
      "text/plain": [
       "set()"
      ]
     },
     "execution_count": 40,
     "metadata": {},
     "output_type": "execute_result"
    }
   ],
   "source": [
    "s=set()\n",
    "s"
   ]
  },
  {
   "cell_type": "code",
   "execution_count": 47,
   "id": "b116c155",
   "metadata": {},
   "outputs": [
    {
     "data": {
      "text/plain": [
       "{34.5, 43, 'kumar', 'sudh'}"
      ]
     },
     "execution_count": 47,
     "metadata": {},
     "output_type": "execute_result"
    }
   ],
   "source": [
    "s.add(43)\n",
    "s.add('sudh')\n",
    "s.add('kumar')\n",
    "s.add(34.5)\n",
    "s"
   ]
  },
  {
   "cell_type": "code",
   "execution_count": 44,
   "id": "454f3f1c",
   "metadata": {},
   "outputs": [
    {
     "ename": "TypeError",
     "evalue": "unhashable type: 'list'",
     "output_type": "error",
     "traceback": [
      "\u001b[1;31m---------------------------------------------------------------------------\u001b[0m",
      "\u001b[1;31mTypeError\u001b[0m                                 Traceback (most recent call last)",
      "\u001b[1;32m<ipython-input-44-b0d9d421a6dc>\u001b[0m in \u001b[0;36m<module>\u001b[1;34m\u001b[0m\n\u001b[1;32m----> 1\u001b[1;33m \u001b[0ms\u001b[0m\u001b[1;33m.\u001b[0m\u001b[0madd\u001b[0m\u001b[1;33m(\u001b[0m\u001b[1;33m[\u001b[0m\u001b[1;36m23\u001b[0m\u001b[1;33m]\u001b[0m\u001b[1;33m)\u001b[0m\u001b[1;33m\u001b[0m\u001b[1;33m\u001b[0m\u001b[0m\n\u001b[0m",
      "\u001b[1;31mTypeError\u001b[0m: unhashable type: 'list'"
     ]
    }
   ],
   "source": [
    "s.add([23])"
   ]
  },
  {
   "cell_type": "code",
   "execution_count": 48,
   "id": "62ceb92d",
   "metadata": {},
   "outputs": [
    {
     "data": {
      "text/plain": [
       "{34.5, 43, 'sudh'}"
      ]
     },
     "execution_count": 48,
     "metadata": {},
     "output_type": "execute_result"
    }
   ],
   "source": [
    "s.remove('kumar')\n",
    "s"
   ]
  },
  {
   "cell_type": "code",
   "execution_count": 50,
   "id": "ee548e58",
   "metadata": {},
   "outputs": [
    {
     "data": {
      "text/plain": [
       "set()"
      ]
     },
     "execution_count": 50,
     "metadata": {},
     "output_type": "execute_result"
    }
   ],
   "source": [
    "s.clear()\n",
    "s"
   ]
  },
  {
   "cell_type": "code",
   "execution_count": 53,
   "id": "d854f9ac",
   "metadata": {},
   "outputs": [],
   "source": [
    "s={34,3,55,'ner',34.5,55,'ner',55,573,57,98}"
   ]
  },
  {
   "cell_type": "code",
   "execution_count": 54,
   "id": "1d7bd59f",
   "metadata": {},
   "outputs": [
    {
     "data": {
      "text/plain": [
       "{3, 34, 34.5, 55, 57, 573, 98, 'ner'}"
      ]
     },
     "execution_count": 54,
     "metadata": {},
     "output_type": "execute_result"
    }
   ],
   "source": [
    "s"
   ]
  },
  {
   "cell_type": "code",
   "execution_count": 55,
   "id": "65b91b84",
   "metadata": {},
   "outputs": [
    {
     "data": {
      "text/plain": [
       "{34, 35.3, 43, 55.2, 'fel', 'sell'}"
      ]
     },
     "execution_count": 55,
     "metadata": {},
     "output_type": "execute_result"
    }
   ],
   "source": [
    "l=[34,55.2,'sell',35.3,'fel',43]\n",
    "s1=set(l)\n",
    "s1"
   ]
  },
  {
   "cell_type": "code",
   "execution_count": 56,
   "id": "f06c00c1",
   "metadata": {},
   "outputs": [
    {
     "ename": "TypeError",
     "evalue": "unsupported operand type(s) for +: 'set' and 'set'",
     "output_type": "error",
     "traceback": [
      "\u001b[1;31m---------------------------------------------------------------------------\u001b[0m",
      "\u001b[1;31mTypeError\u001b[0m                                 Traceback (most recent call last)",
      "\u001b[1;32m<ipython-input-56-d4a57f000bc9>\u001b[0m in \u001b[0;36m<module>\u001b[1;34m\u001b[0m\n\u001b[1;32m----> 1\u001b[1;33m \u001b[0ms\u001b[0m\u001b[1;33m+\u001b[0m\u001b[0ms1\u001b[0m\u001b[1;33m\u001b[0m\u001b[1;33m\u001b[0m\u001b[0m\n\u001b[0m",
      "\u001b[1;31mTypeError\u001b[0m: unsupported operand type(s) for +: 'set' and 'set'"
     ]
    }
   ],
   "source": [
    "s+s1"
   ]
  },
  {
   "cell_type": "code",
   "execution_count": 57,
   "id": "1c1cd52d",
   "metadata": {},
   "outputs": [
    {
     "ename": "TypeError",
     "evalue": "unsupported operand type(s) for *: 'set' and 'int'",
     "output_type": "error",
     "traceback": [
      "\u001b[1;31m---------------------------------------------------------------------------\u001b[0m",
      "\u001b[1;31mTypeError\u001b[0m                                 Traceback (most recent call last)",
      "\u001b[1;32m<ipython-input-57-cfdd4c7eed53>\u001b[0m in \u001b[0;36m<module>\u001b[1;34m\u001b[0m\n\u001b[1;32m----> 1\u001b[1;33m \u001b[0ms\u001b[0m\u001b[1;33m*\u001b[0m\u001b[1;36m4\u001b[0m\u001b[1;33m\u001b[0m\u001b[1;33m\u001b[0m\u001b[0m\n\u001b[0m",
      "\u001b[1;31mTypeError\u001b[0m: unsupported operand type(s) for *: 'set' and 'int'"
     ]
    }
   ],
   "source": [
    "s*4"
   ]
  },
  {
   "cell_type": "markdown",
   "id": "f1cd3b72",
   "metadata": {},
   "source": [
    "Append and multiply operations are not possible in case of 'sets'"
   ]
  },
  {
   "cell_type": "code",
   "execution_count": 58,
   "id": "508ad3e5",
   "metadata": {},
   "outputs": [],
   "source": [
    "l1=list(s)\n",
    "l1.append(26)"
   ]
  },
  {
   "cell_type": "code",
   "execution_count": 59,
   "id": "685e2431",
   "metadata": {},
   "outputs": [
    {
     "data": {
      "text/plain": [
       "[34, 3, 34.5, 98, 'ner', 55, 57, 573, 26]"
      ]
     },
     "execution_count": 59,
     "metadata": {},
     "output_type": "execute_result"
    }
   ],
   "source": [
    "l1"
   ]
  },
  {
   "cell_type": "code",
   "execution_count": 60,
   "id": "71a893c0",
   "metadata": {},
   "outputs": [
    {
     "data": {
      "text/plain": [
       "(34, 3, 34.5, 98, 'ner', 55, 57, 573)"
      ]
     },
     "execution_count": 60,
     "metadata": {},
     "output_type": "execute_result"
    }
   ],
   "source": [
    "t=tuple(s)\n",
    "t"
   ]
  },
  {
   "cell_type": "code",
   "execution_count": 61,
   "id": "9bb21f8d",
   "metadata": {},
   "outputs": [
    {
     "data": {
      "text/plain": [
       "{3, 34, 34.5, 55, 57, 573, 98, 'ner'}"
      ]
     },
     "execution_count": 61,
     "metadata": {},
     "output_type": "execute_result"
    }
   ],
   "source": [
    "s=set(t)\n",
    "s"
   ]
  },
  {
   "cell_type": "markdown",
   "id": "fba91d96",
   "metadata": {},
   "source": [
    "## DICTIONARY"
   ]
  },
  {
   "cell_type": "code",
   "execution_count": 62,
   "id": "e223d0ba",
   "metadata": {},
   "outputs": [
    {
     "data": {
      "text/plain": [
       "dict"
      ]
     },
     "execution_count": 62,
     "metadata": {},
     "output_type": "execute_result"
    }
   ],
   "source": [
    "x={}\n",
    "type(x)"
   ]
  },
  {
   "cell_type": "code",
   "execution_count": 63,
   "id": "b3c19f85",
   "metadata": {},
   "outputs": [
    {
     "data": {
      "text/plain": [
       "set"
      ]
     },
     "execution_count": 63,
     "metadata": {},
     "output_type": "execute_result"
    }
   ],
   "source": [
    "x1={34,'set',33}\n",
    "type(x1)"
   ]
  },
  {
   "cell_type": "markdown",
   "id": "5cd53daa",
   "metadata": {},
   "source": [
    "Both 'set' and 'dictionary' uses curly braces to hold the data but the difference occurs in how they hold this data."
   ]
  },
  {
   "cell_type": "markdown",
   "id": "2eaf16a7",
   "metadata": {},
   "source": [
    "Set holds flattened data without any pairing."
   ]
  },
  {
   "cell_type": "markdown",
   "id": "f38a918f",
   "metadata": {},
   "source": [
    "Dictionary holds data in 'key' & 'value' pair form of arrangement."
   ]
  },
  {
   "cell_type": "code",
   "execution_count": 65,
   "id": "3289319e",
   "metadata": {},
   "outputs": [],
   "source": [
    "x={'name':'sudh','age': 25}    #key=name,age  value='sudh',25"
   ]
  },
  {
   "cell_type": "markdown",
   "id": "697a7c4b",
   "metadata": {},
   "source": [
    "In case of 'list' system creates defalut 'key' i.e. indexes while the element we provide is the 'value'."
   ]
  },
  {
   "cell_type": "markdown",
   "id": "bf5f4f74",
   "metadata": {},
   "source": [
    "If key has a duplicate then it stores the latest value corresponding to that key while 'value' can have duplicate data."
   ]
  },
  {
   "cell_type": "code",
   "execution_count": 67,
   "id": "4bcbabef",
   "metadata": {},
   "outputs": [
    {
     "data": {
      "text/plain": [
       "{'name': 'irfan', 'loc': 'barc', True: 'this', 34: 357, 34.5: 'barc'}"
      ]
     },
     "execution_count": 67,
     "metadata": {},
     "output_type": "execute_result"
    }
   ],
   "source": [
    "x1={'name':'mohd','loc':'barc',True:'not',34:357,'name':'irfan',True:'this',34.5:'barc'}\n",
    "x1"
   ]
  },
  {
   "cell_type": "code",
   "execution_count": 69,
   "id": "2fd5258f",
   "metadata": {},
   "outputs": [
    {
     "data": {
      "text/plain": [
       "{'cas': (34, 46.4, 66), 34: [34, 55, 743, 77.4], False: {(5+6j), 3, 44, 6}}"
      ]
     },
     "execution_count": 69,
     "metadata": {},
     "output_type": "execute_result"
    }
   ],
   "source": [
    "x2={'cas':(34,46.4,66),34:[34,55,743,77.4],False:{44,3,6,5+6j}}\n",
    "x2"
   ]
  },
  {
   "cell_type": "markdown",
   "id": "dd3c7893",
   "metadata": {},
   "source": [
    "As a value tuple, list, dict, set, bool, float, int, str, complex everything is possible. But as key tuple is allowed whereas set, list, dict are not."
   ]
  },
  {
   "cell_type": "code",
   "execution_count": 72,
   "id": "40df2ca5",
   "metadata": {},
   "outputs": [
    {
     "data": {
      "text/plain": [
       "{(34, 6.7, False): 'str', 45.5: 34, 'hi': 'fd'}"
      ]
     },
     "execution_count": 72,
     "metadata": {},
     "output_type": "execute_result"
    }
   ],
   "source": [
    "x3={(34,6.7,False):'str',45.5:34,'hi':'fd'}\n",
    "x3"
   ]
  },
  {
   "cell_type": "code",
   "execution_count": 73,
   "id": "40616d48",
   "metadata": {},
   "outputs": [
    {
     "data": {
      "text/plain": [
       "'this'"
      ]
     },
     "execution_count": 73,
     "metadata": {},
     "output_type": "execute_result"
    }
   ],
   "source": [
    "x1[True]"
   ]
  },
  {
   "cell_type": "code",
   "execution_count": 74,
   "id": "e74365d0",
   "metadata": {},
   "outputs": [
    {
     "data": {
      "text/plain": [
       "[34, 55, 743, 77.4]"
      ]
     },
     "execution_count": 74,
     "metadata": {},
     "output_type": "execute_result"
    }
   ],
   "source": [
    "x2[34]"
   ]
  },
  {
   "cell_type": "code",
   "execution_count": 75,
   "id": "011f60c7",
   "metadata": {},
   "outputs": [
    {
     "data": {
      "text/plain": [
       "743"
      ]
     },
     "execution_count": 75,
     "metadata": {},
     "output_type": "execute_result"
    }
   ],
   "source": [
    "x2[34][2]"
   ]
  },
  {
   "cell_type": "code",
   "execution_count": 108,
   "id": "7294318e",
   "metadata": {},
   "outputs": [],
   "source": [
    "x4={'name':{'com':32,23:'not','iter':[34,5.3,True]},'loc':'barc',True:2.4,34:[23,43.3,False],(34,43):3,'firname':True,'_sd':('kik',3.4),34.5:{34.2,'kal'}}"
   ]
  },
  {
   "cell_type": "code",
   "execution_count": 85,
   "id": "69f14c7b",
   "metadata": {},
   "outputs": [
    {
     "data": {
      "text/plain": [
       "5.3"
      ]
     },
     "execution_count": 85,
     "metadata": {},
     "output_type": "execute_result"
    }
   ],
   "source": [
    "x4['name']['iter'][1]"
   ]
  },
  {
   "cell_type": "code",
   "execution_count": 86,
   "id": "434c7b31",
   "metadata": {},
   "outputs": [
    {
     "data": {
      "text/plain": [
       "{'name': 'irfan', 'loc': 'barc', True: 'this', 34: 357, 34.5: 'barc'}"
      ]
     },
     "execution_count": 86,
     "metadata": {},
     "output_type": "execute_result"
    }
   ],
   "source": [
    "x1"
   ]
  },
  {
   "cell_type": "code",
   "execution_count": 87,
   "id": "bc02a3d1",
   "metadata": {},
   "outputs": [
    {
     "data": {
      "text/plain": [
       "{'cas': (34, 46.4, 66), 34: [34, 55, 743, 77.4], False: {(5+6j), 3, 44, 6}}"
      ]
     },
     "execution_count": 87,
     "metadata": {},
     "output_type": "execute_result"
    }
   ],
   "source": [
    "x2"
   ]
  },
  {
   "cell_type": "code",
   "execution_count": 88,
   "id": "c81efc44",
   "metadata": {},
   "outputs": [
    {
     "ename": "TypeError",
     "evalue": "unsupported operand type(s) for +: 'dict' and 'dict'",
     "output_type": "error",
     "traceback": [
      "\u001b[1;31m---------------------------------------------------------------------------\u001b[0m",
      "\u001b[1;31mTypeError\u001b[0m                                 Traceback (most recent call last)",
      "\u001b[1;32m<ipython-input-88-dd01ff2e8cbd>\u001b[0m in \u001b[0;36m<module>\u001b[1;34m\u001b[0m\n\u001b[1;32m----> 1\u001b[1;33m \u001b[0mx1\u001b[0m\u001b[1;33m+\u001b[0m\u001b[0mx2\u001b[0m\u001b[1;33m\u001b[0m\u001b[1;33m\u001b[0m\u001b[0m\n\u001b[0m",
      "\u001b[1;31mTypeError\u001b[0m: unsupported operand type(s) for +: 'dict' and 'dict'"
     ]
    }
   ],
   "source": [
    "x1+x2"
   ]
  },
  {
   "cell_type": "code",
   "execution_count": 89,
   "id": "2f44ad24",
   "metadata": {},
   "outputs": [
    {
     "ename": "TypeError",
     "evalue": "unsupported operand type(s) for *: 'dict' and 'int'",
     "output_type": "error",
     "traceback": [
      "\u001b[1;31m---------------------------------------------------------------------------\u001b[0m",
      "\u001b[1;31mTypeError\u001b[0m                                 Traceback (most recent call last)",
      "\u001b[1;32m<ipython-input-89-2d00a3a2ded7>\u001b[0m in \u001b[0;36m<module>\u001b[1;34m\u001b[0m\n\u001b[1;32m----> 1\u001b[1;33m \u001b[0mx2\u001b[0m \u001b[1;33m*\u001b[0m \u001b[1;36m2\u001b[0m\u001b[1;33m\u001b[0m\u001b[1;33m\u001b[0m\u001b[0m\n\u001b[0m",
      "\u001b[1;31mTypeError\u001b[0m: unsupported operand type(s) for *: 'dict' and 'int'"
     ]
    }
   ],
   "source": [
    "x2 * 2"
   ]
  },
  {
   "cell_type": "code",
   "execution_count": 90,
   "id": "104e7565",
   "metadata": {},
   "outputs": [
    {
     "data": {
      "text/plain": [
       "{'cas': (34, 46.4, 66), 34: [34, 55, 743, 77.4], False: {(5+6j), 3, 44, 6}}"
      ]
     },
     "execution_count": 90,
     "metadata": {},
     "output_type": "execute_result"
    }
   ],
   "source": [
    "x2"
   ]
  },
  {
   "cell_type": "code",
   "execution_count": 92,
   "id": "e6e4e055",
   "metadata": {},
   "outputs": [
    {
     "data": {
      "text/plain": [
       "{'cas': (34, 46.4, 66), 34: 'change', False: {(5+6j), 3, 44, 6}}"
      ]
     },
     "execution_count": 92,
     "metadata": {},
     "output_type": "execute_result"
    }
   ],
   "source": [
    "x2[34] = 'change'\n",
    "x2"
   ]
  },
  {
   "cell_type": "markdown",
   "id": "c7424757",
   "metadata": {},
   "source": [
    "In dictionary, reassignment operation is possible in case of value as shown above."
   ]
  },
  {
   "cell_type": "markdown",
   "id": "9da7a64b",
   "metadata": {},
   "source": [
    "### Dictionary is a mutable entitiy just like a List."
   ]
  },
  {
   "cell_type": "code",
   "execution_count": 94,
   "id": "e005b725",
   "metadata": {},
   "outputs": [
    {
     "data": {
      "text/plain": [
       "{'cas': (34, 46.4, 66), 34: 3646, False: {(5+6j), 3, 44, 6}}"
      ]
     },
     "execution_count": 94,
     "metadata": {},
     "output_type": "execute_result"
    }
   ],
   "source": [
    "x2[34]=3646\n",
    "x2"
   ]
  },
  {
   "cell_type": "code",
   "execution_count": 95,
   "id": "7b89626c",
   "metadata": {},
   "outputs": [
    {
     "data": {
      "text/plain": [
       "{'cas': (34, 46.4, 66), 34: 3636, False: {(5+6j), 3, 44, 6}}"
      ]
     },
     "execution_count": 95,
     "metadata": {},
     "output_type": "execute_result"
    }
   ],
   "source": [
    "x2[34] -= 10\n",
    "x2"
   ]
  },
  {
   "cell_type": "code",
   "execution_count": 96,
   "id": "f3abe97f",
   "metadata": {},
   "outputs": [
    {
     "data": {
      "text/plain": [
       "dict_keys(['cas', 34, False])"
      ]
     },
     "execution_count": 96,
     "metadata": {},
     "output_type": "execute_result"
    }
   ],
   "source": [
    "x2.keys()"
   ]
  },
  {
   "cell_type": "code",
   "execution_count": 97,
   "id": "305dae0c",
   "metadata": {},
   "outputs": [
    {
     "name": "stdout",
     "output_type": "stream",
     "text": [
      "cas\n",
      "34\n",
      "False\n"
     ]
    }
   ],
   "source": [
    "for i in x2:\n",
    "    print(i)"
   ]
  },
  {
   "cell_type": "markdown",
   "id": "18490340",
   "metadata": {},
   "source": [
    "#### For dictionary d, if we iterate through a dictionary then i will give us 'keys' and d[i] will give values"
   ]
  },
  {
   "cell_type": "code",
   "execution_count": 98,
   "id": "eaba3800",
   "metadata": {},
   "outputs": [
    {
     "name": "stdout",
     "output_type": "stream",
     "text": [
      "(34, 46.4, 66)\n",
      "3636\n",
      "{3, 44, 6, (5+6j)}\n"
     ]
    }
   ],
   "source": [
    "for i in x2.keys():\n",
    "    print(x2[i])"
   ]
  },
  {
   "cell_type": "code",
   "execution_count": 109,
   "id": "9cddf722",
   "metadata": {},
   "outputs": [
    {
     "data": {
      "text/plain": [
       "{'name': {'com': 32, 23: 'not', 'iter': [34, 5.3, True]},\n",
       " 'loc': 'barc',\n",
       " True: 2.4,\n",
       " 34: [23, 43.3, False],\n",
       " (34, 43): 3,\n",
       " 'firname': True,\n",
       " '_sd': ('kik', 3.4),\n",
       " 34.5: {34.2, 'kal'}}"
      ]
     },
     "execution_count": 109,
     "metadata": {},
     "output_type": "execute_result"
    }
   ],
   "source": [
    "x4"
   ]
  },
  {
   "cell_type": "code",
   "execution_count": 110,
   "id": "17378f4f",
   "metadata": {},
   "outputs": [
    {
     "name": "stdout",
     "output_type": "stream",
     "text": [
      "<class 'dict'>\n",
      "<class 'str'>\n",
      "<class 'float'>\n",
      "<class 'list'>\n",
      "<class 'int'>\n",
      "<class 'bool'>\n",
      "<class 'tuple'>\n",
      "<class 'set'>\n"
     ]
    }
   ],
   "source": [
    "for i in x4.keys():\n",
    "    print(type(x4[i]))"
   ]
  },
  {
   "cell_type": "code",
   "execution_count": 111,
   "id": "9677b7a2",
   "metadata": {},
   "outputs": [
    {
     "data": {
      "text/plain": [
       "dict_items([('name', {'com': 32, 23: 'not', 'iter': [34, 5.3, True]}), ('loc', 'barc'), (True, 2.4), (34, [23, 43.3, False]), ((34, 43), 3), ('firname', True), ('_sd', ('kik', 3.4)), (34.5, {34.2, 'kal'})])"
      ]
     },
     "execution_count": 111,
     "metadata": {},
     "output_type": "execute_result"
    }
   ],
   "source": [
    "x4.items()"
   ]
  },
  {
   "cell_type": "markdown",
   "id": "8809f45a",
   "metadata": {},
   "source": [
    "items() provides a list of tuples of 'key' & 'value' pair."
   ]
  },
  {
   "cell_type": "markdown",
   "id": "721b0ab3",
   "metadata": {},
   "source": [
    "If I want to extract all the 'keys', then"
   ]
  },
  {
   "cell_type": "code",
   "execution_count": 116,
   "id": "466b13f1",
   "metadata": {},
   "outputs": [
    {
     "name": "stdout",
     "output_type": "stream",
     "text": [
      "name\n",
      "loc\n",
      "True\n",
      "34\n",
      "(34, 43)\n",
      "firname\n",
      "_sd\n",
      "34.5\n"
     ]
    }
   ],
   "source": [
    "for i in x4.items():\n",
    "    print(i[0])"
   ]
  },
  {
   "cell_type": "markdown",
   "id": "a09ef8e7",
   "metadata": {},
   "source": [
    "Extract all the values:"
   ]
  },
  {
   "cell_type": "code",
   "execution_count": 117,
   "id": "90472ab9",
   "metadata": {},
   "outputs": [
    {
     "name": "stdout",
     "output_type": "stream",
     "text": [
      "{'com': 32, 23: 'not', 'iter': [34, 5.3, True]}\n",
      "barc\n",
      "2.4\n",
      "[23, 43.3, False]\n",
      "3\n",
      "True\n",
      "('kik', 3.4)\n",
      "{34.2, 'kal'}\n"
     ]
    }
   ],
   "source": [
    "for i in x4.items():\n",
    "    print(i[1])"
   ]
  },
  {
   "cell_type": "markdown",
   "id": "944b9b34",
   "metadata": {},
   "source": [
    "Extract 3 from dictionary x below. Here, we have to convert 'set' into 'list' as 'set' is not subscriptable."
   ]
  },
  {
   "cell_type": "code",
   "execution_count": 118,
   "id": "85be3c0a",
   "metadata": {},
   "outputs": [],
   "source": [
    "x={23:{3,4.3,22}}"
   ]
  },
  {
   "cell_type": "code",
   "execution_count": 121,
   "id": "4cb34d65",
   "metadata": {},
   "outputs": [
    {
     "data": {
      "text/plain": [
       "{3, 4.3, 22}"
      ]
     },
     "execution_count": 121,
     "metadata": {},
     "output_type": "execute_result"
    }
   ],
   "source": [
    "x[23]"
   ]
  },
  {
   "cell_type": "code",
   "execution_count": 126,
   "id": "0ed84703",
   "metadata": {},
   "outputs": [
    {
     "data": {
      "text/plain": [
       "3"
      ]
     },
     "execution_count": 126,
     "metadata": {},
     "output_type": "execute_result"
    }
   ],
   "source": [
    "list(x[23])[0]"
   ]
  },
  {
   "cell_type": "markdown",
   "id": "a9d77855",
   "metadata": {},
   "source": [
    "#### 1.List is a collection which is ordered and changeable. Allows duplicate members.\n",
    "#### 2.Tuple is a collection which is ordered and unchangeable. Allows duplicate members.\n",
    "#### 3.Set is a collection which is unordered, unchangeable*, and unindexed. No duplicate members.\n",
    "#### 4.Dictionary is a collection which is ordered** and changeable. No duplicate members."
   ]
  },
  {
   "cell_type": "markdown",
   "id": "e9b28fce",
   "metadata": {},
   "source": [
    "## Class Task"
   ]
  },
  {
   "cell_type": "markdown",
   "id": "9f845cf7",
   "metadata": {},
   "source": [
    "#### 1. Take input as a paragraph by using input funcion.\n",
    "#### 2. Convert all of this input into list.\n",
    "#### 3. Remove all the duplicate elements from your list.\n",
    "#### 4. Use above distinct element as a key for dictionary & assign your name as a value of all the key for dictionay.\n",
    "#### 5. Try to print tuple of all the values.\n",
    "#### 6. Try to print list of all the key."
   ]
  },
  {
   "cell_type": "code",
   "execution_count": 186,
   "id": "c1b85ecb",
   "metadata": {},
   "outputs": [
    {
     "name": "stdout",
     "output_type": "stream",
     "text": [
      "Enter the paragraph: Hey my name is mohd. I am currently living in Delhi. I have completed my masters. I am doing course in data science.\n"
     ]
    },
    {
     "data": {
      "text/plain": [
       "{'Delhi.',\n",
       " 'Hey',\n",
       " 'I',\n",
       " 'am',\n",
       " 'completed',\n",
       " 'course',\n",
       " 'currently',\n",
       " 'data',\n",
       " 'doing',\n",
       " 'have',\n",
       " 'in',\n",
       " 'is',\n",
       " 'living',\n",
       " 'masters.',\n",
       " 'mohd.',\n",
       " 'my',\n",
       " 'name',\n",
       " 'science.'}"
      ]
     },
     "execution_count": 186,
     "metadata": {},
     "output_type": "execute_result"
    }
   ],
   "source": [
    "p = input('Enter the paragraph: ')\n",
    "#l = list(p)            list of letters\n",
    "#l = p.split('.')       list of sentences\n",
    "l = p.split()           # list of words\n",
    "s = set(l)\n",
    "s"
   ]
  },
  {
   "cell_type": "code",
   "execution_count": 187,
   "id": "609029e1",
   "metadata": {},
   "outputs": [
    {
     "data": {
      "text/plain": [
       "{'my': 'irfan',\n",
       " 'data': 'irfan',\n",
       " 'course': 'irfan',\n",
       " 'science.': 'irfan',\n",
       " 'name': 'irfan',\n",
       " 'I': 'irfan',\n",
       " 'currently': 'irfan',\n",
       " 'in': 'irfan',\n",
       " 'completed': 'irfan',\n",
       " 'Delhi.': 'irfan',\n",
       " 'masters.': 'irfan',\n",
       " 'mohd.': 'irfan',\n",
       " 'am': 'irfan',\n",
       " 'have': 'irfan',\n",
       " 'doing': 'irfan',\n",
       " 'living': 'irfan',\n",
       " 'Hey': 'irfan',\n",
       " 'is': 'irfan'}"
      ]
     },
     "execution_count": 187,
     "metadata": {},
     "output_type": "execute_result"
    }
   ],
   "source": [
    "d={}\n",
    "for i in s:\n",
    "    d[i]='irfan'\n",
    "d"
   ]
  },
  {
   "cell_type": "code",
   "execution_count": 188,
   "id": "8deccf59",
   "metadata": {},
   "outputs": [
    {
     "data": {
      "text/plain": [
       "{'my': 'irfan',\n",
       " 'data': 'irfan',\n",
       " 'course': 'irfan',\n",
       " 'science.': 'irfan',\n",
       " 'name': 'irfan',\n",
       " 'I': 'irfan',\n",
       " 'currently': 'irfan',\n",
       " 'in': 'irfan',\n",
       " 'completed': 'irfan',\n",
       " 'Delhi.': 'irfan',\n",
       " 'masters.': 'irfan',\n",
       " 'mohd.': 'irfan',\n",
       " 'am': 'irfan',\n",
       " 'have': 'irfan',\n",
       " 'doing': 'irfan',\n",
       " 'living': 'irfan',\n",
       " 'Hey': 'irfan',\n",
       " 'is': 'irfan'}"
      ]
     },
     "execution_count": 188,
     "metadata": {},
     "output_type": "execute_result"
    }
   ],
   "source": [
    "d = dict.fromkeys(s,'irfan')\n",
    "d"
   ]
  },
  {
   "cell_type": "code",
   "execution_count": 189,
   "id": "c720d313",
   "metadata": {},
   "outputs": [
    {
     "data": {
      "text/plain": [
       "18"
      ]
     },
     "execution_count": 189,
     "metadata": {},
     "output_type": "execute_result"
    }
   ],
   "source": [
    "len(d)"
   ]
  },
  {
   "cell_type": "code",
   "execution_count": 190,
   "id": "5b71db06",
   "metadata": {},
   "outputs": [
    {
     "data": {
      "text/plain": [
       "('irfan',\n",
       " 'irfan',\n",
       " 'irfan',\n",
       " 'irfan',\n",
       " 'irfan',\n",
       " 'irfan',\n",
       " 'irfan',\n",
       " 'irfan',\n",
       " 'irfan',\n",
       " 'irfan',\n",
       " 'irfan',\n",
       " 'irfan',\n",
       " 'irfan',\n",
       " 'irfan',\n",
       " 'irfan',\n",
       " 'irfan',\n",
       " 'irfan',\n",
       " 'irfan')"
      ]
     },
     "execution_count": 190,
     "metadata": {},
     "output_type": "execute_result"
    }
   ],
   "source": [
    "l = []\n",
    "for i in d:\n",
    "    l.append(d[i])\n",
    "tuple(l)"
   ]
  },
  {
   "cell_type": "code",
   "execution_count": 195,
   "id": "5f9ea9e5",
   "metadata": {},
   "outputs": [
    {
     "data": {
      "text/plain": [
       "('irfan',\n",
       " 'irfan',\n",
       " 'irfan',\n",
       " 'irfan',\n",
       " 'irfan',\n",
       " 'irfan',\n",
       " 'irfan',\n",
       " 'irfan',\n",
       " 'irfan',\n",
       " 'irfan',\n",
       " 'irfan',\n",
       " 'irfan',\n",
       " 'irfan',\n",
       " 'irfan',\n",
       " 'irfan',\n",
       " 'irfan',\n",
       " 'irfan',\n",
       " 'irfan')"
      ]
     },
     "execution_count": 195,
     "metadata": {},
     "output_type": "execute_result"
    }
   ],
   "source": [
    "tuple(d.values())"
   ]
  },
  {
   "cell_type": "code",
   "execution_count": 191,
   "id": "2ed9a83a",
   "metadata": {},
   "outputs": [
    {
     "data": {
      "text/plain": [
       "dict_items([('my', 'irfan'), ('data', 'irfan'), ('course', 'irfan'), ('science.', 'irfan'), ('name', 'irfan'), ('I', 'irfan'), ('currently', 'irfan'), ('in', 'irfan'), ('completed', 'irfan'), ('Delhi.', 'irfan'), ('masters.', 'irfan'), ('mohd.', 'irfan'), ('am', 'irfan'), ('have', 'irfan'), ('doing', 'irfan'), ('living', 'irfan'), ('Hey', 'irfan'), ('is', 'irfan')])"
      ]
     },
     "execution_count": 191,
     "metadata": {},
     "output_type": "execute_result"
    }
   ],
   "source": [
    "d.items()"
   ]
  },
  {
   "cell_type": "code",
   "execution_count": 192,
   "id": "7d984a08",
   "metadata": {},
   "outputs": [
    {
     "data": {
      "text/plain": [
       "['my',\n",
       " 'data',\n",
       " 'course',\n",
       " 'science.',\n",
       " 'name',\n",
       " 'I',\n",
       " 'currently',\n",
       " 'in',\n",
       " 'completed',\n",
       " 'Delhi.',\n",
       " 'masters.',\n",
       " 'mohd.',\n",
       " 'am',\n",
       " 'have',\n",
       " 'doing',\n",
       " 'living',\n",
       " 'Hey',\n",
       " 'is']"
      ]
     },
     "execution_count": 192,
     "metadata": {},
     "output_type": "execute_result"
    }
   ],
   "source": [
    "l1=[]\n",
    "for i in d.items():\n",
    "    l1.append(i[0])\n",
    "l1"
   ]
  },
  {
   "cell_type": "code",
   "execution_count": 194,
   "id": "f467e778",
   "metadata": {},
   "outputs": [
    {
     "data": {
      "text/plain": [
       "['my',\n",
       " 'data',\n",
       " 'course',\n",
       " 'science.',\n",
       " 'name',\n",
       " 'I',\n",
       " 'currently',\n",
       " 'in',\n",
       " 'completed',\n",
       " 'Delhi.',\n",
       " 'masters.',\n",
       " 'mohd.',\n",
       " 'am',\n",
       " 'have',\n",
       " 'doing',\n",
       " 'living',\n",
       " 'Hey',\n",
       " 'is']"
      ]
     },
     "execution_count": 194,
     "metadata": {},
     "output_type": "execute_result"
    }
   ],
   "source": [
    "list(d.keys())"
   ]
  },
  {
   "cell_type": "code",
   "execution_count": 203,
   "id": "47348cf0",
   "metadata": {},
   "outputs": [],
   "source": [
    "p = 'I am living in delhi. I am doing a Data science course. I am a masters in physics. Data science is as good as physics.'\n",
    "\n",
    "l=p.split()\n",
    "s=set(l)\n",
    "d=dict.fromkeys(s,'irfan')\n",
    "t=tuple(d.values())\n",
    "f=list(d.keys())"
   ]
  },
  {
   "cell_type": "code",
   "execution_count": 209,
   "id": "f9692745",
   "metadata": {},
   "outputs": [
    {
     "name": "stdout",
     "output_type": "stream",
     "text": [
      "key is:  comapny ; values are:  tata\n",
      "key is:  course ; values are:  data science\n",
      "key is:  year ; values are:  2019\n"
     ]
    }
   ],
   "source": [
    "d={\"comapny\":\"tata\",\"course\": \"data science\",\"year\":2019}\n",
    "\n",
    "for i in d:\n",
    "    print('key is: ',i,';','values are: ',d[i])"
   ]
  },
  {
   "cell_type": "code",
   "execution_count": 210,
   "id": "ce996bfc",
   "metadata": {},
   "outputs": [
    {
     "data": {
      "text/plain": [
       "True"
      ]
     },
     "execution_count": 210,
     "metadata": {},
     "output_type": "execute_result"
    }
   ],
   "source": [
    "'year' in d"
   ]
  },
  {
   "cell_type": "code",
   "execution_count": 214,
   "id": "cdf74e13",
   "metadata": {},
   "outputs": [
    {
     "name": "stdout",
     "output_type": "stream",
     "text": [
      "Year is fine\n"
     ]
    }
   ],
   "source": [
    "for i in d:\n",
    "    if i=='year':\n",
    "        if d[i]>=2020:\n",
    "            print('Year is fine')\n",
    "        else:\n",
    "            d[i] += 1"
   ]
  },
  {
   "cell_type": "code",
   "execution_count": 213,
   "id": "07688cab",
   "metadata": {},
   "outputs": [
    {
     "data": {
      "text/plain": [
       "{'comapny': 'tata', 'course': 'data science', 'year': 2020}"
      ]
     },
     "execution_count": 213,
     "metadata": {},
     "output_type": "execute_result"
    }
   ],
   "source": [
    "d"
   ]
  },
  {
   "cell_type": "markdown",
   "id": "47a81d74",
   "metadata": {},
   "source": [
    "#### Dictionary Comprehension"
   ]
  },
  {
   "cell_type": "code",
   "execution_count": 215,
   "id": "1c3652c8",
   "metadata": {},
   "outputs": [
    {
     "data": {
      "text/plain": [
       "{0: 0, 1: 1, 2: 4, 3: 9, 4: 16, 5: 25, 6: 36, 7: 49, 8: 64, 9: 81}"
      ]
     },
     "execution_count": 215,
     "metadata": {},
     "output_type": "execute_result"
    }
   ],
   "source": [
    "my_dict = {}\n",
    "\n",
    "for i in range(10):\n",
    "    my_dict[i] = i*i\n",
    "my_dict"
   ]
  },
  {
   "cell_type": "code",
   "execution_count": 216,
   "id": "4b2db0e1",
   "metadata": {},
   "outputs": [
    {
     "data": {
      "text/plain": [
       "{0: 0, 1: 1, 2: 4, 3: 9, 4: 16, 5: 25, 6: 36, 7: 49, 8: 64, 9: 81}"
      ]
     },
     "execution_count": 216,
     "metadata": {},
     "output_type": "execute_result"
    }
   ],
   "source": [
    "{i:i*i for i in range(10)}"
   ]
  },
  {
   "cell_type": "code",
   "execution_count": 218,
   "id": "e5c33fad",
   "metadata": {},
   "outputs": [
    {
     "data": {
      "text/plain": [
       "tuple"
      ]
     },
     "execution_count": 218,
     "metadata": {},
     "output_type": "execute_result"
    }
   ],
   "source": [
    "q=45,\n",
    "type(q)"
   ]
  }
 ],
 "metadata": {
  "kernelspec": {
   "display_name": "Python 3",
   "language": "python",
   "name": "python3"
  },
  "language_info": {
   "codemirror_mode": {
    "name": "ipython",
    "version": 3
   },
   "file_extension": ".py",
   "mimetype": "text/x-python",
   "name": "python",
   "nbconvert_exporter": "python",
   "pygments_lexer": "ipython3",
   "version": "3.8.8"
  }
 },
 "nbformat": 4,
 "nbformat_minor": 5
}
