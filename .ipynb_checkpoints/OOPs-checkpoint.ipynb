{
 "cells": [
  {
   "cell_type": "markdown",
   "id": "b97695e4",
   "metadata": {},
   "source": [
    "Class is a real world entity which I am able to classify but not specifically say. Eg: Laptop, Car, Animal, etc. \n",
    "\n",
    "If we say Audi Q7, Fortuner, Toyota Innova or Maruti Swift we can say we are referring to the car class here because all these entities have a similar kind of characteristics. So, they can be called instances of the class `car`. Still, you can distinguish between different objects of a class. Object is a real world entity which you can touch, feel, specify.\n",
    "Objects are a variable of classes.\n",
    "\n",
    "So basically, an instance is a specific object created from a particular class.\n",
    "\n",
    "Integer, string, floating point number, tuple, dictionary, etc. are all classifications of a particular class."
   ]
  },
  {
   "cell_type": "code",
   "execution_count": null,
   "id": "0b1c7ffa",
   "metadata": {},
   "outputs": [],
   "source": [
    "a = 10\n",
    "b = 4.6\n",
    "c = \"sudh\"\n",
    "l = [3,5,7]"
   ]
  },
  {
   "cell_type": "markdown",
   "id": "11c276c4",
   "metadata": {},
   "source": [
    "a,b,c and l are all variables or `objects` of different classes namely integer, float, string and list respectively."
   ]
  },
  {
   "cell_type": "markdown",
   "id": "8646cad6",
   "metadata": {},
   "source": [
    "##### Main purpose of OOPs concept is to make a \n",
    "- modular code\n",
    "- reusability\n",
    "- abstraction"
   ]
  },
  {
   "cell_type": "code",
   "execution_count": 1,
   "id": "3ca276a7",
   "metadata": {},
   "outputs": [],
   "source": [
    "class car:\n",
    "    pass"
   ]
  },
  {
   "cell_type": "code",
   "execution_count": 2,
   "id": "51428d77",
   "metadata": {},
   "outputs": [],
   "source": [
    "audiq7 = car()   # defined variable (audiq7) of class car."
   ]
  },
  {
   "cell_type": "code",
   "execution_count": 4,
   "id": "51d53f2a",
   "metadata": {},
   "outputs": [],
   "source": [
    "audiq7.mileage = 10     # mileage variable is associated with a class variable audiq7\n",
    "audiq7.year = 2020\n",
    "audiq7.model = \"ligj\"\n",
    "audiq7.make = 345"
   ]
  },
  {
   "cell_type": "markdown",
   "id": "61d49356",
   "metadata": {},
   "source": [
    "- An attribute is a value stored in an object, whereas, a method is an function we can perform with the object. Both can be accessed using the dot notation beside the name of the object.\n",
    "\n",
    "- The syntax for creating an attribute is:\n",
    "self.attribute_name = value\n",
    "\n",
    "- Where self refers to the instance of the class you are creating. We create attributes this way so, you can access the attributes from anywhere within the class."
   ]
  },
  {
   "cell_type": "code",
   "execution_count": 5,
   "id": "be5f5e40",
   "metadata": {},
   "outputs": [
    {
     "data": {
      "text/plain": [
       "10"
      ]
     },
     "execution_count": 5,
     "metadata": {},
     "output_type": "execute_result"
    }
   ],
   "source": [
    "audiq7.mileage"
   ]
  },
  {
   "cell_type": "code",
   "execution_count": 6,
   "id": "f188f65f",
   "metadata": {},
   "outputs": [
    {
     "data": {
      "text/plain": [
       "'ligj'"
      ]
     },
     "execution_count": 6,
     "metadata": {},
     "output_type": "execute_result"
    }
   ],
   "source": [
    "audiq7.model"
   ]
  },
  {
   "cell_type": "code",
   "execution_count": 7,
   "id": "b91f973d",
   "metadata": {},
   "outputs": [],
   "source": [
    "nano = car()"
   ]
  },
  {
   "cell_type": "code",
   "execution_count": 8,
   "id": "5262bf2a",
   "metadata": {},
   "outputs": [],
   "source": [
    "nano.milage = 8\n",
    "nano.year = 2019\n",
    "nano.make = 352\n",
    "nano.model = \"SX\"\n",
    "nano.engine = \"turbo\""
   ]
  },
  {
   "cell_type": "code",
   "execution_count": 9,
   "id": "2994b823",
   "metadata": {},
   "outputs": [
    {
     "data": {
      "text/plain": [
       "'SX'"
      ]
     },
     "execution_count": 9,
     "metadata": {},
     "output_type": "execute_result"
    }
   ],
   "source": [
    "nano.model"
   ]
  },
  {
   "cell_type": "code",
   "execution_count": 10,
   "id": "ae3adc0b",
   "metadata": {},
   "outputs": [
    {
     "name": "stdout",
     "output_type": "stream",
     "text": [
      "SX 345\n"
     ]
    }
   ],
   "source": [
    "print(nano.model, audiq7.make)"
   ]
  },
  {
   "cell_type": "raw",
   "id": "69a9d8d4",
   "metadata": {},
   "source": [
    "Typically, every class in Python defines a special method called:\n",
    "\n",
    "__init__()\n",
    "\n",
    "- __init__ is a in-built function used for initialization of data. It is used to pass data to a class.\n",
    "\n",
    "- This method acts as a constructor. Why is it called so?\n",
    "\n",
    "- Because it is called whenever a new instance of the class is created. You typically define all the attributes you want the instances of the class to carry in this method, so that every time a class instance is created, it contains these attributes."
   ]
  },
  {
   "cell_type": "markdown",
   "id": "9b709c0b",
   "metadata": {},
   "source": [
    "Since, the init is called at the time of creating a class instance, the argument you define with the init method, is passed at the time of initializing a class instance."
   ]
  },
  {
   "cell_type": "code",
   "execution_count": 12,
   "id": "29d23a84",
   "metadata": {},
   "outputs": [],
   "source": [
    "class car:\n",
    "    def __init__(self, mileage, make, year, model):        #self is nothing but a pointer to itself or a class variable.\n",
    "        self.mileage = mileage                             # self is not a pre-defined keyword.\n",
    "        self.make = make                      # it automatically assumes the first parameter provided in argument as the pointer\n",
    "        self.year = year\n",
    "        self.model = model\n",
    "        "
   ]
  },
  {
   "cell_type": "markdown",
   "id": "5e9f4247",
   "metadata": {},
   "source": [
    "Whenever someone is going to make a car class variable or object, they are supposed to pass all these data(mileage, make, year, model)"
   ]
  },
  {
   "cell_type": "code",
   "execution_count": 14,
   "id": "e510f38b",
   "metadata": {},
   "outputs": [],
   "source": [
    "nano1 = car(20, 34, 2019, \"reire\")   \n",
    "audiq71 = car(18, 43, 2004, \"regf\")"
   ]
  },
  {
   "cell_type": "markdown",
   "id": "acacc631",
   "metadata": {},
   "source": [
    "Upon calling car class and passing the above arguments, it will call the class initialization function (init) and assign each variables in order provided."
   ]
  },
  {
   "cell_type": "code",
   "execution_count": 15,
   "id": "9c585cc9",
   "metadata": {},
   "outputs": [
    {
     "data": {
      "text/plain": [
       "20"
      ]
     },
     "execution_count": 15,
     "metadata": {},
     "output_type": "execute_result"
    }
   ],
   "source": [
    "nano1.mileage"
   ]
  },
  {
   "cell_type": "code",
   "execution_count": 16,
   "id": "61db2eca",
   "metadata": {},
   "outputs": [],
   "source": [
    "nano1 = car(20, 34, 2019, \"rere\")   \n",
    "audiq71 = car(18, 45, 2004, \"jegf\")\n",
    "nano2 = car(21, 41, 2016, \"reire\")   \n",
    "audiq72 = car(18, 55, 2012, \"kgf\")\n",
    "nano3 = car(22, 30, 2013, \"ioee\")   \n",
    "audiq73 = car(18, 53, 2016, \"segf\")\n",
    "nano4 = car(42, 31, 2018, \"reie\")   \n",
    "audiq74 = car(16, 39, 2007, \"opgf\")\n",
    "nano5 = car(75, 67, 2012, \"ress\")   \n",
    "audiq75 = car(13, 27, 2005, \"dggf\")\n",
    "nano6 = car(34, 39, 2008, \"ccxe\")   \n",
    "audiq76 = car(38, 83, 2015, \"gegf\")\n",
    "nano7 = car(42, 32, 2006, \"opdre\")   \n",
    "audiq77 = car(13, 93, 2011, \"hhgf\")"
   ]
  },
  {
   "cell_type": "code",
   "execution_count": 17,
   "id": "84fa1f6d",
   "metadata": {},
   "outputs": [
    {
     "data": {
      "text/plain": [
       "'reie'"
      ]
     },
     "execution_count": 17,
     "metadata": {},
     "output_type": "execute_result"
    }
   ],
   "source": [
    "nano4.model"
   ]
  },
  {
   "cell_type": "code",
   "execution_count": 18,
   "id": "f8749827",
   "metadata": {},
   "outputs": [
    {
     "name": "stdout",
     "output_type": "stream",
     "text": [
      "2007 2015 hhgf 30 34\n"
     ]
    }
   ],
   "source": [
    "print(audiq74.year, audiq76.year, audiq77.model, nano3.make, nano6.mileage)"
   ]
  },
  {
   "cell_type": "markdown",
   "id": "c0e64a34",
   "metadata": {},
   "source": [
    "In case of any kind of function u are going to create in a class, the first parameter that you are going to pass, that behaves as a pointer (this concept doesn't apply in other programming languages). Pointer is a class variable that points to the class itself."
   ]
  },
  {
   "cell_type": "code",
   "execution_count": 19,
   "id": "b3406146",
   "metadata": {},
   "outputs": [],
   "source": [
    "class car:\n",
    "    def __init__(a, mileage, make, year, model):     #self is not a pythonic keyword, I can use any string as a pointer   \n",
    "        a.mileage = mileage                             \n",
    "        a.make = make                    \n",
    "        a.year = year\n",
    "        a.model = model"
   ]
  },
  {
   "cell_type": "code",
   "execution_count": 20,
   "id": "8b8b274e",
   "metadata": {},
   "outputs": [],
   "source": [
    "nano34 = car(21, 674, 2020, \"fror\")"
   ]
  },
  {
   "cell_type": "code",
   "execution_count": 21,
   "id": "8734c9c8",
   "metadata": {},
   "outputs": [
    {
     "data": {
      "text/plain": [
       "'fror'"
      ]
     },
     "execution_count": 21,
     "metadata": {},
     "output_type": "execute_result"
    }
   ],
   "source": [
    "nano34.model"
   ]
  },
  {
   "cell_type": "code",
   "execution_count": 32,
   "id": "53e89258",
   "metadata": {},
   "outputs": [],
   "source": [
    "class car:\n",
    "    def __init__(a, mi, ma, y, mo):     \n",
    "        a.mileage = mi                             \n",
    "        a.make = ma                   \n",
    "        a.year = y\n",
    "        a.model = mo"
   ]
  },
  {
   "cell_type": "code",
   "execution_count": 33,
   "id": "4684db6b",
   "metadata": {},
   "outputs": [],
   "source": [
    "nano23 = car(23, 484, 2003, \"srty\")  # 23 will go to mi in argument then be assigned to a.mileage and then goes to class car."
   ]
  },
  {
   "cell_type": "code",
   "execution_count": 34,
   "id": "bf65f1a7",
   "metadata": {},
   "outputs": [
    {
     "data": {
      "text/plain": [
       "484"
      ]
     },
     "execution_count": 34,
     "metadata": {},
     "output_type": "execute_result"
    }
   ],
   "source": [
    "nano23.make"
   ]
  },
  {
   "cell_type": "code",
   "execution_count": 35,
   "id": "bb230b44",
   "metadata": {},
   "outputs": [],
   "source": [
    "class car:\n",
    "    def __init__(a, mi, ma, y, mo):     # __init__ is a in-built method while age is a method we are creating.\n",
    "        a.mileage = mi                   #  a will be understood only by __init__\n",
    "        a.make = ma                   \n",
    "        a.year = y\n",
    "        a.model = mo\n",
    "        \n",
    "    def age(self, current_year):   \n",
    "        return current_year - self.year   #to access a class variable within a class then use current pointer dot that particular variable."
   ]
  },
  {
   "cell_type": "markdown",
   "id": "97dfdc6a",
   "metadata": {},
   "source": [
    "with the help of local pointer we can access data within a classes"
   ]
  },
  {
   "cell_type": "code",
   "execution_count": 37,
   "id": "cb2d3560",
   "metadata": {},
   "outputs": [],
   "source": [
    "nano23 = car(20, 434, 2005, \"troe\")"
   ]
  },
  {
   "cell_type": "code",
   "execution_count": 38,
   "id": "0d161f4a",
   "metadata": {},
   "outputs": [
    {
     "data": {
      "text/plain": [
       "8"
      ]
     },
     "execution_count": 38,
     "metadata": {},
     "output_type": "execute_result"
    }
   ],
   "source": [
    "nano23.age(2013)"
   ]
  },
  {
   "cell_type": "code",
   "execution_count": 50,
   "id": "a8d9af0b",
   "metadata": {},
   "outputs": [],
   "source": [
    "class car:\n",
    "    def __init__(a, mi, ma, y, mo):     \n",
    "        a.mileage = mi                   \n",
    "        a.make = ma                   \n",
    "        a.year = y\n",
    "        a.model = mo\n",
    "        \n",
    "    def age(self, current_year):   \n",
    "        return current_year - self.year\n",
    "    \n",
    "    def mileage1(b):\n",
    "        print(\"Mileage of car is: \", b.mileage)\n",
    "        \n",
    "    def __str__(c):                                           #gives message while printing the object of the class.\n",
    "        return \"This is object of the car class that I have created.\""
   ]
  },
  {
   "cell_type": "code",
   "execution_count": 51,
   "id": "ce11e56f",
   "metadata": {},
   "outputs": [],
   "source": [
    "nano23 = car(20, 434, 2011, \"troe\")"
   ]
  },
  {
   "cell_type": "code",
   "execution_count": 52,
   "id": "3788f624",
   "metadata": {},
   "outputs": [
    {
     "name": "stdout",
     "output_type": "stream",
     "text": [
      "Mileage of car is:  20\n"
     ]
    }
   ],
   "source": [
    "nano23.mileage1()"
   ]
  },
  {
   "cell_type": "code",
   "execution_count": 53,
   "id": "62503a00",
   "metadata": {},
   "outputs": [
    {
     "name": "stdout",
     "output_type": "stream",
     "text": [
      "This is object of the car class that I have created.\n"
     ]
    }
   ],
   "source": [
    "print(nano23)"
   ]
  },
  {
   "cell_type": "code",
   "execution_count": 89,
   "id": "fa7bf875",
   "metadata": {},
   "outputs": [],
   "source": [
    "class student:\n",
    "    \n",
    "    def __init__(self, name, rollno, joining_date, current_topic):\n",
    "        \n",
    "\n",
    "        self.name = name\n",
    "        self.rollno = rollno\n",
    "        self.joining_date = joining_date\n",
    "        self.current_topic = current_topic\n",
    "        \n",
    "    def name_parsing(self):\n",
    "        if type(self.name) == list:\n",
    "            for i in self.name:\n",
    "                print(\"The name of student is: \", i)\n",
    "        else:\n",
    "            print(\"Provided name is not in form of list.\")\n",
    "        \n",
    "    def crt_topic(self):\n",
    "        print(\"Current topic discussed in my class is: \",self.current_topic)\n",
    "    \n",
    "    def str_rollno(self):\n",
    "        \n",
    "        try:\n",
    "            \n",
    "            if type(self.rollno) == str:\n",
    "                print(\"Carry on\")\n",
    "        except Exception as e:\n",
    "            print(\"This is my error msg: \", e)\n",
    "            \n",
    "        else:\n",
    "            return str(self.rollno)\n",
    "    \n",
    "    def duration(self, current_date):\n",
    "        print(\"Duration of student in the class is: \", current_date - self.joining_date,\" years\")\n",
    "        \n",
    "    def __str__(self):\n",
    "        \n",
    "        return \"This is the student class where students can input their data and create objects for fetching later on.\""
   ]
  },
  {
   "cell_type": "code",
   "execution_count": 87,
   "id": "c0d4da4e",
   "metadata": {},
   "outputs": [],
   "source": [
    "rajeev = student(\"rajeev\", 22, 2019, \"data analytics\")"
   ]
  },
  {
   "cell_type": "code",
   "execution_count": 74,
   "id": "39c7e9e1",
   "metadata": {},
   "outputs": [
    {
     "name": "stdout",
     "output_type": "stream",
     "text": [
      "Duration of student in the class is:  2  years\n"
     ]
    }
   ],
   "source": [
    "rajeev.duration(2021)"
   ]
  },
  {
   "cell_type": "code",
   "execution_count": 88,
   "id": "da47eb37",
   "metadata": {},
   "outputs": [
    {
     "data": {
      "text/plain": [
       "'22'"
      ]
     },
     "execution_count": 88,
     "metadata": {},
     "output_type": "execute_result"
    }
   ],
   "source": [
    "rajeev.str_rollno()"
   ]
  },
  {
   "cell_type": "code",
   "execution_count": 68,
   "id": "88e12bca",
   "metadata": {},
   "outputs": [
    {
     "name": "stdout",
     "output_type": "stream",
     "text": [
      "This is the student class where students can input their data and create objects for fetching later on.\n"
     ]
    }
   ],
   "source": [
    "print(rajeev)"
   ]
  },
  {
   "cell_type": "code",
   "execution_count": 90,
   "id": "56757017",
   "metadata": {},
   "outputs": [],
   "source": [
    "hari = student(\"hari\", 180, 2018, \"OOPs\")"
   ]
  },
  {
   "cell_type": "code",
   "execution_count": 91,
   "id": "1f136c40",
   "metadata": {},
   "outputs": [],
   "source": [
    "sotar = student([\"naven\", \"ravi\", \"kisan\", \"john\", \"wasim\"], [120, 20, 80, 92, 72], [2009, 2018, 2006, 2020, 2021], [\"data\", \"tensorflow\", \"panda\", \"github\",\"scala\"])"
   ]
  },
  {
   "cell_type": "code",
   "execution_count": 92,
   "id": "47779480",
   "metadata": {},
   "outputs": [
    {
     "name": "stdout",
     "output_type": "stream",
     "text": [
      "The name of student is:  naven\n",
      "The name of student is:  ravi\n",
      "The name of student is:  kisan\n",
      "The name of student is:  john\n",
      "The name of student is:  wasim\n"
     ]
    }
   ],
   "source": [
    "sotar.name_parsing()"
   ]
  },
  {
   "cell_type": "code",
   "execution_count": 1,
   "id": "db95bf20",
   "metadata": {},
   "outputs": [],
   "source": [
    "class data:\n",
    "    def __init__(self, file_name, file_type, data, size):\n",
    "        self.file_name = file_name\n",
    "        self.file_type = file_type\n",
    "        self.data = data\n",
    "        self.size = size\n",
    "        \n",
    "    def log_inf(self, err):\n",
    "        import logging as log\n",
    "        log.basicConfig(filename=\"clas.log\", level=log.INFO, format= '%(asctime)s - %(message)s')\n",
    "        log.error(\"This error occured: \", err)\n",
    "        \n",
    "        \n",
    "    def file_open(self):\n",
    "        try:\n",
    "            \n",
    "            for i in self.file_name:           #f'{self.file_name}.txt'\n",
    "                with open(i, \"w\") as f:\n",
    "                    f.write(\"This is my file.\\nI have created for writing OOPs concept.\\nI am able to learn new concept.\")\n",
    "        except Exception as e:\n",
    "            self.log_inf(e)\n",
    "\n",
    "    def file_read(self):\n",
    "        try:\n",
    "            \n",
    "            for i in self.file_name:\n",
    "                with open(i, \"r\") as f:\n",
    "                    print(f.read())\n",
    "        except Exception as e:\n",
    "            self.log_inf(e)\n",
    "            \n",
    "            \n",
    "    def file_append(self):\n",
    "        try:\n",
    "            for i in self.file_name:\n",
    "                with open(i, \"a+\") as f:\n",
    "                    f.write(\"\\nThis is data which I have appended.\\nI want to work on this project.\")\n",
    "                with open(i, \"r\") as k:\n",
    "                    print(k.read())\n",
    "        except Exception as e:\n",
    "            self.log_inf(e)\n"
   ]
  },
  {
   "cell_type": "code",
   "execution_count": 2,
   "id": "02ad613b",
   "metadata": {},
   "outputs": [],
   "source": [
    "file1 = data([\"file21\", \"file22\", \"file23\", \"file24\"], \"pdf\", \"This is file1.\", 2)"
   ]
  },
  {
   "cell_type": "code",
   "execution_count": 3,
   "id": "b918867d",
   "metadata": {},
   "outputs": [],
   "source": [
    "file1.file_open()"
   ]
  },
  {
   "cell_type": "code",
   "execution_count": 4,
   "id": "c5eb4b96",
   "metadata": {},
   "outputs": [
    {
     "name": "stdout",
     "output_type": "stream",
     "text": [
      "This is my file.\n",
      "I have created for writing OOPs concept.\n",
      "I am able to learn new concept.\n",
      "This is my file.\n",
      "I have created for writing OOPs concept.\n",
      "I am able to learn new concept.\n",
      "This is my file.\n",
      "I have created for writing OOPs concept.\n",
      "I am able to learn new concept.\n",
      "This is my file.\n",
      "I have created for writing OOPs concept.\n",
      "I am able to learn new concept.\n"
     ]
    }
   ],
   "source": [
    "file1.file_read()"
   ]
  },
  {
   "cell_type": "code",
   "execution_count": 153,
   "id": "852e9512",
   "metadata": {},
   "outputs": [
    {
     "name": "stdout",
     "output_type": "stream",
     "text": [
      "\n",
      "This is data which I have appended.\n",
      "I want to work on this project.\n",
      "This is my file.\n",
      "I have created for writing OOPs concept.\n",
      "I am able to learn new concept.\n",
      "This is data which I have appended.\n",
      "I want to work on this project.\n",
      "This is data which I have appended.\n",
      "I want to work on this project.\n",
      "This is data which I have appended.\n",
      "I want to work on this project.\n",
      "This is my file.\n",
      "I have created for writing OOPs concept.\n",
      "I am able to learn new concept.\n",
      "This is data which I have appended.\n",
      "I want to work on this project.\n",
      "This is data which I have appended.\n",
      "I want to work on this project.\n",
      "This is data which I have appended.\n",
      "I want to work on this project.\n",
      "This is my file.\n",
      "I have created for writing OOPs concept.\n",
      "I am able to learn new concept.\n",
      "This is data which I have appended.\n",
      "I want to work on this project.\n",
      "This is data which I have appended.\n",
      "I want to work on this project.\n",
      "This is data which I have appended.\n",
      "I want to work on this project.\n"
     ]
    }
   ],
   "source": [
    "file1.file_append()"
   ]
  },
  {
   "cell_type": "code",
   "execution_count": 154,
   "id": "eb718fbc",
   "metadata": {},
   "outputs": [
    {
     "data": {
      "text/plain": [
       "'C:\\\\Users\\\\Mohammad Irfan'"
      ]
     },
     "execution_count": 154,
     "metadata": {},
     "output_type": "execute_result"
    }
   ],
   "source": [
    "pwd()"
   ]
  },
  {
   "cell_type": "code",
   "execution_count": 96,
   "id": "0754267e",
   "metadata": {},
   "outputs": [],
   "source": [
    "import os\n",
    "path = os.getcwd()+\"/\"+\"test.txt\"\n",
    "if os.path.isfile(path):\n",
    "    pass\n",
    "else:\n",
    "    os.mkdir(path)"
   ]
  },
  {
   "cell_type": "markdown",
   "id": "52dda0b7",
   "metadata": {},
   "source": [
    "#### Abstraction: For protecting your variables from access\n",
    "- Public: no underscore before variable created under class method.  To call: object.variable name \n",
    "- Protected: single underscore  To call: object._variable name\n",
    "- Private: double undersccore   To call: object._class name__variable name"
   ]
  },
  {
   "cell_type": "code",
   "execution_count": 24,
   "id": "997b33b7",
   "metadata": {},
   "outputs": [],
   "source": [
    "class data:\n",
    "    def __init__(self, a, b, c, d):\n",
    "        self.a = a\n",
    "        self.b = b      # all variables are public as we don't use underscore before any of the variables.\n",
    "        self._c = c      # variable has become protected as we use single underscore \n",
    "        self.__d = d      # variable has become private as we use double underscore\n",
    "    \n",
    "    def fun_custom(self, v):\n",
    "        return self._c * v\n",
    "    \n",
    "    def fun_cust(self, y):\n",
    "        return self.__d + y\n",
    "    \n",
    "    def __str__(self):\n",
    "        return \"This is my test code to study abstraction.\"\n",
    "\n",
    "obj = data(23, 43.5, \"hand \", \"nerve\")"
   ]
  },
  {
   "cell_type": "code",
   "execution_count": 33,
   "id": "750ed9da",
   "metadata": {},
   "outputs": [
    {
     "name": "stdout",
     "output_type": "stream",
     "text": [
      "43.5\n",
      "hand \n",
      "Sorry, cannot print! Error is: 'data' object has no attribute '__d'\n",
      "nerve\n"
     ]
    }
   ],
   "source": [
    "print(obj.b)\n",
    "print(obj._c)\n",
    "try:\n",
    "    \n",
    "    print(obj.__d)   # private variable cannot be accessed outside the class\n",
    "except Exception as e:\n",
    "    print(\"Sorry, cannot print! Error is:\", e)\n",
    "finally:\n",
    "    print(obj._data__d)"
   ]
  },
  {
   "cell_type": "code",
   "execution_count": 26,
   "id": "e7c321dc",
   "metadata": {},
   "outputs": [
    {
     "data": {
      "text/plain": [
       "'hand hand '"
      ]
     },
     "execution_count": 26,
     "metadata": {},
     "output_type": "execute_result"
    }
   ],
   "source": [
    "obj.fun_custom(2)"
   ]
  },
  {
   "cell_type": "code",
   "execution_count": 27,
   "id": "fb9243e3",
   "metadata": {},
   "outputs": [
    {
     "data": {
      "text/plain": [
       "'nerve wracking'"
      ]
     },
     "execution_count": 27,
     "metadata": {},
     "output_type": "execute_result"
    }
   ],
   "source": [
    "obj.fun_cust(\" wracking\")"
   ]
  },
  {
   "cell_type": "markdown",
   "id": "9820a2bc",
   "metadata": {},
   "source": [
    "### Inheritance"
   ]
  },
  {
   "cell_type": "markdown",
   "id": "940509c6",
   "metadata": {},
   "source": [
    "Make all the parent class implementations available to child class."
   ]
  },
  {
   "cell_type": "markdown",
   "id": "f1c587b1",
   "metadata": {},
   "source": [
    "Inheritance enables us to define a class that takes all the functionality from a parent class and allows us to add more.\n",
    "\n",
    "Inheritance is a powerful feature in object oriented programming.\n",
    "\n",
    "It refers to defining a new class with little or no modification to an existing class. The new class is called derived (or child) class and the one from which it inherits is called the base (or parent) class."
   ]
  },
  {
   "cell_type": "code",
   "execution_count": 35,
   "id": "0f676af3",
   "metadata": {},
   "outputs": [],
   "source": [
    "class test(data):\n",
    "    def __init__(self, j, *args):\n",
    "        super().__init__(*args)\n",
    "        self.j = j\n",
    "        \n",
    "m = test(3,5,7,8,9)"
   ]
  },
  {
   "cell_type": "code",
   "execution_count": 36,
   "id": "0cf63c5d",
   "metadata": {},
   "outputs": [
    {
     "data": {
      "text/plain": [
       "3"
      ]
     },
     "execution_count": 36,
     "metadata": {},
     "output_type": "execute_result"
    }
   ],
   "source": [
    "m.j"
   ]
  },
  {
   "cell_type": "code",
   "execution_count": 37,
   "id": "a8adcb91",
   "metadata": {},
   "outputs": [
    {
     "data": {
      "text/plain": [
       "5"
      ]
     },
     "execution_count": 37,
     "metadata": {},
     "output_type": "execute_result"
    }
   ],
   "source": [
    "m.a"
   ]
  },
  {
   "cell_type": "code",
   "execution_count": 39,
   "id": "e87179a7",
   "metadata": {},
   "outputs": [
    {
     "data": {
      "text/plain": [
       "8"
      ]
     },
     "execution_count": 39,
     "metadata": {},
     "output_type": "execute_result"
    }
   ],
   "source": [
    "m._c"
   ]
  },
  {
   "cell_type": "code",
   "execution_count": 43,
   "id": "b81702e2",
   "metadata": {},
   "outputs": [
    {
     "data": {
      "text/plain": [
       "9"
      ]
     },
     "execution_count": 43,
     "metadata": {},
     "output_type": "execute_result"
    }
   ],
   "source": [
    "m._data__d"
   ]
  },
  {
   "cell_type": "markdown",
   "id": "dd68fc8e",
   "metadata": {},
   "source": [
    "Different forms of Inheritance: \n",
    "1. Single inheritance: When a child class inherits from only one parent class, it is called single inheritance. We saw an example above.\n",
    "2. Multiple inheritance: When a child class inherits from multiple parent classes, it is called multiple inheritance. "
   ]
  },
  {
   "cell_type": "code",
   "execution_count": 62,
   "id": "a36e1dd5",
   "metadata": {},
   "outputs": [
    {
     "name": "stdout",
     "output_type": "stream",
     "text": [
      "This belongs to test class.\n"
     ]
    }
   ],
   "source": [
    "class test:\n",
    "        \n",
    "    def a(self):\n",
    "        print(\"This belongs to test class.\")\n",
    "    \n",
    "class test1:\n",
    "        \n",
    "    def a(self):\n",
    "        print(\"This belongs to test1 class.\")\n",
    "\n",
    "class test2(test, test1):\n",
    "    \n",
    "    def a(self):\n",
    "        super().a()\n",
    "        #print(\"This is derived from test and test1.\")\n",
    "        \n",
    "obj = test2()\n",
    "obj.a()"
   ]
  },
  {
   "cell_type": "code",
   "execution_count": 60,
   "id": "e18f97e6",
   "metadata": {},
   "outputs": [
    {
     "name": "stdout",
     "output_type": "stream",
     "text": [
      "This belongs to test class.\n",
      "This belongs to test1 class.\n"
     ]
    }
   ],
   "source": [
    "test3.b()"
   ]
  },
  {
   "cell_type": "code",
   "execution_count": 50,
   "id": "186d8ed8",
   "metadata": {},
   "outputs": [
    {
     "data": {
      "text/plain": [
       "'This belongs to test class.'"
      ]
     },
     "execution_count": 50,
     "metadata": {},
     "output_type": "execute_result"
    }
   ],
   "source": [
    "test3.a()"
   ]
  },
  {
   "cell_type": "raw",
   "id": "9b349197",
   "metadata": {},
   "source": [
    "super() will try to inherit parent class of your current class. super().__init__ will try to call init method of your parent class."
   ]
  },
  {
   "cell_type": "code",
   "execution_count": 2,
   "id": "75c4c29c",
   "metadata": {},
   "outputs": [
    {
     "name": "stdout",
     "output_type": "stream",
     "text": [
      "ineuron company was established in the year 2018\n"
     ]
    }
   ],
   "source": [
    "class Ineuron:\n",
    "    company_website = 'https://ineuron.ai/'\n",
    "    name = 'ineuron'\n",
    "    \n",
    "    def cont_details(self):\n",
    "        print(\"Contact us at: \",self.company_website)\n",
    "        \n",
    "class Datascience(Ineuron):\n",
    "    def __init__(self):\n",
    "        self.year_of_est = 2018\n",
    "        \n",
    "    def est_details(self):\n",
    "        print('{0} company was established in the year {1}'.format(self.name, self.year_of_est))\n",
    "        \n",
    "ds = Datascience()\n",
    "ds.est_details()"
   ]
  },
  {
   "cell_type": "code",
   "execution_count": 13,
   "id": "eab30c0e",
   "metadata": {
    "scrolled": true
   },
   "outputs": [
    {
     "name": "stdout",
     "output_type": "stream",
     "text": [
      "Multitask\n",
      "Name: mohai\n"
     ]
    }
   ],
   "source": [
    "class OS:\n",
    "    multi_task = True\n",
    "    os_name = 'Windows OS'\n",
    "    name = \"mohai\"\n",
    "\n",
    "class Windows(OS, Ineuron):\n",
    "    def __init__(self):\n",
    "        if self.multi_task == True:\n",
    "            print(\"Multitask\")\n",
    "        print('Name: {}'.format(self.name))\n",
    "        \n",
    "windows = Windows()"
   ]
  },
  {
   "cell_type": "code",
   "execution_count": 14,
   "id": "82988ff3",
   "metadata": {},
   "outputs": [
    {
     "name": "stdout",
     "output_type": "stream",
     "text": [
      "Multitask\n",
      "Name: ineuron\n"
     ]
    }
   ],
   "source": [
    "class Windows(Ineuron, OS):\n",
    "    def __init__(self):\n",
    "        if self.multi_task == True:\n",
    "            print(\"Multitask\")\n",
    "        print('Name: {}'.format(self.name))\n",
    "        \n",
    "windows = Windows()"
   ]
  },
  {
   "cell_type": "markdown",
   "id": "fb0732f7",
   "metadata": {},
   "source": [
    "Since variable name is same, it is giving priority to the first class provided in the class Windows argument."
   ]
  },
  {
   "cell_type": "code",
   "execution_count": 17,
   "id": "6d168eef",
   "metadata": {},
   "outputs": [
    {
     "name": "stdout",
     "output_type": "stream",
     "text": [
      "The company iNeuron offers total of 12 different type of courses. Most popular course is Data Science.\n"
     ]
    }
   ],
   "source": [
    "class iNeuron:\n",
    "    no_of_courses = 12\n",
    "    \n",
    "class Datascience(iNeuron):\n",
    "    course_type = \"Data Science\"\n",
    "    \n",
    "class AI(Datascience):\n",
    "    def __init__(self):\n",
    "        self.company = \"iNeuron\"\n",
    "        print(\"The company {} offers total of {} different type of courses. Most popular course is {}.\".format(self.company, self.no_of_courses,self.course_type))\n",
    "        \n",
    "ai = AI()        "
   ]
  },
  {
   "cell_type": "markdown",
   "id": "ea6b3bf4",
   "metadata": {},
   "source": [
    "### Encapsulation"
   ]
  },
  {
   "cell_type": "code",
   "execution_count": 19,
   "id": "8bd38314",
   "metadata": {},
   "outputs": [],
   "source": [
    "class test:\n",
    "    def __init__(self, a, b, c):\n",
    "        self.a = a\n",
    "        self.b = b\n",
    "        self.c = c\n",
    "        \n",
    "    def __str__(self):\n",
    "        return \"This is my test class which I have created.\"\n",
    "    \n",
    "class test1:\n",
    "    def __init__(self, a, b, c):\n",
    "        self.a = a\n",
    "        self.b = b\n",
    "        self.c = c\n",
    "        \n",
    "    def __str__(self):\n",
    "        return \"This is my test1 class which I have created.\"\n",
    "    \n",
    "class test2:\n",
    "    def __init__(self, a, b, c):\n",
    "        self.a = a\n",
    "        self.b = b\n",
    "        self.c = c\n",
    "        \n",
    "    def __str__(self):\n",
    "        return \"This is my test2 class which I have created.\"\n",
    "\n",
    "class final:\n",
    "    def __init__(self, x, y, z):\n",
    "        self.x = x\n",
    "        self.y = y\n",
    "        self.z = z\n",
    "    \n",
    "    def __str__(self):\n",
    "        return str(self.x) + \" \" + str(self.y) + \" \" + str(self.z)"
   ]
  },
  {
   "cell_type": "raw",
   "id": "e2a519d8",
   "metadata": {},
   "source": [
    "objective of encapsulation is to hide the parent class's implementation. I don't want to inherit my parent classes into my child classes. I want to hide my implementations, so I will call it indirectly through the objects, this concept is called as encapsulation. In below example, we are passing the objects t, t1, t2 to class final so that the ojects can call their respective parent classes. Since an object is a class variable, so whenever we call an object so whatever is mentioned inside the original class it will try to invoke automatically."
   ]
  },
  {
   "cell_type": "code",
   "execution_count": 21,
   "id": "97e9c379",
   "metadata": {},
   "outputs": [
    {
     "name": "stdout",
     "output_type": "stream",
     "text": [
      "This is my test class which I have created. This is my test1 class which I have created. This is my test2 class which I have created.\n"
     ]
    }
   ],
   "source": [
    "t = test(4,6,7)\n",
    "t1 = test1(3,5,6)\n",
    "t2 = test2(7,8,9)\n",
    "f = final(t,t1,t2)  # through the object t, t1, t2 we are calling the previous 3 classes.\n",
    "print(f)"
   ]
  },
  {
   "cell_type": "markdown",
   "id": "d932bd51",
   "metadata": {},
   "source": [
    "In inheritance, we were calling all the variables into my child class and hence I had the privelege to manipulate any of these variables, while in case of encapsulation I cannot manipulate the varibles."
   ]
  },
  {
   "cell_type": "code",
   "execution_count": 36,
   "id": "776eebe7",
   "metadata": {},
   "outputs": [
    {
     "name": "stdout",
     "output_type": "stream",
     "text": [
      "Tyres: \n",
      " \tBranch: Pirelli\n",
      " \tBelted-bias: True\n",
      " \tOptimal pressure: 2.0\n",
      "Engine: \n",
      " \tFuel type: Diesel\n",
      " \tNoise level:3\n",
      "Body:\n",
      " \tSize: Medium toyota\n"
     ]
    }
   ],
   "source": [
    "class Tyres:\n",
    "    def __init__(self, branch, belted_bias, opt_pressure):\n",
    "        self.branch = branch\n",
    "        self.belted_bias = belted_bias\n",
    "        self.opt_pressure = opt_pressure\n",
    "        \n",
    "    def __str__(self):\n",
    "        return (\"Tyres: \\n \\tBranch: \" + self.branch +\n",
    "               \"\\n \\tBelted-bias: \" + str(self.belted_bias) + \n",
    "               \"\\n \\tOptimal pressure: \" + str(self.opt_pressure))\n",
    "        \n",
    "class Engine:\n",
    "    def __init__(self, fuel_type, noise_level):\n",
    "        self.fuel_type = fuel_type\n",
    "        self.noise_level = noise_level\n",
    "        \n",
    "    def __str__(self):\n",
    "        return (\"Engine: \\n \\tFuel type: \" + self.fuel_type +\n",
    "                \"\\n \\tNoise level:\" + str(self.noise_level))\n",
    "        \n",
    "class Body:\n",
    "    def __init__(self, size):\n",
    "        self.size = size\n",
    "        \n",
    "    def __str__(self):\n",
    "        return \"Body:\\n \\tSize: \" + self.size\n",
    "        \n",
    "class Car:\n",
    "    def __init__(self,name ,  tyres, engine, body):\n",
    "        self.name = name \n",
    "        self.tyres = tyres\n",
    "        self.engine = engine\n",
    "        self.body = body\n",
    "        \n",
    "    def __str__(self):\n",
    "        return str(self.tyres) + \"\\n\" + str(self.engine) + \"\\n\" + str(self.body) + \" \" + str(self.name)\n",
    "\n",
    "        \n",
    "t = Tyres('Pirelli', True, 2.0)\n",
    "e = Engine('Diesel', 3)\n",
    "b = Body('Medium')\n",
    "c = Car(\"toyota\",t, e, b)\n",
    "print(c)"
   ]
  },
  {
   "cell_type": "code",
   "execution_count": 22,
   "id": "49673e94",
   "metadata": {},
   "outputs": [
    {
     "name": "stdout",
     "output_type": "stream",
     "text": [
      "Kudrjavka is a Laika born in 1954. \n"
     ]
    }
   ],
   "source": [
    "class Dog:\n",
    "    def __init__(self, name, year_of_birth, breed):\n",
    "        self._name = name\n",
    "        self._year_of_birth = year_of_birth\n",
    "        self._breed = breed\n",
    "        \n",
    "    def __str__(self):\n",
    "        return \"%s is a %s born in %d. \" % (self._name, self._breed, self._year_of_birth)\n",
    "    \n",
    "kudrjavka = Dog(\"Kudrjavka\", 1954, \"Laika\")\n",
    "print(kudrjavka)"
   ]
  },
  {
   "cell_type": "code",
   "execution_count": 30,
   "id": "47a30971",
   "metadata": {},
   "outputs": [],
   "source": [
    "class student:\n",
    "    def __init__(self, nam, student_id, school_name, address):\n",
    "        self.nam = nam\n",
    "        self.student_id = student_id\n",
    "        self.school_name = school_name\n",
    "        self.address = address\n",
    "        \n",
    "    def __str__(self):\n",
    "        return str(self.nam) + \"  \" + str(self.student_id) + \"  \" + str(self.school_name) + \"  \"+ str(self.address)"
   ]
  },
  {
   "cell_type": "code",
   "execution_count": 31,
   "id": "d48841d0",
   "metadata": {},
   "outputs": [
    {
     "name": "stdout",
     "output_type": "stream",
     "text": [
      "mohai  453  vidyalaya  alpinstine rd\n"
     ]
    }
   ],
   "source": [
    "stu = student(\"mohai\", 453, \"vidyalaya\", \"alpinstine rd\")\n",
    "print(stu)"
   ]
  },
  {
   "cell_type": "code",
   "execution_count": 34,
   "id": "bdfd9409",
   "metadata": {},
   "outputs": [
    {
     "name": "stdout",
     "output_type": "stream",
     "text": [
      "Kudrjavka is a Laika born in 1954.   678  dog school  peddar rd\n"
     ]
    }
   ],
   "source": [
    "doof = student(kudrjavka, 678, \"dog school\", \"peddar rd\") #kudrjavka is a class variable of dog class and it is passed into another student class variable as a parameter\n",
    "print(doof)"
   ]
  },
  {
   "cell_type": "code",
   "execution_count": 35,
   "id": "a9faf757",
   "metadata": {},
   "outputs": [
    {
     "name": "stdout",
     "output_type": "stream",
     "text": [
      "675  Kudrjavka is a Laika born in 1954.   dog school  peddar rd\n"
     ]
    }
   ],
   "source": [
    "doof = student(675, kudrjavka, \"dog school\", \"peddar rd\")\n",
    "print(doof)"
   ]
  },
  {
   "cell_type": "code",
   "execution_count": null,
   "id": "62ba08ec",
   "metadata": {},
   "outputs": [],
   "source": [
    "It is possible to access even private variable outside of the classes with the help of class objects and also possible to manipulate it."
   ]
  },
  {
   "cell_type": "code",
   "execution_count": 54,
   "id": "77836603",
   "metadata": {},
   "outputs": [],
   "source": [
    "class BonusDistribution:\n",
    "    \n",
    "    def __init__ (self,employeeId, employeeRating):\n",
    "    \n",
    "        self.empId = employeeId\n",
    "        self.empRating = employeeRating\n",
    "        self.__bonusforRatingA = \"70%\"  #making value private\n",
    "        self.__bonusforRatingB = \"60%\"  #making value private\n",
    "        self.__bonusforRatingC = \"50%\"  #making value private\n",
    "        self.__bonusforRatingD = \"30%\"  #making value private\n",
    "        self.__bonusforRatingForRest = \"No Bonus\" #making value private\n",
    "        \n",
    "        \n",
    "    def bonusCalculator(self):\n",
    "        \n",
    "        if self.empRating == 'A':\n",
    "            bonus = self.__bonusforRatingA\n",
    "            msg = \"Bonus for this employee is :\"+ bonus\n",
    "            return msg\n",
    "        elif self.empRating == 'B':\n",
    "            bonus = self.__bonusforRatingB\n",
    "            msg = \"Bonus for this employee is :\"+ bonus\n",
    "            return msg\n",
    "        elif self.empRating == 'C':\n",
    "            bonus = self.__bonusforRatingC\n",
    "            msg = \"Bonus for this employee is :\"+ bonus\n",
    "            return msg\n",
    "        elif self.empRating == 'D':\n",
    "            bonus = self.__bonusforRatingD\n",
    "            msg = \"Bonus for this employee is :\"+ bonus\n",
    "            return msg\n",
    "        else:\n",
    "            bonus = self.__bonusforRatingForRest\n",
    "            msg = \"Bonus for this employee is :\"+ bonus\n",
    "            return msg\n",
    "        \n",
    "    #def changevariable(self , value) : \n",
    "         #self.__bonusforRatingB = value\n",
    "            \n",
    "    def __changevariable(self , value) :           # our changevariable function is made private\n",
    "         self.__bonusforRatingB = value"
   ]
  },
  {
   "cell_type": "code",
   "execution_count": 55,
   "id": "3bdee7d7",
   "metadata": {},
   "outputs": [],
   "source": [
    "emp1 = BonusDistribution(1232,'B')\n",
    "emp2 = BonusDistribution(1342,'B')\n",
    "emp3 = BonusDistribution(1031,'E')"
   ]
  },
  {
   "cell_type": "code",
   "execution_count": 46,
   "id": "40c739d5",
   "metadata": {},
   "outputs": [
    {
     "data": {
      "text/plain": [
       "'Bonus for this employee is :60%'"
      ]
     },
     "execution_count": 46,
     "metadata": {},
     "output_type": "execute_result"
    }
   ],
   "source": [
    "emp2.bonusCalculator()"
   ]
  },
  {
   "cell_type": "code",
   "execution_count": 47,
   "id": "85b87801",
   "metadata": {},
   "outputs": [
    {
     "data": {
      "text/plain": [
       "'Bonus for this employee is :60%'"
      ]
     },
     "execution_count": 47,
     "metadata": {},
     "output_type": "execute_result"
    }
   ],
   "source": [
    "emp1.bonusCalculator()"
   ]
  },
  {
   "cell_type": "markdown",
   "id": "35e03ba4",
   "metadata": {},
   "source": [
    "Now we want to change the bonus for rating B from 60% to 80%. We can do that by"
   ]
  },
  {
   "cell_type": "code",
   "execution_count": 48,
   "id": "9904c605",
   "metadata": {},
   "outputs": [],
   "source": [
    "emp1._BonusDistribution__bonusforRatingB = \"80%\"   # here we are reassigning the value by calling the private variable"
   ]
  },
  {
   "cell_type": "code",
   "execution_count": 49,
   "id": "e0cb94bd",
   "metadata": {},
   "outputs": [
    {
     "data": {
      "text/plain": [
       "'Bonus for this employee is :80%'"
      ]
     },
     "execution_count": 49,
     "metadata": {},
     "output_type": "execute_result"
    }
   ],
   "source": [
    "emp1.bonusCalculator()"
   ]
  },
  {
   "cell_type": "code",
   "execution_count": 50,
   "id": "00dc9557",
   "metadata": {},
   "outputs": [
    {
     "data": {
      "text/plain": [
       "'Bonus for this employee is :60%'"
      ]
     },
     "execution_count": 50,
     "metadata": {},
     "output_type": "execute_result"
    }
   ],
   "source": [
    "emp2.bonusCalculator()"
   ]
  },
  {
   "cell_type": "markdown",
   "id": "1ed4baa1",
   "metadata": {},
   "source": [
    "##### NOTE: Though the bonus for employee 1 has changed but bonus of employee 2 with same rating is unaffected."
   ]
  },
  {
   "cell_type": "markdown",
   "id": "60bef3e1",
   "metadata": {},
   "source": [
    "Another way of changing this bonus is by creating a method inside the function as given by `def changevariable`. "
   ]
  },
  {
   "cell_type": "code",
   "execution_count": 51,
   "id": "58c0e18c",
   "metadata": {},
   "outputs": [],
   "source": [
    "emp1.changevariable(\"75%\")"
   ]
  },
  {
   "cell_type": "code",
   "execution_count": 52,
   "id": "e70e9cd8",
   "metadata": {},
   "outputs": [
    {
     "data": {
      "text/plain": [
       "'Bonus for this employee is :75%'"
      ]
     },
     "execution_count": 52,
     "metadata": {},
     "output_type": "execute_result"
    }
   ],
   "source": [
    "emp1.bonusCalculator()"
   ]
  },
  {
   "cell_type": "code",
   "execution_count": 53,
   "id": "805132ea",
   "metadata": {},
   "outputs": [
    {
     "data": {
      "text/plain": [
       "'Bonus for this employee is :60%'"
      ]
     },
     "execution_count": 53,
     "metadata": {},
     "output_type": "execute_result"
    }
   ],
   "source": [
    "emp2.bonusCalculator()"
   ]
  },
  {
   "cell_type": "markdown",
   "id": "81b8f42a",
   "metadata": {},
   "source": [
    "##### NOTE: Though the bonus for employee 1 has changed but bonus of employee 2 with same rating is unaffected."
   ]
  },
  {
   "cell_type": "markdown",
   "id": "96ae0355",
   "metadata": {},
   "source": [
    "For example, if our changevariable function is private then we can also reassign the bonus by following operations:"
   ]
  },
  {
   "cell_type": "code",
   "execution_count": 57,
   "id": "2b276a3a",
   "metadata": {},
   "outputs": [],
   "source": [
    "emp2._BonusDistribution__changevariable(\"55%\")"
   ]
  },
  {
   "cell_type": "code",
   "execution_count": 58,
   "id": "be4b7213",
   "metadata": {},
   "outputs": [
    {
     "data": {
      "text/plain": [
       "'Bonus for this employee is :55%'"
      ]
     },
     "execution_count": 58,
     "metadata": {},
     "output_type": "execute_result"
    }
   ],
   "source": [
    "emp2.bonusCalculator()"
   ]
  },
  {
   "cell_type": "raw",
   "id": "e2b5e485",
   "metadata": {},
   "source": [
    "Let’s take an expression x*y where x is an instance of a class A. To perform the __mul__ method, the operator looks into the class of left operand(x) for the present of __mul__ i.e., operator(*) will check the class A for the presence of ‘__mul__’ method in it. If it has __mul__ method, it calls x.__mul__(y). Otherwise, it throws the ‘TypeError: unsupported operands’ error message."
   ]
  },
  {
   "cell_type": "code",
   "execution_count": 70,
   "id": "6c61a31d",
   "metadata": {},
   "outputs": [],
   "source": [
    "class Multiply_numeric:\n",
    "    def __init__(self, a):\n",
    "        self.a = a\n",
    "        \n",
    "    def __mul__(self, other):  # when the __mul__ method is called it performs the undersaid operation rather than multiplication.\n",
    "        return self.a - other.a\n",
    "    \n",
    "    def __add__(self, other):   # this is also called operator overloading.\n",
    "        return self.a * other.a\n",
    "    \n",
    "    def __sub__(self, other):\n",
    "        return self.a + other.a"
   ]
  },
  {
   "cell_type": "code",
   "execution_count": 71,
   "id": "5abe3d28",
   "metadata": {},
   "outputs": [
    {
     "name": "stdout",
     "output_type": "stream",
     "text": [
      "6\n",
      "40\n",
      "14\n"
     ]
    }
   ],
   "source": [
    "m1= Multiply_numeric(10)\n",
    "m2 = Multiply_numeric(4)\n",
    "print(m1*m2)  #operator * will check the class from which the object was created for the presence of __mul__ method and performs the said operation in its definition.\n",
    "print(m1+m2)\n",
    "print(m1-m2)"
   ]
  },
  {
   "cell_type": "code",
   "execution_count": null,
   "id": "97f8c649",
   "metadata": {},
   "outputs": [],
   "source": []
  },
  {
   "cell_type": "code",
   "execution_count": 61,
   "id": "05b9c825",
   "metadata": {},
   "outputs": [
    {
     "name": "stdout",
     "output_type": "stream",
     "text": [
      "30\n"
     ]
    }
   ],
   "source": [
    "class Foo(object):\n",
    "      \n",
    "    def __init__(self, val):\n",
    "        self.val = val\n",
    "          \n",
    "    def __mul__(self, other):\n",
    "        return (self.val * other.val)\n",
    "  \n",
    "    #def __str__(self):\n",
    "        #return \"Foo [% s]\" % self.val\n",
    "  \n",
    "class Bar(object):\n",
    "      \n",
    "    def __init__(self, val):\n",
    "        self.val = val\n",
    "  \n",
    "    #def __str__(self):\n",
    "        #return \"Bar [% s]\" % self.val\n",
    "  \n",
    "# Driver Code\n",
    "f = Foo(5)\n",
    "b = Bar(6)\n",
    "print(f * b)"
   ]
  },
  {
   "cell_type": "markdown",
   "id": "2de274da",
   "metadata": {},
   "source": [
    "### Polymorphism"
   ]
  },
  {
   "cell_type": "markdown",
   "id": "e135ecf2",
   "metadata": {},
   "source": [
    "Same operator having different roles. Same entity but behaviour changes in different circumstances. It can be functions, operators, etc."
   ]
  },
  {
   "cell_type": "code",
   "execution_count": 76,
   "id": "d5acf2c6",
   "metadata": {},
   "outputs": [],
   "source": [
    "def test(a, b):\n",
    "    return a + b"
   ]
  },
  {
   "cell_type": "code",
   "execution_count": 78,
   "id": "0fa9e309",
   "metadata": {},
   "outputs": [
    {
     "name": "stdout",
     "output_type": "stream",
     "text": [
      "11\n",
      "ram singh\n",
      "[4, 6, 3, 6, 7, 34, 67, 88]\n"
     ]
    }
   ],
   "source": [
    "print(test(5,6))                            # addition\n",
    "print(test(\"ram\", \" singh\"))                # concatenation\n",
    "print(test([4,6,3,6,7],[34,67,88]))         # append"
   ]
  },
  {
   "cell_type": "code",
   "execution_count": 87,
   "id": "133fd9a5",
   "metadata": {},
   "outputs": [],
   "source": [
    "class test:\n",
    "    def msg(self):\n",
    "        print(\"This is a method of class test.\")\n",
    "        \n",
    "class new:\n",
    "    def msg(self):\n",
    "        print(\"This is a method of class new.\")\n",
    "    "
   ]
  },
  {
   "cell_type": "code",
   "execution_count": 88,
   "id": "8a92b5d9",
   "metadata": {},
   "outputs": [],
   "source": [
    "def switch(var):\n",
    "    var.msg()"
   ]
  },
  {
   "cell_type": "code",
   "execution_count": 89,
   "id": "9270ed0d",
   "metadata": {},
   "outputs": [],
   "source": [
    "t = test()\n",
    "n = new()"
   ]
  },
  {
   "cell_type": "code",
   "execution_count": 90,
   "id": "f38e56af",
   "metadata": {},
   "outputs": [
    {
     "name": "stdout",
     "output_type": "stream",
     "text": [
      "This is a method of class test.\n"
     ]
    }
   ],
   "source": [
    "switch(t)   # here we provide class object to the function switch."
   ]
  },
  {
   "cell_type": "code",
   "execution_count": 91,
   "id": "283cf18d",
   "metadata": {},
   "outputs": [
    {
     "name": "stdout",
     "output_type": "stream",
     "text": [
      "This is a method of class new.\n"
     ]
    }
   ],
   "source": [
    "switch(n)"
   ]
  },
  {
   "cell_type": "code",
   "execution_count": null,
   "id": "e4cd8c49",
   "metadata": {},
   "outputs": [],
   "source": [
    "# same function switch can act differently in two different circumstances."
   ]
  },
  {
   "cell_type": "code",
   "execution_count": null,
   "id": "09cfa5f7",
   "metadata": {},
   "outputs": [],
   "source": [
    "CAPE Theorem : Consistency, availability and partial tolerance"
   ]
  }
 ],
 "metadata": {
  "kernelspec": {
   "display_name": "Python 3",
   "language": "python",
   "name": "python3"
  },
  "language_info": {
   "codemirror_mode": {
    "name": "ipython",
    "version": 3
   },
   "file_extension": ".py",
   "mimetype": "text/x-python",
   "name": "python",
   "nbconvert_exporter": "python",
   "pygments_lexer": "ipython3",
   "version": "3.8.8"
  }
 },
 "nbformat": 4,
 "nbformat_minor": 5
}
