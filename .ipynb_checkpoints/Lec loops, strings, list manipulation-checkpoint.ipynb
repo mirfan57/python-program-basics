{
 "cells": [
  {
   "cell_type": "code",
   "execution_count": 1,
   "id": "17ae56f3",
   "metadata": {},
   "outputs": [],
   "source": [
    "s = 'my name is mohai, name of org is ineuron'"
   ]
  },
  {
   "cell_type": "code",
   "execution_count": 2,
   "id": "08aae517",
   "metadata": {},
   "outputs": [
    {
     "data": {
      "text/plain": [
       "3"
      ]
     },
     "execution_count": 2,
     "metadata": {},
     "output_type": "execute_result"
    }
   ],
   "source": [
    "s.find('name')"
   ]
  },
  {
   "cell_type": "markdown",
   "id": "f150ba9d",
   "metadata": {},
   "source": [
    "Write the index of each letter of word name which occurs first in above string using for loop"
   ]
  },
  {
   "cell_type": "code",
   "execution_count": 3,
   "id": "5c79c770",
   "metadata": {},
   "outputs": [
    {
     "name": "stdout",
     "output_type": "stream",
     "text": [
      "3\n",
      "4\n",
      "5\n",
      "6\n"
     ]
    }
   ],
   "source": [
    "a = s.find('name')\n",
    "for i in range(len('name')):\n",
    "    print(a+i)"
   ]
  },
  {
   "cell_type": "markdown",
   "id": "afdbe241",
   "metadata": {},
   "source": [
    "Index using while loop"
   ]
  },
  {
   "cell_type": "code",
   "execution_count": 4,
   "id": "05856914",
   "metadata": {},
   "outputs": [
    {
     "name": "stdout",
     "output_type": "stream",
     "text": [
      "3\n",
      "4\n",
      "5\n",
      "6\n"
     ]
    }
   ],
   "source": [
    "b = s.find('n')\n",
    "c = s.find('e')\n",
    "\n",
    "while b<=c:\n",
    "    print(b)\n",
    "    b +=1"
   ]
  },
  {
   "cell_type": "code",
   "execution_count": 5,
   "id": "861e53a1",
   "metadata": {},
   "outputs": [
    {
     "data": {
      "text/plain": [
       "'my name is mohai, name of org is ineuron'"
      ]
     },
     "execution_count": 5,
     "metadata": {},
     "output_type": "execute_result"
    }
   ],
   "source": [
    "s"
   ]
  },
  {
   "cell_type": "code",
   "execution_count": 6,
   "id": "04395217",
   "metadata": {},
   "outputs": [
    {
     "data": {
      "text/plain": [
       "2"
      ]
     },
     "execution_count": 6,
     "metadata": {},
     "output_type": "execute_result"
    }
   ],
   "source": [
    "s.count('name')"
   ]
  },
  {
   "cell_type": "code",
   "execution_count": 7,
   "id": "10cce675",
   "metadata": {},
   "outputs": [
    {
     "data": {
      "text/plain": [
       "['my', 'name', 'is', 'mohai,', 'name', 'of', 'org', 'is', 'ineuron']"
      ]
     },
     "execution_count": 7,
     "metadata": {},
     "output_type": "execute_result"
    }
   ],
   "source": [
    "s.split()"
   ]
  },
  {
   "cell_type": "code",
   "execution_count": 8,
   "id": "90b5b3f3",
   "metadata": {},
   "outputs": [
    {
     "data": {
      "text/plain": [
       "list"
      ]
     },
     "execution_count": 8,
     "metadata": {},
     "output_type": "execute_result"
    }
   ],
   "source": [
    "type(s.split())"
   ]
  },
  {
   "cell_type": "markdown",
   "id": "af086b1e",
   "metadata": {},
   "source": [
    "split gives a list of sub-strings broken based on the seperator provided"
   ]
  },
  {
   "cell_type": "code",
   "execution_count": 9,
   "id": "e9150bbd",
   "metadata": {},
   "outputs": [
    {
     "data": {
      "text/plain": [
       "['my name ', 's moha', ', name of org ', 's ', 'neuron']"
      ]
     },
     "execution_count": 9,
     "metadata": {},
     "output_type": "execute_result"
    }
   ],
   "source": [
    "s.split('i')"
   ]
  },
  {
   "cell_type": "code",
   "execution_count": 10,
   "id": "b4876f56",
   "metadata": {},
   "outputs": [],
   "source": [
    "s = s.upper()"
   ]
  },
  {
   "cell_type": "code",
   "execution_count": 11,
   "id": "7c0f7b19",
   "metadata": {},
   "outputs": [
    {
     "data": {
      "text/plain": [
       "'MY NAME IS MOHAI, NAME OF ORG IS INEURON'"
      ]
     },
     "execution_count": 11,
     "metadata": {},
     "output_type": "execute_result"
    }
   ],
   "source": [
    "s"
   ]
  },
  {
   "cell_type": "code",
   "execution_count": 12,
   "id": "147a3d4c",
   "metadata": {},
   "outputs": [
    {
     "data": {
      "text/plain": [
       "'my name is mohai, name of org is ineuron'"
      ]
     },
     "execution_count": 12,
     "metadata": {},
     "output_type": "execute_result"
    }
   ],
   "source": [
    "s.lower()"
   ]
  },
  {
   "cell_type": "code",
   "execution_count": 13,
   "id": "bfb03fe2",
   "metadata": {},
   "outputs": [],
   "source": [
    "s = 'My name is Mohai, name of Org is ineuRon'"
   ]
  },
  {
   "cell_type": "code",
   "execution_count": 14,
   "id": "2d998ca8",
   "metadata": {},
   "outputs": [
    {
     "data": {
      "text/plain": [
       "'mY NAME IS mOHAI, NAME OF oRG IS INEUrON'"
      ]
     },
     "execution_count": 14,
     "metadata": {},
     "output_type": "execute_result"
    }
   ],
   "source": [
    "s.swapcase()"
   ]
  },
  {
   "cell_type": "code",
   "execution_count": 15,
   "id": "53611f34",
   "metadata": {},
   "outputs": [
    {
     "data": {
      "text/plain": [
       "'M y   n a m e   i s   M o h a i ,   n a m e   o f   O r g   i s   i n e u R o n'"
      ]
     },
     "execution_count": 15,
     "metadata": {},
     "output_type": "execute_result"
    }
   ],
   "source": [
    "' '.join(s)"
   ]
  },
  {
   "cell_type": "code",
   "execution_count": 16,
   "id": "9b2746aa",
   "metadata": {},
   "outputs": [
    {
     "data": {
      "text/plain": [
       "'M# y#  # n# a# m# e#  # i# s#  # M# o# h# a# i# ,#  # n# a# m# e#  # o# f#  # O# r# g#  # i# s#  # i# n# e# u# R# o# n'"
      ]
     },
     "execution_count": 16,
     "metadata": {},
     "output_type": "execute_result"
    }
   ],
   "source": [
    "'# '.join(s)"
   ]
  },
  {
   "cell_type": "code",
   "execution_count": 206,
   "id": "2726345b",
   "metadata": {},
   "outputs": [
    {
     "data": {
      "text/plain": [
       "['l', 'l', 'a', 'h', ' ', 'n', 'i', ' ', 's', 'i', ' ', 'a', 'f', 'o', 's']"
      ]
     },
     "execution_count": 206,
     "metadata": {},
     "output_type": "execute_result"
    }
   ],
   "source": [
    "list(reversed(s))"
   ]
  },
  {
   "cell_type": "code",
   "execution_count": 18,
   "id": "dfff189b",
   "metadata": {},
   "outputs": [],
   "source": [
    "s = '  mohai  is     good '"
   ]
  },
  {
   "cell_type": "code",
   "execution_count": 19,
   "id": "13991827",
   "metadata": {},
   "outputs": [
    {
     "data": {
      "text/plain": [
       "'mohai  is     good'"
      ]
     },
     "execution_count": 19,
     "metadata": {},
     "output_type": "execute_result"
    }
   ],
   "source": [
    "s.strip()"
   ]
  },
  {
   "cell_type": "markdown",
   "id": "e45b2b01",
   "metadata": {},
   "source": [
    "Strip removes the spaces before and after not in betweeen. lstrip removes space  on left hand side and rstrip on right side."
   ]
  },
  {
   "cell_type": "code",
   "execution_count": 20,
   "id": "a583217d",
   "metadata": {},
   "outputs": [
    {
     "data": {
      "text/plain": [
       "'mohai  is     good '"
      ]
     },
     "execution_count": 20,
     "metadata": {},
     "output_type": "execute_result"
    }
   ],
   "source": [
    "s.lstrip()"
   ]
  },
  {
   "cell_type": "code",
   "execution_count": 21,
   "id": "fb784597",
   "metadata": {},
   "outputs": [
    {
     "data": {
      "text/plain": [
       "'  mohai  is     good'"
      ]
     },
     "execution_count": 21,
     "metadata": {},
     "output_type": "execute_result"
    }
   ],
   "source": [
    "s.rstrip()"
   ]
  },
  {
   "cell_type": "code",
   "execution_count": 22,
   "id": "cfcd3fc1",
   "metadata": {},
   "outputs": [],
   "source": [
    "s = 'greetings from ineuron'"
   ]
  },
  {
   "cell_type": "code",
   "execution_count": 23,
   "id": "2caebb43",
   "metadata": {},
   "outputs": [
    {
     "data": {
      "text/plain": [
       "'grootings from inouron'"
      ]
     },
     "execution_count": 23,
     "metadata": {},
     "output_type": "execute_result"
    }
   ],
   "source": [
    "s.replace('e','o')"
   ]
  },
  {
   "cell_type": "code",
   "execution_count": 24,
   "id": "33ac7fc6",
   "metadata": {},
   "outputs": [
    {
     "data": {
      "text/plain": [
       "'greetdags from daeuron'"
      ]
     },
     "execution_count": 24,
     "metadata": {},
     "output_type": "execute_result"
    }
   ],
   "source": [
    "s.replace('in','da')"
   ]
  },
  {
   "cell_type": "code",
   "execution_count": 25,
   "id": "34f97e15",
   "metadata": {},
   "outputs": [
    {
     "data": {
      "text/plain": [
       "'greetings from ineuron'"
      ]
     },
     "execution_count": 25,
     "metadata": {},
     "output_type": "execute_result"
    }
   ],
   "source": [
    "s"
   ]
  },
  {
   "cell_type": "markdown",
   "id": "f3fecda4",
   "metadata": {},
   "source": [
    "Though our original string remains the same, this imp property is called immutability. Immutable objects cannot be changed. In the same location if I am able to modify an object then it is mutable."
   ]
  },
  {
   "cell_type": "code",
   "execution_count": 26,
   "id": "7446e54b",
   "metadata": {},
   "outputs": [],
   "source": [
    "s = 'mohai'"
   ]
  },
  {
   "cell_type": "code",
   "execution_count": 27,
   "id": "0b9dfae8",
   "metadata": {},
   "outputs": [
    {
     "data": {
      "text/plain": [
       "'tttttttmohaitttttttt'"
      ]
     },
     "execution_count": 27,
     "metadata": {},
     "output_type": "execute_result"
    }
   ],
   "source": [
    "s.center(20,'t')"
   ]
  },
  {
   "cell_type": "markdown",
   "id": "88bd495e",
   "metadata": {},
   "source": [
    "It will reserve 20 spaces and place mohai in centre of it and the remaining places will be filled with t."
   ]
  },
  {
   "cell_type": "code",
   "execution_count": 28,
   "id": "a3acd65e",
   "metadata": {},
   "outputs": [
    {
     "data": {
      "text/plain": [
       "'mo\\thaai'"
      ]
     },
     "execution_count": 28,
     "metadata": {},
     "output_type": "execute_result"
    }
   ],
   "source": [
    "s = 'mo\\thaai'\n",
    "s"
   ]
  },
  {
   "cell_type": "code",
   "execution_count": 29,
   "id": "5f608951",
   "metadata": {},
   "outputs": [
    {
     "data": {
      "text/plain": [
       "'mo      haai'"
      ]
     },
     "execution_count": 29,
     "metadata": {},
     "output_type": "execute_result"
    }
   ],
   "source": [
    "s.expandtabs()"
   ]
  },
  {
   "cell_type": "markdown",
   "id": "c3898857",
   "metadata": {},
   "source": [
    "It finds the slash tab and places three spaces at that place."
   ]
  },
  {
   "cell_type": "markdown",
   "id": "7a9adb57",
   "metadata": {},
   "source": [
    "Task: Given string `a` perform following operations."
   ]
  },
  {
   "cell_type": "code",
   "execution_count": 30,
   "id": "df1b1577",
   "metadata": {},
   "outputs": [],
   "source": [
    "a = 'we all are a part of Full Stack'"
   ]
  },
  {
   "cell_type": "code",
   "execution_count": 31,
   "id": "2956d541",
   "metadata": {},
   "outputs": [
    {
     "data": {
      "text/plain": [
       "'we all are a part of full stack'"
      ]
     },
     "execution_count": 31,
     "metadata": {},
     "output_type": "execute_result"
    }
   ],
   "source": [
    "a.lower()"
   ]
  },
  {
   "cell_type": "markdown",
   "id": "088aab8e",
   "metadata": {},
   "source": [
    "Find no. of occurences of a in entire data"
   ]
  },
  {
   "cell_type": "code",
   "execution_count": 32,
   "id": "9a12601e",
   "metadata": {},
   "outputs": [
    {
     "data": {
      "text/plain": [
       "5"
      ]
     },
     "execution_count": 32,
     "metadata": {},
     "output_type": "execute_result"
    }
   ],
   "source": [
    "a.count('a')"
   ]
  },
  {
   "cell_type": "code",
   "execution_count": 33,
   "id": "d33de587",
   "metadata": {},
   "outputs": [
    {
     "data": {
      "text/plain": [
       "'l'"
      ]
     },
     "execution_count": 33,
     "metadata": {},
     "output_type": "execute_result"
    }
   ],
   "source": [
    "a[4]"
   ]
  },
  {
   "cell_type": "markdown",
   "id": "13f7c99c",
   "metadata": {},
   "source": [
    "Find all the location/index of a in entire string data?"
   ]
  },
  {
   "cell_type": "code",
   "execution_count": 34,
   "id": "7533c196",
   "metadata": {},
   "outputs": [
    {
     "name": "stdout",
     "output_type": "stream",
     "text": [
      "3\n",
      "7\n",
      "11\n",
      "14\n",
      "28\n"
     ]
    }
   ],
   "source": [
    "for i in range(len(a)):\n",
    "    if a[i] == 'a':\n",
    "        print(i)\n",
    "    else:\n",
    "        continue"
   ]
  },
  {
   "cell_type": "markdown",
   "id": "36fdf733",
   "metadata": {},
   "source": [
    "Replace all the `a` with `ineuron`"
   ]
  },
  {
   "cell_type": "code",
   "execution_count": 35,
   "id": "d7ec316c",
   "metadata": {},
   "outputs": [
    {
     "data": {
      "text/plain": [
       "'we ineuronll ineuronre ineuron pineuronrt of Full Stineuronck'"
      ]
     },
     "execution_count": 35,
     "metadata": {},
     "output_type": "execute_result"
    }
   ],
   "source": [
    "a.replace('a','ineuron')"
   ]
  },
  {
   "cell_type": "markdown",
   "id": "2657617b",
   "metadata": {},
   "source": [
    "Print all the words as a list."
   ]
  },
  {
   "cell_type": "code",
   "execution_count": 36,
   "id": "45c3a902",
   "metadata": {},
   "outputs": [
    {
     "data": {
      "text/plain": [
       "['we', 'all', 'are', 'a', 'part', 'of', 'Full', 'Stack']"
      ]
     },
     "execution_count": 36,
     "metadata": {},
     "output_type": "execute_result"
    }
   ],
   "source": [
    "c = a.split()\n",
    "c"
   ]
  },
  {
   "cell_type": "code",
   "execution_count": 37,
   "id": "47f3a5f4",
   "metadata": {},
   "outputs": [
    {
     "data": {
      "text/plain": [
       "'of'"
      ]
     },
     "execution_count": 37,
     "metadata": {},
     "output_type": "execute_result"
    }
   ],
   "source": [
    "c[5]"
   ]
  },
  {
   "cell_type": "code",
   "execution_count": 4,
   "id": "92bf7e90",
   "metadata": {},
   "outputs": [
    {
     "name": "stdout",
     "output_type": "stream",
     "text": [
      "k c a t s   l l u f   s i   g o r p   y m "
     ]
    }
   ],
   "source": [
    "a = 'my prog is full stack'\n",
    "for i in range(len(a)):\n",
    "    print(a[-i-1], end=' ')"
   ]
  },
  {
   "cell_type": "markdown",
   "id": "fd038554",
   "metadata": {},
   "source": [
    "Reverse a string without using for loop, reversed function or -i func."
   ]
  },
  {
   "cell_type": "code",
   "execution_count": 39,
   "id": "95b7c26f",
   "metadata": {},
   "outputs": [
    {
     "name": "stdout",
     "output_type": "stream",
     "text": [
      "i a h o m "
     ]
    }
   ],
   "source": [
    "s = 'mohai'\n",
    "i = len(s)-1\n",
    "\n",
    "while i >= 0:\n",
    "    print(s[i],end=' ')\n",
    "    i -=1\n"
   ]
  },
  {
   "cell_type": "code",
   "execution_count": 204,
   "id": "991ee3f6",
   "metadata": {},
   "outputs": [
    {
     "name": "stdout",
     "output_type": "stream",
     "text": [
      "d is not a vowel\n",
      "a is a vowel\n",
      "t is not a vowel\n",
      "a is a vowel\n",
      "s is not a vowel\n",
      "c is not a vowel\n",
      "i is a vowel\n",
      "e is a vowel\n",
      "n is not a vowel\n",
      "c is not a vowel\n",
      "e is a vowel\n"
     ]
    }
   ],
   "source": [
    "name = 'datascience'\n",
    "vowels = 'AaEeIiOoUu'\n",
    "\n",
    "for i in name:\n",
    "    if i in vowels:\n",
    "        print('{} is a vowel'.format(i))\n",
    "    else:\n",
    "        print('{} is not a vowel'.format(i))"
   ]
  },
  {
   "cell_type": "markdown",
   "id": "12e2404a",
   "metadata": {},
   "source": [
    "Format is built-in function which is a runtime filler of argument we provide."
   ]
  },
  {
   "cell_type": "code",
   "execution_count": 41,
   "id": "c3c52554",
   "metadata": {},
   "outputs": [
    {
     "data": {
      "text/plain": [
       "'my course is in data science'"
      ]
     },
     "execution_count": 41,
     "metadata": {},
     "output_type": "execute_result"
    }
   ],
   "source": [
    "'my {} is in {} science'.format('course','data')"
   ]
  },
  {
   "cell_type": "markdown",
   "id": "69749f26",
   "metadata": {},
   "source": [
    "Check for palindrome"
   ]
  },
  {
   "cell_type": "code",
   "execution_count": 42,
   "id": "762703be",
   "metadata": {},
   "outputs": [
    {
     "name": "stdout",
     "output_type": "stream",
     "text": [
      "Enter the text for which you want to check whether it is a palindrome df\n",
      "Sorry, this is not a palindrome\n"
     ]
    }
   ],
   "source": [
    "s = input('Enter the text for which you want to check whether it is a palindrome ')\n",
    "b = s[::-1]\n",
    "\n",
    "if s == b:\n",
    "    print(\"Yes, this is a palindrome\")\n",
    "else:\n",
    "    print('Sorry, this is not a palindrome')"
   ]
  },
  {
   "cell_type": "code",
   "execution_count": 63,
   "id": "5194fa2c",
   "metadata": {},
   "outputs": [
    {
     "name": "stdout",
     "output_type": "stream",
     "text": [
      "Enter the text for which you want to check whether it is a palindrome dfdfeiire\n"
     ]
    },
    {
     "data": {
      "text/plain": [
       "'eriiefdfd'"
      ]
     },
     "execution_count": 63,
     "metadata": {},
     "output_type": "execute_result"
    }
   ],
   "source": [
    "s = input('Enter the text for which you want to check whether it is a palindrome ')\n",
    "s[-1::-1]"
   ]
  },
  {
   "cell_type": "markdown",
   "id": "ef58d8f8",
   "metadata": {},
   "source": [
    "Reverse a string"
   ]
  },
  {
   "cell_type": "code",
   "execution_count": 161,
   "id": "a0e0cbcc",
   "metadata": {},
   "outputs": [
    {
     "name": "stdout",
     "output_type": "stream",
     "text": [
      "afos"
     ]
    }
   ],
   "source": [
    "s = 'sofa'\n",
    "a = '' \n",
    "    \n",
    "for i in range(len(s)-1,-1,-1):\n",
    "    c = a+s[i]\n",
    "    print(c,end='')\n",
    "    \n",
    "    \n",
    "    "
   ]
  },
  {
   "cell_type": "code",
   "execution_count": 202,
   "id": "d59dc867",
   "metadata": {},
   "outputs": [
    {
     "name": "stdout",
     "output_type": "stream",
     "text": [
      "llah ni si afos"
     ]
    }
   ],
   "source": [
    "s = 'sofa is in hall'\n",
    "\n",
    "for i in range(len(s)):\n",
    "    print(s[-i-1],end='')"
   ]
  },
  {
   "cell_type": "code",
   "execution_count": 159,
   "id": "d4c167ce",
   "metadata": {},
   "outputs": [
    {
     "name": "stdout",
     "output_type": "stream",
     "text": [
      "Enter text for which you want to check whether it is a palindrome: fskgi\n",
      "No, this is not a palindrome\n",
      "No, this is not a palindrome\n"
     ]
    }
   ],
   "source": [
    "s = input('Enter text for which you want to check whether it is a palindrome: ')\n",
    "a = len(s)-1\n",
    "b = int(len(s)/2)\n",
    "\n",
    "for i in range(b):\n",
    "    if s[i] == s[a-i]:\n",
    "        print('This is a palindrome')\n",
    "    else:\n",
    "        print('No, this is not a palindrome')\n",
    "    "
   ]
  },
  {
   "cell_type": "code",
   "execution_count": 139,
   "id": "dd9091f8",
   "metadata": {},
   "outputs": [
    {
     "name": "stdout",
     "output_type": "stream",
     "text": [
      "Enter a letter:nitin\n",
      "The letter is a palindrome\n"
     ]
    }
   ],
   "source": [
    "string=input((\"Enter a letter:\"))  \n",
    "if(string==string[::-1]):  \n",
    "      print(\"The letter is a palindrome\")  \n",
    "else:  \n",
    "      print(\"The letter is not a palindrome\")  "
   ]
  },
  {
   "cell_type": "code",
   "execution_count": 85,
   "id": "2cc7cee9",
   "metadata": {},
   "outputs": [
    {
     "name": "stdout",
     "output_type": "stream",
     "text": [
      "k m\n",
      "m m\n",
      "m k\n"
     ]
    }
   ],
   "source": [
    "s = 'fkmm'\n",
    "for i in range(1,len(s)):\n",
    "    print(s[i],s[-i])"
   ]
  },
  {
   "cell_type": "code",
   "execution_count": 167,
   "id": "42f99d47",
   "metadata": {},
   "outputs": [
    {
     "name": "stdout",
     "output_type": "stream",
     "text": [
      "38\n",
      "24\n",
      "9\n"
     ]
    }
   ],
   "source": [
    "s = 'my name is mohai, name of org is ineuron'\n",
    "l = list(s)\n",
    "\n",
    "for i in range(l):\n",
    "    if s[i] == 'e':\n",
    "        print(i+3)"
   ]
  },
  {
   "cell_type": "markdown",
   "id": "d18a41bb",
   "metadata": {},
   "source": [
    "To find the index of 'name' occuring the scond time in string s. Argument in s.find function is b=start and c=end and it finds the 'name' in between these two points hence we get the second 'name' index 18.  "
   ]
  },
  {
   "cell_type": "code",
   "execution_count": 196,
   "id": "b198ef9f",
   "metadata": {},
   "outputs": [
    {
     "data": {
      "text/plain": [
       "18"
      ]
     },
     "execution_count": 196,
     "metadata": {},
     "output_type": "execute_result"
    }
   ],
   "source": [
    "s = 'my name is mohai, name of org name is ineuron'\n",
    "a = s.find('name')\n",
    "#a = 3\n",
    "b = a+len('name')\n",
    "#b = a+4 = 7\n",
    "c = b+len(' is mohai, name')\n",
    "#c = b+15 = 22\n",
    "s.find('name',b,c)"
   ]
  },
  {
   "cell_type": "code",
   "execution_count": 179,
   "id": "1b58a965",
   "metadata": {},
   "outputs": [
    {
     "data": {
      "text/plain": [
       "'m'"
      ]
     },
     "execution_count": 179,
     "metadata": {},
     "output_type": "execute_result"
    }
   ],
   "source": [
    "s = 'my name is mohai, name of org is ineuron'\n",
    "s[11]"
   ]
  },
  {
   "cell_type": "markdown",
   "id": "48eac6f5",
   "metadata": {},
   "source": [
    "### Lecture 7: List Manipulation"
   ]
  },
  {
   "cell_type": "code",
   "execution_count": 207,
   "id": "22991e79",
   "metadata": {},
   "outputs": [],
   "source": [
    "l = ['mohai',34, 89.34,[34,'fdf',True],45.6,False]"
   ]
  },
  {
   "cell_type": "code",
   "execution_count": 210,
   "id": "27a483a0",
   "metadata": {},
   "outputs": [],
   "source": [
    "l1=[35.63,6,'frank',True]"
   ]
  },
  {
   "cell_type": "code",
   "execution_count": 211,
   "id": "f4f47caa",
   "metadata": {},
   "outputs": [
    {
     "data": {
      "text/plain": [
       "['mohai', 34, 89.34, [34, 'fdf', True], 45.6, False, 35.63, 6, 'frank', True]"
      ]
     },
     "execution_count": 211,
     "metadata": {},
     "output_type": "execute_result"
    }
   ],
   "source": [
    "l+l1"
   ]
  },
  {
   "cell_type": "code",
   "execution_count": 212,
   "id": "ba3cfd57",
   "metadata": {},
   "outputs": [
    {
     "data": {
      "text/plain": [
       "True"
      ]
     },
     "execution_count": 212,
     "metadata": {},
     "output_type": "execute_result"
    }
   ],
   "source": [
    "34 in l"
   ]
  },
  {
   "cell_type": "code",
   "execution_count": 213,
   "id": "6e756543",
   "metadata": {},
   "outputs": [
    {
     "data": {
      "text/plain": [
       "True"
      ]
     },
     "execution_count": 213,
     "metadata": {},
     "output_type": "execute_result"
    }
   ],
   "source": [
    "'frank' in l1"
   ]
  },
  {
   "cell_type": "code",
   "execution_count": 219,
   "id": "ef5284ea",
   "metadata": {},
   "outputs": [
    {
     "data": {
      "text/plain": [
       "43"
      ]
     },
     "execution_count": 219,
     "metadata": {},
     "output_type": "execute_result"
    }
   ],
   "source": [
    "max(2,4,6,34.5,43)"
   ]
  },
  {
   "cell_type": "code",
   "execution_count": 217,
   "id": "fc64b53f",
   "metadata": {},
   "outputs": [
    {
     "data": {
      "text/plain": [
       "'newton'"
      ]
     },
     "execution_count": 217,
     "metadata": {},
     "output_type": "execute_result"
    }
   ],
   "source": [
    "max('ineuron','max','newton','newline')"
   ]
  },
  {
   "cell_type": "code",
   "execution_count": 218,
   "id": "e2c2d8e5",
   "metadata": {},
   "outputs": [
    {
     "data": {
      "text/plain": [
       "'ineet'"
      ]
     },
     "execution_count": 218,
     "metadata": {},
     "output_type": "execute_result"
    }
   ],
   "source": [
    "min('ineuron','max','min','ineet')"
   ]
  },
  {
   "cell_type": "code",
   "execution_count": 2,
   "id": "7e93f6ab",
   "metadata": {},
   "outputs": [],
   "source": [
    "l = ['mohai',34,True,[7.4,'tree']]"
   ]
  },
  {
   "cell_type": "code",
   "execution_count": 3,
   "id": "a989e617",
   "metadata": {},
   "outputs": [],
   "source": [
    "l.append('hello')"
   ]
  },
  {
   "cell_type": "code",
   "execution_count": 4,
   "id": "c7bff495",
   "metadata": {},
   "outputs": [
    {
     "data": {
      "text/plain": [
       "['mohai', 34, True, 'nice', [7.4, 'tree'], 'hello']"
      ]
     },
     "execution_count": 4,
     "metadata": {},
     "output_type": "execute_result"
    }
   ],
   "source": [
    "l.insert(3,'nice')\n",
    "l"
   ]
  },
  {
   "cell_type": "code",
   "execution_count": 239,
   "id": "7157bb3f",
   "metadata": {},
   "outputs": [],
   "source": [
    "l.insert(-1,'kill')"
   ]
  },
  {
   "cell_type": "code",
   "execution_count": 240,
   "id": "c6c193fa",
   "metadata": {},
   "outputs": [
    {
     "data": {
      "text/plain": [
       "['mohai', 34, True, 'nice', [7.4, 'tree'], 'kill', 'hello']"
      ]
     },
     "execution_count": 240,
     "metadata": {},
     "output_type": "execute_result"
    }
   ],
   "source": [
    "l"
   ]
  },
  {
   "cell_type": "code",
   "execution_count": 241,
   "id": "45c9db65",
   "metadata": {},
   "outputs": [],
   "source": [
    "l.extend('live')"
   ]
  },
  {
   "cell_type": "code",
   "execution_count": 242,
   "id": "0c888035",
   "metadata": {},
   "outputs": [
    {
     "data": {
      "text/plain": [
       "['mohai', 34, True, 'nice', [7.4, 'tree'], 'kill', 'hello', 'l', 'i', 'v', 'e']"
      ]
     },
     "execution_count": 242,
     "metadata": {},
     "output_type": "execute_result"
    }
   ],
   "source": [
    "l"
   ]
  },
  {
   "cell_type": "markdown",
   "id": "ff81e59a",
   "metadata": {},
   "source": [
    "The `extend()` method adds all the elements of an iterable (list, tuple, string etc.) to the end of the list. The `append()` method adds an item to the end of the list. Extend will unwrap each and every character and insert at tail position of list.\n",
    "Extend will work only on iterable objects like string while append works on integers as well."
   ]
  },
  {
   "cell_type": "code",
   "execution_count": 243,
   "id": "6f7b31fe",
   "metadata": {},
   "outputs": [
    {
     "data": {
      "text/plain": [
       "[23, 4, 53.5, 2, 5, 3]"
      ]
     },
     "execution_count": 243,
     "metadata": {},
     "output_type": "execute_result"
    }
   ],
   "source": [
    "l=[23,4,53.5]\n",
    "l.extend([2,5,3])\n",
    "l"
   ]
  },
  {
   "cell_type": "code",
   "execution_count": 244,
   "id": "bc65bd25",
   "metadata": {},
   "outputs": [
    {
     "data": {
      "text/plain": [
       "[23, 4, 53.5, 2, 5, 3, [2, 5, 3.6]]"
      ]
     },
     "execution_count": 244,
     "metadata": {},
     "output_type": "execute_result"
    }
   ],
   "source": [
    "l.append([2,5,3.6])\n",
    "l"
   ]
  },
  {
   "cell_type": "markdown",
   "id": "43956093",
   "metadata": {},
   "source": [
    "Append will put the list as it is while extend merges the list"
   ]
  },
  {
   "cell_type": "code",
   "execution_count": 246,
   "id": "7071ce7a",
   "metadata": {},
   "outputs": [],
   "source": [
    "l.extend([4,7.4,[3,5.5]])"
   ]
  },
  {
   "cell_type": "code",
   "execution_count": 247,
   "id": "28e088b2",
   "metadata": {},
   "outputs": [
    {
     "data": {
      "text/plain": [
       "[23, 4, 53.5, 2, 5, 3, [2, 5, 3.6], 4, 7.4, [3, 5.5]]"
      ]
     },
     "execution_count": 247,
     "metadata": {},
     "output_type": "execute_result"
    }
   ],
   "source": [
    "l"
   ]
  },
  {
   "cell_type": "code",
   "execution_count": 249,
   "id": "7edd4b3a",
   "metadata": {},
   "outputs": [
    {
     "data": {
      "text/plain": [
       "1"
      ]
     },
     "execution_count": 249,
     "metadata": {},
     "output_type": "execute_result"
    }
   ],
   "source": [
    "l.index(4)"
   ]
  },
  {
   "cell_type": "code",
   "execution_count": 250,
   "id": "39f3a200",
   "metadata": {},
   "outputs": [
    {
     "data": {
      "text/plain": [
       "[3, 5.5]"
      ]
     },
     "execution_count": 250,
     "metadata": {},
     "output_type": "execute_result"
    }
   ],
   "source": [
    "l.pop()"
   ]
  },
  {
   "cell_type": "code",
   "execution_count": 70,
   "id": "7a7dc038",
   "metadata": {},
   "outputs": [
    {
     "data": {
      "text/plain": [
       "[3, 5, 7, 6, 34, 5, 5]"
      ]
     },
     "execution_count": 70,
     "metadata": {},
     "output_type": "execute_result"
    }
   ],
   "source": [
    "l=[3,5,7,6,34,5,3,5]\n",
    "l.pop(6)\n",
    "l"
   ]
  },
  {
   "cell_type": "code",
   "execution_count": 253,
   "id": "48ecd20f",
   "metadata": {},
   "outputs": [
    {
     "data": {
      "text/plain": [
       "[23, 4, 53.5, 2, 5, 3, 4, 7.4]"
      ]
     },
     "execution_count": 253,
     "metadata": {},
     "output_type": "execute_result"
    }
   ],
   "source": [
    "l"
   ]
  },
  {
   "cell_type": "code",
   "execution_count": 254,
   "id": "62ffe2d3",
   "metadata": {},
   "outputs": [],
   "source": [
    "l.remove(4)"
   ]
  },
  {
   "cell_type": "code",
   "execution_count": 255,
   "id": "8acd6ac7",
   "metadata": {},
   "outputs": [
    {
     "data": {
      "text/plain": [
       "[23, 53.5, 2, 5, 3, 4, 7.4]"
      ]
     },
     "execution_count": 255,
     "metadata": {},
     "output_type": "execute_result"
    }
   ],
   "source": [
    "l"
   ]
  },
  {
   "cell_type": "code",
   "execution_count": 256,
   "id": "06acc691",
   "metadata": {},
   "outputs": [],
   "source": [
    "l.reverse()"
   ]
  },
  {
   "cell_type": "code",
   "execution_count": 257,
   "id": "c2cf2ffb",
   "metadata": {},
   "outputs": [
    {
     "data": {
      "text/plain": [
       "[7.4, 4, 3, 5, 2, 53.5, 23]"
      ]
     },
     "execution_count": 257,
     "metadata": {},
     "output_type": "execute_result"
    }
   ],
   "source": [
    "l"
   ]
  },
  {
   "cell_type": "code",
   "execution_count": 258,
   "id": "6e89adc4",
   "metadata": {},
   "outputs": [],
   "source": [
    "l.sort()"
   ]
  },
  {
   "cell_type": "code",
   "execution_count": 259,
   "id": "85245a0b",
   "metadata": {},
   "outputs": [
    {
     "data": {
      "text/plain": [
       "[2, 3, 4, 5, 7.4, 23, 53.5]"
      ]
     },
     "execution_count": 259,
     "metadata": {},
     "output_type": "execute_result"
    }
   ],
   "source": [
    "l"
   ]
  },
  {
   "cell_type": "code",
   "execution_count": 48,
   "id": "02c00bb6",
   "metadata": {},
   "outputs": [
    {
     "data": {
      "text/plain": [
       "37"
      ]
     },
     "execution_count": 48,
     "metadata": {},
     "output_type": "execute_result"
    }
   ],
   "source": [
    "l = [[34,35],[56,45,37],[65,56.5,89,47,37,53]]\n",
    "l[1][2]"
   ]
  },
  {
   "cell_type": "code",
   "execution_count": 49,
   "id": "c0abe6e7",
   "metadata": {},
   "outputs": [
    {
     "data": {
      "text/plain": [
       "[65, 56.5, 89, 47, 37, 53]"
      ]
     },
     "execution_count": 49,
     "metadata": {},
     "output_type": "execute_result"
    }
   ],
   "source": [
    "l[2][:]"
   ]
  },
  {
   "cell_type": "code",
   "execution_count": 50,
   "id": "69e7dc6c",
   "metadata": {},
   "outputs": [
    {
     "data": {
      "text/plain": [
       "[65, 89, 37]"
      ]
     },
     "execution_count": 50,
     "metadata": {},
     "output_type": "execute_result"
    }
   ],
   "source": [
    "l[2][::2]"
   ]
  },
  {
   "cell_type": "markdown",
   "id": "355cc6af",
   "metadata": {},
   "source": [
    "### Solution 1: Online class assignment Lecture 9.List Manipulation at time 1 hr"
   ]
  },
  {
   "cell_type": "code",
   "execution_count": 66,
   "id": "193a88ed",
   "metadata": {},
   "outputs": [],
   "source": [
    "l2 = [[4,36,True],[4+6j,8.9],['neuron',9]]"
   ]
  },
  {
   "cell_type": "code",
   "execution_count": 67,
   "id": "10933dc8",
   "metadata": {},
   "outputs": [
    {
     "data": {
      "text/plain": [
       "[[4, 36, True], [2, 3], [(4+6j), 8.9], [5.5, 4], (5+3j), ['neuron', 9]]"
      ]
     },
     "execution_count": 67,
     "metadata": {},
     "output_type": "execute_result"
    }
   ],
   "source": [
    "l2.insert(1,[2,3])\n",
    "l2.insert(3,[5.5,4])\n",
    "l2.insert(4,5+3j)\n",
    "l2"
   ]
  },
  {
   "cell_type": "code",
   "execution_count": 68,
   "id": "6ff92a92",
   "metadata": {},
   "outputs": [
    {
     "data": {
      "text/plain": [
       "6"
      ]
     },
     "execution_count": 68,
     "metadata": {},
     "output_type": "execute_result"
    }
   ],
   "source": [
    "len(l2)"
   ]
  },
  {
   "cell_type": "code",
   "execution_count": 69,
   "id": "aed7c589",
   "metadata": {},
   "outputs": [
    {
     "data": {
      "text/plain": [
       "[4, 36, True]"
      ]
     },
     "execution_count": 69,
     "metadata": {},
     "output_type": "execute_result"
    }
   ],
   "source": [
    "l2[0]"
   ]
  },
  {
   "cell_type": "code",
   "execution_count": 70,
   "id": "1e6ce63a",
   "metadata": {},
   "outputs": [
    {
     "data": {
      "text/plain": [
       "str"
      ]
     },
     "execution_count": 70,
     "metadata": {},
     "output_type": "execute_result"
    }
   ],
   "source": [
    "type(l2[5][0])"
   ]
  },
  {
   "cell_type": "code",
   "execution_count": 71,
   "id": "8d0a04be",
   "metadata": {},
   "outputs": [
    {
     "name": "stdout",
     "output_type": "stream",
     "text": [
      "3\n",
      "2\n",
      "2\n",
      "2\n",
      "2\n"
     ]
    }
   ],
   "source": [
    "for i in range(len(l2)):\n",
    "    if type(l2[i]) == list:\n",
    "        print(len(l2[i]))\n",
    "    "
   ]
  },
  {
   "cell_type": "markdown",
   "id": "68983768",
   "metadata": {},
   "source": [
    "Find the index of string in your nested list"
   ]
  },
  {
   "cell_type": "markdown",
   "id": "b95a27c7",
   "metadata": {},
   "source": [
    "### DOUBT"
   ]
  },
  {
   "cell_type": "code",
   "execution_count": null,
   "id": "140d1a8c",
   "metadata": {},
   "outputs": [],
   "source": [
    "# After removing all the strings the last 'jack' string still remains?"
   ]
  },
  {
   "cell_type": "code",
   "execution_count": 12,
   "id": "c942f6d9",
   "metadata": {},
   "outputs": [
    {
     "name": "stdout",
     "output_type": "stream",
     "text": [
      "2 0\n",
      "2 2\n",
      "2 4\n",
      "3 1\n",
      "3 3\n",
      "3 4\n",
      "3 6\n",
      "3 8\n",
      "3 9\n",
      "5 1\n",
      "neuron\n",
      "neuron\n",
      "neuron\n",
      "jack\n",
      "jack\n",
      "jack\n",
      "sam\n",
      "kill\n",
      "Final list is [[4, True], [(4+6j), 8.9], [9, 2], [99, 78, 64, 'jack', 52, 'jack'], (4+6j), [3.5, (6+7j)]]\n"
     ]
    }
   ],
   "source": [
    "l = [[4,True],[4+6j,8.9],['neuron',9,'neuron',2,'neuron'],[99,'jack',78,'jack','jack',64,'jack',52,'sam','jack'],(4+6j),[3.5,'kill',6+7j]]\n",
    "\n",
    "\n",
    "for i in range(len(l)):\n",
    "    if type(l[i]) == list:\n",
    "        for j in range(len(l[i])):\n",
    "            if type(l[i][j]) == str:\n",
    "                print(i,j)\n",
    "                \n",
    "for i in l:\n",
    "    if type(i) == list:\n",
    "        for j in i:\n",
    "            if type(j) == str:\n",
    "                i.remove(j)\n",
    "                print(j)\n",
    "print('Final list is',l)"
   ]
  },
  {
   "cell_type": "code",
   "execution_count": 23,
   "id": "bf0125bd",
   "metadata": {},
   "outputs": [
    {
     "name": "stdout",
     "output_type": "stream",
     "text": [
      "[[4, 36, True], [(4+6j), 8.9], [99, 45]]\n"
     ]
    },
    {
     "ename": "IndexError",
     "evalue": "list index out of range",
     "output_type": "error",
     "traceback": [
      "\u001b[1;31m---------------------------------------------------------------------------\u001b[0m",
      "\u001b[1;31mIndexError\u001b[0m                                Traceback (most recent call last)",
      "\u001b[1;32m<ipython-input-23-06572a58e3db>\u001b[0m in \u001b[0;36m<module>\u001b[1;34m\u001b[0m\n\u001b[0;32m      3\u001b[0m \u001b[1;32mfor\u001b[0m \u001b[0mi\u001b[0m \u001b[1;32min\u001b[0m \u001b[0mrange\u001b[0m\u001b[1;33m(\u001b[0m\u001b[0mlen\u001b[0m\u001b[1;33m(\u001b[0m\u001b[0ml\u001b[0m\u001b[1;33m)\u001b[0m\u001b[1;33m)\u001b[0m\u001b[1;33m:\u001b[0m\u001b[1;33m\u001b[0m\u001b[1;33m\u001b[0m\u001b[0m\n\u001b[0;32m      4\u001b[0m     \u001b[1;32mfor\u001b[0m \u001b[0mj\u001b[0m \u001b[1;32min\u001b[0m \u001b[0mrange\u001b[0m\u001b[1;33m(\u001b[0m\u001b[0mlen\u001b[0m\u001b[1;33m(\u001b[0m\u001b[0ml\u001b[0m\u001b[1;33m[\u001b[0m\u001b[0mi\u001b[0m\u001b[1;33m]\u001b[0m\u001b[1;33m)\u001b[0m\u001b[1;33m)\u001b[0m\u001b[1;33m:\u001b[0m\u001b[1;33m\u001b[0m\u001b[1;33m\u001b[0m\u001b[0m\n\u001b[1;32m----> 5\u001b[1;33m         \u001b[1;32mif\u001b[0m \u001b[0mtype\u001b[0m\u001b[1;33m(\u001b[0m\u001b[0ml\u001b[0m\u001b[1;33m[\u001b[0m\u001b[0mi\u001b[0m\u001b[1;33m]\u001b[0m\u001b[1;33m[\u001b[0m\u001b[0mj\u001b[0m\u001b[1;33m]\u001b[0m\u001b[1;33m)\u001b[0m \u001b[1;33m==\u001b[0m \u001b[0mstr\u001b[0m\u001b[1;33m:\u001b[0m\u001b[1;33m\u001b[0m\u001b[1;33m\u001b[0m\u001b[0m\n\u001b[0m\u001b[0;32m      6\u001b[0m             \u001b[1;32mdel\u001b[0m \u001b[0ml\u001b[0m\u001b[1;33m[\u001b[0m\u001b[0mi\u001b[0m\u001b[1;33m]\u001b[0m\u001b[1;33m[\u001b[0m\u001b[0mj\u001b[0m\u001b[1;33m]\u001b[0m\u001b[1;33m\u001b[0m\u001b[1;33m\u001b[0m\u001b[0m\n\u001b[0;32m      7\u001b[0m             \u001b[0mprint\u001b[0m\u001b[1;33m(\u001b[0m\u001b[0ml\u001b[0m\u001b[1;33m)\u001b[0m\u001b[1;33m\u001b[0m\u001b[1;33m\u001b[0m\u001b[0m\n",
      "\u001b[1;31mIndexError\u001b[0m: list index out of range"
     ]
    }
   ],
   "source": [
    "l = [[4,36,True],[4+6j,8.9],[99,'jac',45]]\n",
    "\n",
    "for i in range(len(l)):\n",
    "    for j in range(len(l[i])):\n",
    "        if type(l[i][j]) == str:\n",
    "            del l[i][j]\n",
    "            print(l)"
   ]
  },
  {
   "cell_type": "code",
   "execution_count": null,
   "id": "0da7f550",
   "metadata": {},
   "outputs": [],
   "source": [
    "l = [[4,36,True],[4+6j,'see',8.9,'see',5],[99,'jac',5,6,'jac','jac']]\n",
    "    \n",
    "for i in range(len(l)):\n",
    "    for j in range(len(l[i])):\n",
    "        if type(l[i][j]) == str:\n",
    "            print(l)\n",
    "            print(i,j)\n",
    "            i.re\n",
    "             "
   ]
  },
  {
   "cell_type": "code",
   "execution_count": 2,
   "id": "c87ab74a",
   "metadata": {},
   "outputs": [
    {
     "name": "stdout",
     "output_type": "stream",
     "text": [
      "1\n",
      "1\n",
      "2\n",
      "2\n",
      "2\n"
     ]
    }
   ],
   "source": [
    "l = [[4,36,True],[4+6j,'see',8.9,'see',5],[99,35,'jac',52,6,'jac','jac']]\n",
    "\n",
    "for i in l:\n",
    "    for j in i:\n",
    "        if type(j) == str:\n",
    "            print(i.index(j))"
   ]
  },
  {
   "cell_type": "markdown",
   "id": "8133f8df",
   "metadata": {},
   "source": [
    "### Solution 2: Online class assignment Lecture 9.List Manipulation at time 1 hr"
   ]
  },
  {
   "cell_type": "code",
   "execution_count": 3,
   "id": "2ad124a0",
   "metadata": {},
   "outputs": [
    {
     "name": "stdout",
     "output_type": "stream",
     "text": [
      "[[34, (3+7j), 70.5, 4], [34, 'neuron', 73.5, 'neuron', 5.4], [44, False, 4], ['hello', 4.5, 'not']]\n",
      "[[34, (3+7j), 70.5, 4], [4.5, True], [34, 'neuron', 73.5, 'neuron', 5.4], (3+6j), [44, False, 4], ['hello', 4.5, 'not'], [3, 6]]\n",
      "index is: 1\n",
      "index is: 2\n",
      "index is: 0\n",
      "index is: 1\n",
      "[[34, (3+7j), 70.5, 4], [4.5, True], [34, 73.5, 5.4], (3+6j), [44, False, 4], [4.5], [3, 6]]\n",
      "(3+7j)\n",
      "True\n",
      "73.5\n",
      "False\n",
      "6\n"
     ]
    }
   ],
   "source": [
    "l = [[34,3+7j,70.5,4],[34,'neuron',73.5,'neuron',5.4],[44,False,4],['hello',4.5,'not']]\n",
    "print(l)\n",
    "# part 1\n",
    "l.append([3,6])\n",
    "l.insert(1,[4.5,True])\n",
    "l.insert(3,3+6j)\n",
    "print(l)\n",
    "\n",
    "# part 2\n",
    "for i in l:\n",
    "    if type(i) == list:\n",
    "        for j in i:\n",
    "            if type(j) == str:\n",
    "                print('index is:',i.index(j))\n",
    "                i.remove(j)\n",
    "print(l)\n",
    "\n",
    "# part 3\n",
    "for i in l:\n",
    "    if type(i) == list:\n",
    "        for j in i:\n",
    "            if i.index(j) == 1:\n",
    "                print(j)"
   ]
  },
  {
   "cell_type": "markdown",
   "id": "9d1b6d04",
   "metadata": {},
   "source": [
    "You have to extract 2nd element of each nested list"
   ]
  },
  {
   "cell_type": "code",
   "execution_count": 82,
   "id": "fe86f296",
   "metadata": {},
   "outputs": [
    {
     "name": "stdout",
     "output_type": "stream",
     "text": [
      "3\n",
      "5\n",
      "6.7\n",
      "7.5\n"
     ]
    }
   ],
   "source": [
    "l = [[34,3],[2,5],[34,6.7,5],[5,7.5,7]]\n",
    "\n",
    "for i in l:\n",
    "    if type(i) == list and len(i) >= 2:\n",
    "        print(i[1])\n",
    "        "
   ]
  },
  {
   "cell_type": "code",
   "execution_count": 85,
   "id": "89268d61",
   "metadata": {},
   "outputs": [
    {
     "name": "stdout",
     "output_type": "stream",
     "text": [
      "3\n",
      "5\n",
      "6.7\n",
      "7.5\n"
     ]
    }
   ],
   "source": [
    "l = [[34,3],[2,5],[34,6.7,5],[5,7.5,7]]\n",
    "\n",
    "for i in range(len(l)):\n",
    "    for j in range(len(l[i])):\n",
    "        if j == 1:\n",
    "            print(l[i][j])"
   ]
  },
  {
   "cell_type": "code",
   "execution_count": 5,
   "id": "60c51248",
   "metadata": {},
   "outputs": [
    {
     "data": {
      "text/plain": [
       "['s', 'u', 'd', 'h']"
      ]
     },
     "execution_count": 5,
     "metadata": {},
     "output_type": "execute_result"
    }
   ],
   "source": [
    "l = 'sudh'\n",
    "l1 = []\n",
    "for i in l:\n",
    "    l1.append(i)\n",
    "l1"
   ]
  },
  {
   "cell_type": "code",
   "execution_count": 6,
   "id": "7e618b56",
   "metadata": {},
   "outputs": [
    {
     "data": {
      "text/plain": [
       "['s', 'u', 'd', 'h']"
      ]
     },
     "execution_count": 6,
     "metadata": {},
     "output_type": "execute_result"
    }
   ],
   "source": [
    "[i for i in 'sudh']"
   ]
  },
  {
   "cell_type": "markdown",
   "id": "4d698151",
   "metadata": {},
   "source": [
    "#### Based on a list of fruits, you want a new list, containing only the fruits with the letter \"a\" in the name. Without list comprehension you will have to write a for statement with a conditional test inside:"
   ]
  },
  {
   "cell_type": "markdown",
   "id": "5c642490",
   "metadata": {},
   "source": [
    "### Using for loop "
   ]
  },
  {
   "cell_type": "code",
   "execution_count": 7,
   "id": "0e772986",
   "metadata": {},
   "outputs": [
    {
     "name": "stdout",
     "output_type": "stream",
     "text": [
      "['apple', 'guava', 'orange']\n"
     ]
    }
   ],
   "source": [
    "fruits = ['apple', 'guava', 'kiwi', 'chiku', 'orange']\n",
    "newlist = []\n",
    "\n",
    "for i in fruits:\n",
    "    if 'a' in i:\n",
    "        newlist.append(i)\n",
    "print(newlist)"
   ]
  },
  {
   "cell_type": "markdown",
   "id": "d6faaf33",
   "metadata": {},
   "source": [
    "### List comprehension example"
   ]
  },
  {
   "cell_type": "code",
   "execution_count": 8,
   "id": "4ee7eba6",
   "metadata": {},
   "outputs": [
    {
     "name": "stdout",
     "output_type": "stream",
     "text": [
      "['apple', 'guava', 'orange']\n"
     ]
    }
   ],
   "source": [
    "fruits = ['apple', 'guava', 'kiwi', 'chiku', 'orange']\n",
    "newlist = [i for i in fruits if 'a' in i]\n",
    "print(newlist)"
   ]
  },
  {
   "cell_type": "code",
   "execution_count": 9,
   "id": "a9144bc1",
   "metadata": {},
   "outputs": [
    {
     "name": "stdout",
     "output_type": "stream",
     "text": [
      "[0, 2, 4, 6, 8]\n"
     ]
    }
   ],
   "source": [
    "l = []\n",
    "for i in range(10):\n",
    "    if i%2 == 0:\n",
    "        l.append(i)\n",
    "print(l)"
   ]
  },
  {
   "cell_type": "code",
   "execution_count": 10,
   "id": "501b3f06",
   "metadata": {},
   "outputs": [
    {
     "data": {
      "text/plain": [
       "[0, 2, 4, 6, 8]"
      ]
     },
     "execution_count": 10,
     "metadata": {},
     "output_type": "execute_result"
    }
   ],
   "source": [
    "[i for i in range(10) if i%2 == 0]"
   ]
  },
  {
   "cell_type": "code",
   "execution_count": 11,
   "id": "0eaf4e9f",
   "metadata": {},
   "outputs": [
    {
     "name": "stdout",
     "output_type": "stream",
     "text": [
      "['even', 'odd', 'even', 'odd', 'even', 'odd', 'even', 'odd', 'even', 'odd']\n"
     ]
    }
   ],
   "source": [
    "l = []\n",
    "for i in range(10):\n",
    "    if i % 2 != 0:\n",
    "        l.append('odd')\n",
    "    else:\n",
    "        l.append('even')\n",
    "print(l)"
   ]
  },
  {
   "cell_type": "code",
   "execution_count": 12,
   "id": "4cdf33aa",
   "metadata": {},
   "outputs": [
    {
     "data": {
      "text/plain": [
       "['even', 'odd', 'even', 'odd', 'even', 'odd', 'even', 'odd', 'even', 'odd']"
      ]
     },
     "execution_count": 12,
     "metadata": {},
     "output_type": "execute_result"
    }
   ],
   "source": [
    "['odd' if i%2 !=0 else 'even' for i in range(10)]"
   ]
  },
  {
   "cell_type": "code",
   "execution_count": 13,
   "id": "0c5b6f30",
   "metadata": {},
   "outputs": [
    {
     "data": {
      "text/plain": [
       "[[0, 1, 2], [0, 1, 2], [0, 1, 2]]"
      ]
     },
     "execution_count": 13,
     "metadata": {},
     "output_type": "execute_result"
    }
   ],
   "source": [
    "mat=[]\n",
    "for i in range(3):\n",
    "    mat.append([])\n",
    "    for j in range(3):\n",
    "        mat[i].append(j)\n",
    "mat"
   ]
  },
  {
   "cell_type": "code",
   "execution_count": 14,
   "id": "62aa3eb1",
   "metadata": {},
   "outputs": [
    {
     "data": {
      "text/plain": [
       "[[0, 1, 2], [0, 1, 2], [0, 1, 2]]"
      ]
     },
     "execution_count": 14,
     "metadata": {},
     "output_type": "execute_result"
    }
   ],
   "source": [
    "[[j for j in range(3)]for i in range(3)]"
   ]
  },
  {
   "cell_type": "code",
   "execution_count": 18,
   "id": "d4f7fb8d",
   "metadata": {},
   "outputs": [
    {
     "data": {
      "text/plain": [
       "[0, 6]"
      ]
     },
     "execution_count": 18,
     "metadata": {},
     "output_type": "execute_result"
    }
   ],
   "source": [
    "[i for i in range(10) if i%2==0 if i%3==0 ]"
   ]
  },
  {
   "cell_type": "code",
   "execution_count": 20,
   "id": "42c5ce0b",
   "metadata": {},
   "outputs": [
    {
     "data": {
      "text/plain": [
       "[0, 6]"
      ]
     },
     "execution_count": 20,
     "metadata": {},
     "output_type": "execute_result"
    }
   ],
   "source": [
    "l= []\n",
    "for i in range(10):\n",
    "    if i%2 == 0 and i%3==0:\n",
    "        l.append(i)\n",
    "l"
   ]
  },
  {
   "cell_type": "code",
   "execution_count": 21,
   "id": "c1ff0ba8",
   "metadata": {},
   "outputs": [
    {
     "data": {
      "text/plain": [
       "[0, 1, 2, 3, 4, 5, 6, 7, 8, 9]"
      ]
     },
     "execution_count": 21,
     "metadata": {},
     "output_type": "execute_result"
    }
   ],
   "source": [
    "l=[]\n",
    "for i in range(10):\n",
    "    l.append(i)\n",
    "l"
   ]
  },
  {
   "cell_type": "code",
   "execution_count": 24,
   "id": "197cce3e",
   "metadata": {},
   "outputs": [
    {
     "data": {
      "text/plain": [
       "['not', 'not', 'yes', 'not', 'no', 'not', 'not', 'not', 'not', 'not']"
      ]
     },
     "execution_count": 24,
     "metadata": {},
     "output_type": "execute_result"
    }
   ],
   "source": [
    "['yes' if i==2 else 'no' if i==4 else 'not' for i in l]"
   ]
  },
  {
   "cell_type": "code",
   "execution_count": 26,
   "id": "faf51440",
   "metadata": {},
   "outputs": [
    {
     "data": {
      "text/plain": [
       "['not', 'not', 'yes', 'not', 'no', 'not', 'not', 'not', 'not', 'not']"
      ]
     },
     "execution_count": 26,
     "metadata": {},
     "output_type": "execute_result"
    }
   ],
   "source": [
    "l=[]\n",
    "for i in range(10):\n",
    "    if i==2:\n",
    "        l.append('yes')\n",
    "    elif i==4:\n",
    "        l.append('no')\n",
    "    else:\n",
    "        l.append('not')\n",
    "l"
   ]
  },
  {
   "cell_type": "code",
   "execution_count": 27,
   "id": "060c13cc",
   "metadata": {},
   "outputs": [
    {
     "data": {
      "text/plain": [
       "['yes', 'stop', 'yes', 'stop', 'yes', 'stop', 'yes', 'stop', 'yes', 'stop']"
      ]
     },
     "execution_count": 27,
     "metadata": {},
     "output_type": "execute_result"
    }
   ],
   "source": [
    "['yes' if i%2==0 else 'no' if i%4==0 else 'stop' for i in range(10)]"
   ]
  }
 ],
 "metadata": {
  "kernelspec": {
   "display_name": "Python 3",
   "language": "python",
   "name": "python3"
  },
  "language_info": {
   "codemirror_mode": {
    "name": "ipython",
    "version": 3
   },
   "file_extension": ".py",
   "mimetype": "text/x-python",
   "name": "python",
   "nbconvert_exporter": "python",
   "pygments_lexer": "ipython3",
   "version": "3.8.8"
  }
 },
 "nbformat": 4,
 "nbformat_minor": 5
}
